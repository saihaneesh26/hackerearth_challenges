{
  "nbformat": 4,
  "nbformat_minor": 0,
  "metadata": {
    "colab": {
      "name": "hackerearth-predict_the_power.ipynb",
      "provenance": [],
      "collapsed_sections": [],
      "authorship_tag": "ABX9TyOc4PyZkQtOfJZsak+jxTWU",
      "include_colab_link": true
    },
    "kernelspec": {
      "name": "python3",
      "display_name": "Python 3"
    },
    "language_info": {
      "name": "python"
    },
    "accelerator": "GPU"
  },
  "cells": [
    {
      "cell_type": "markdown",
      "metadata": {
        "id": "view-in-github",
        "colab_type": "text"
      },
      "source": [
        "<a href=\"https://colab.research.google.com/github/saihaneesh26/hackerearth_challenges/blob/main/hackerearth_predict_the_power.ipynb\" target=\"_parent\"><img src=\"https://colab.research.google.com/assets/colab-badge.svg\" alt=\"Open In Colab\"/></a>"
      ]
    },
    {
      "cell_type": "code",
      "metadata": {
        "id": "S7E-EHH43rIb"
      },
      "source": [
        "#highest accuracy is obtained using RandomForestClassifier - 95.01% - n_estimators=100\n",
        "#DecisionTree - 93%\n",
        "#SVM -  60%\n",
        "#other  approx 30-50%\n",
        "#Rank in contest - 195\n",
        "import random\n",
        "import tensorflow as tf\n",
        "import numpy as np\n",
        "import pandas as pd\n",
        "from sklearn.preprocessing import StandardScaler\n",
        "from sklearn.model_selection import train_test_split\n",
        "from sklearn.decomposition import PCA"
      ],
      "execution_count": null,
      "outputs": []
    },
    {
      "cell_type": "code",
      "metadata": {
        "colab": {
          "base_uri": "https://localhost:8080/",
          "height": 774
        },
        "id": "yGqGSeza44Ji",
        "outputId": "8bc98486-4647-4aec-e73b-f0721dfe25e9"
      },
      "source": [
        "main_db = pd.read_csv('/content/train.csv')\n",
        "main_db"
      ],
      "execution_count": null,
      "outputs": [
        {
          "output_type": "execute_result",
          "data": {
            "text/html": [
              "<div>\n",
              "<style scoped>\n",
              "    .dataframe tbody tr th:only-of-type {\n",
              "        vertical-align: middle;\n",
              "    }\n",
              "\n",
              "    .dataframe tbody tr th {\n",
              "        vertical-align: top;\n",
              "    }\n",
              "\n",
              "    .dataframe thead th {\n",
              "        text-align: right;\n",
              "    }\n",
              "</style>\n",
              "<table border=\"1\" class=\"dataframe\">\n",
              "  <thead>\n",
              "    <tr style=\"text-align: right;\">\n",
              "      <th></th>\n",
              "      <th>tracking_id</th>\n",
              "      <th>datetime</th>\n",
              "      <th>wind_speed(m/s)</th>\n",
              "      <th>atmospheric_temperature(°C)</th>\n",
              "      <th>shaft_temperature(°C)</th>\n",
              "      <th>blades_angle(°)</th>\n",
              "      <th>gearbox_temperature(°C)</th>\n",
              "      <th>engine_temperature(°C)</th>\n",
              "      <th>motor_torque(N-m)</th>\n",
              "      <th>generator_temperature(°C)</th>\n",
              "      <th>atmospheric_pressure(Pascal)</th>\n",
              "      <th>area_temperature(°C)</th>\n",
              "      <th>windmill_body_temperature(°C)</th>\n",
              "      <th>wind_direction(°)</th>\n",
              "      <th>resistance(ohm)</th>\n",
              "      <th>rotor_torque(N-m)</th>\n",
              "      <th>turbine_status</th>\n",
              "      <th>cloud_level</th>\n",
              "      <th>blade_length(m)</th>\n",
              "      <th>blade_breadth(m)</th>\n",
              "      <th>windmill_height(m)</th>\n",
              "      <th>windmill_generated_power(kW/h)</th>\n",
              "    </tr>\n",
              "  </thead>\n",
              "  <tbody>\n",
              "    <tr>\n",
              "      <th>0</th>\n",
              "      <td>WM_33725</td>\n",
              "      <td>2019-08-04 14:33:20</td>\n",
              "      <td>94.820023</td>\n",
              "      <td>-99.000000</td>\n",
              "      <td>41.723019</td>\n",
              "      <td>-0.903423</td>\n",
              "      <td>82.410573</td>\n",
              "      <td>42.523015</td>\n",
              "      <td>2563.124522</td>\n",
              "      <td>76.665560</td>\n",
              "      <td>103402.961872</td>\n",
              "      <td>26.897875</td>\n",
              "      <td>NaN</td>\n",
              "      <td>239.836388</td>\n",
              "      <td>2730.310605</td>\n",
              "      <td>42.084666</td>\n",
              "      <td>BA</td>\n",
              "      <td>Medium</td>\n",
              "      <td>2.217542</td>\n",
              "      <td>0.314065</td>\n",
              "      <td>24.281689</td>\n",
              "      <td>6.766521</td>\n",
              "    </tr>\n",
              "    <tr>\n",
              "      <th>1</th>\n",
              "      <td>WM_698</td>\n",
              "      <td>2018-11-05 10:13:20</td>\n",
              "      <td>241.832734</td>\n",
              "      <td>27.764785</td>\n",
              "      <td>-99.000000</td>\n",
              "      <td>-99.000000</td>\n",
              "      <td>44.104919</td>\n",
              "      <td>46.258870</td>\n",
              "      <td>2372.384119</td>\n",
              "      <td>78.129803</td>\n",
              "      <td>17030.904078</td>\n",
              "      <td>39.801469</td>\n",
              "      <td>NaN</td>\n",
              "      <td>337.944723</td>\n",
              "      <td>1780.207200</td>\n",
              "      <td>107.888643</td>\n",
              "      <td>A2</td>\n",
              "      <td>Medium</td>\n",
              "      <td>4.210346</td>\n",
              "      <td>0.448494</td>\n",
              "      <td>27.262139</td>\n",
              "      <td>5.966275</td>\n",
              "    </tr>\n",
              "    <tr>\n",
              "      <th>2</th>\n",
              "      <td>WM_39146</td>\n",
              "      <td>2019-09-14 14:03:20</td>\n",
              "      <td>95.484724</td>\n",
              "      <td>NaN</td>\n",
              "      <td>41.855473</td>\n",
              "      <td>12.652763</td>\n",
              "      <td>42.322098</td>\n",
              "      <td>42.878552</td>\n",
              "      <td>1657.169646</td>\n",
              "      <td>67.654469</td>\n",
              "      <td>16125.927107</td>\n",
              "      <td>36.116065</td>\n",
              "      <td>45.033197</td>\n",
              "      <td>227.850294</td>\n",
              "      <td>1666.049900</td>\n",
              "      <td>-42.931459</td>\n",
              "      <td>ABC</td>\n",
              "      <td>Medium</td>\n",
              "      <td>2.719475</td>\n",
              "      <td>0.302321</td>\n",
              "      <td>27.366127</td>\n",
              "      <td>2.874342</td>\n",
              "    </tr>\n",
              "    <tr>\n",
              "      <th>3</th>\n",
              "      <td>WM_6757</td>\n",
              "      <td>2018-12-25 15:33:20</td>\n",
              "      <td>238.819424</td>\n",
              "      <td>-99.000000</td>\n",
              "      <td>45.443914</td>\n",
              "      <td>15.115323</td>\n",
              "      <td>44.759643</td>\n",
              "      <td>47.282101</td>\n",
              "      <td>2888.134079</td>\n",
              "      <td>95.389974</td>\n",
              "      <td>18689.732336</td>\n",
              "      <td>46.020045</td>\n",
              "      <td>44.827154</td>\n",
              "      <td>492.081520</td>\n",
              "      <td>1964.502895</td>\n",
              "      <td>42.744596</td>\n",
              "      <td>ABC</td>\n",
              "      <td>NaN</td>\n",
              "      <td>4.857385</td>\n",
              "      <td>0.367140</td>\n",
              "      <td>24.287767</td>\n",
              "      <td>14.851089</td>\n",
              "    </tr>\n",
              "    <tr>\n",
              "      <th>4</th>\n",
              "      <td>WM_21521</td>\n",
              "      <td>2019-05-04 03:13:20</td>\n",
              "      <td>10.722890</td>\n",
              "      <td>NaN</td>\n",
              "      <td>41.981183</td>\n",
              "      <td>1.715696</td>\n",
              "      <td>-17.616459</td>\n",
              "      <td>43.469852</td>\n",
              "      <td>781.695419</td>\n",
              "      <td>37.423065</td>\n",
              "      <td>114468.169007</td>\n",
              "      <td>34.572941</td>\n",
              "      <td>-99.000000</td>\n",
              "      <td>259.274601</td>\n",
              "      <td>1177.516152</td>\n",
              "      <td>13.387289</td>\n",
              "      <td>AAA</td>\n",
              "      <td>Medium</td>\n",
              "      <td>NaN</td>\n",
              "      <td>0.453374</td>\n",
              "      <td>27.971650</td>\n",
              "      <td>3.519074</td>\n",
              "    </tr>\n",
              "    <tr>\n",
              "      <th>...</th>\n",
              "      <td>...</td>\n",
              "      <td>...</td>\n",
              "      <td>...</td>\n",
              "      <td>...</td>\n",
              "      <td>...</td>\n",
              "      <td>...</td>\n",
              "      <td>...</td>\n",
              "      <td>...</td>\n",
              "      <td>...</td>\n",
              "      <td>...</td>\n",
              "      <td>...</td>\n",
              "      <td>...</td>\n",
              "      <td>...</td>\n",
              "      <td>...</td>\n",
              "      <td>...</td>\n",
              "      <td>...</td>\n",
              "      <td>...</td>\n",
              "      <td>...</td>\n",
              "      <td>...</td>\n",
              "      <td>...</td>\n",
              "      <td>...</td>\n",
              "      <td>...</td>\n",
              "    </tr>\n",
              "    <tr>\n",
              "      <th>28195</th>\n",
              "      <td>WM_7814</td>\n",
              "      <td>2019-01-02 02:43:20</td>\n",
              "      <td>94.765699</td>\n",
              "      <td>23.576793</td>\n",
              "      <td>45.399352</td>\n",
              "      <td>5.377222</td>\n",
              "      <td>-1.085171</td>\n",
              "      <td>48.528248</td>\n",
              "      <td>2791.600990</td>\n",
              "      <td>90.898875</td>\n",
              "      <td>19428.725079</td>\n",
              "      <td>45.429230</td>\n",
              "      <td>44.242269</td>\n",
              "      <td>536.153413</td>\n",
              "      <td>1980.861921</td>\n",
              "      <td>45.909054</td>\n",
              "      <td>BB</td>\n",
              "      <td>Medium</td>\n",
              "      <td>2.774335</td>\n",
              "      <td>0.418299</td>\n",
              "      <td>24.590801</td>\n",
              "      <td>9.587934</td>\n",
              "    </tr>\n",
              "    <tr>\n",
              "      <th>28196</th>\n",
              "      <td>WM_32512</td>\n",
              "      <td>2019-07-26 12:53:20</td>\n",
              "      <td>94.196738</td>\n",
              "      <td>24.034329</td>\n",
              "      <td>42.068979</td>\n",
              "      <td>-99.000000</td>\n",
              "      <td>44.285153</td>\n",
              "      <td>43.487939</td>\n",
              "      <td>2207.882276</td>\n",
              "      <td>72.244645</td>\n",
              "      <td>16596.485400</td>\n",
              "      <td>25.142681</td>\n",
              "      <td>43.616412</td>\n",
              "      <td>354.239825</td>\n",
              "      <td>1712.840457</td>\n",
              "      <td>36.974913</td>\n",
              "      <td>BB</td>\n",
              "      <td>Low</td>\n",
              "      <td>-3.250989</td>\n",
              "      <td>0.461531</td>\n",
              "      <td>26.051604</td>\n",
              "      <td>4.522195</td>\n",
              "    </tr>\n",
              "    <tr>\n",
              "      <th>28197</th>\n",
              "      <td>WM_5193</td>\n",
              "      <td>2018-12-12 02:13:20</td>\n",
              "      <td>94.160463</td>\n",
              "      <td>28.674296</td>\n",
              "      <td>45.004213</td>\n",
              "      <td>9.550358</td>\n",
              "      <td>49.377706</td>\n",
              "      <td>44.042632</td>\n",
              "      <td>2801.657374</td>\n",
              "      <td>94.814637</td>\n",
              "      <td>19083.881449</td>\n",
              "      <td>45.129442</td>\n",
              "      <td>43.576510</td>\n",
              "      <td>534.209913</td>\n",
              "      <td>1951.728713</td>\n",
              "      <td>88.319152</td>\n",
              "      <td>D</td>\n",
              "      <td>Medium</td>\n",
              "      <td>NaN</td>\n",
              "      <td>0.380264</td>\n",
              "      <td>28.533850</td>\n",
              "      <td>11.096599</td>\n",
              "    </tr>\n",
              "    <tr>\n",
              "      <th>28198</th>\n",
              "      <td>WM_12173</td>\n",
              "      <td>2019-02-03 19:13:20</td>\n",
              "      <td>95.430377</td>\n",
              "      <td>26.560254</td>\n",
              "      <td>48.032624</td>\n",
              "      <td>3.051389</td>\n",
              "      <td>81.443896</td>\n",
              "      <td>44.821365</td>\n",
              "      <td>2760.647280</td>\n",
              "      <td>90.144418</td>\n",
              "      <td>18360.785707</td>\n",
              "      <td>45.603927</td>\n",
              "      <td>44.973415</td>\n",
              "      <td>568.504898</td>\n",
              "      <td>1968.917692</td>\n",
              "      <td>47.562627</td>\n",
              "      <td>BCB</td>\n",
              "      <td>Low</td>\n",
              "      <td>3.001855</td>\n",
              "      <td>0.346447</td>\n",
              "      <td>47.747269</td>\n",
              "      <td>9.373239</td>\n",
              "    </tr>\n",
              "    <tr>\n",
              "      <th>28199</th>\n",
              "      <td>WM_33004</td>\n",
              "      <td>2019-07-30 11:43:20</td>\n",
              "      <td>43.558352</td>\n",
              "      <td>18.721231</td>\n",
              "      <td>9.220208</td>\n",
              "      <td>2.593639</td>\n",
              "      <td>40.262279</td>\n",
              "      <td>40.901975</td>\n",
              "      <td>2015.977410</td>\n",
              "      <td>69.043447</td>\n",
              "      <td>-256507.547672</td>\n",
              "      <td>22.413407</td>\n",
              "      <td>44.100782</td>\n",
              "      <td>320.498070</td>\n",
              "      <td>1666.526546</td>\n",
              "      <td>-8.932053</td>\n",
              "      <td>BBB</td>\n",
              "      <td>Low</td>\n",
              "      <td>NaN</td>\n",
              "      <td>0.388855</td>\n",
              "      <td>24.125408</td>\n",
              "      <td>2.860342</td>\n",
              "    </tr>\n",
              "  </tbody>\n",
              "</table>\n",
              "<p>28200 rows × 22 columns</p>\n",
              "</div>"
            ],
            "text/plain": [
              "      tracking_id  ... windmill_generated_power(kW/h)\n",
              "0        WM_33725  ...                       6.766521\n",
              "1          WM_698  ...                       5.966275\n",
              "2        WM_39146  ...                       2.874342\n",
              "3         WM_6757  ...                      14.851089\n",
              "4        WM_21521  ...                       3.519074\n",
              "...           ...  ...                            ...\n",
              "28195     WM_7814  ...                       9.587934\n",
              "28196    WM_32512  ...                       4.522195\n",
              "28197     WM_5193  ...                      11.096599\n",
              "28198    WM_12173  ...                       9.373239\n",
              "28199    WM_33004  ...                       2.860342\n",
              "\n",
              "[28200 rows x 22 columns]"
            ]
          },
          "metadata": {
            "tags": []
          },
          "execution_count": 108
        }
      ]
    },
    {
      "cell_type": "code",
      "metadata": {
        "colab": {
          "base_uri": "https://localhost:8080/"
        },
        "id": "YPox7lil5GSs",
        "outputId": "d8e38330-bd12-448a-aadd-5786e9a6eae6"
      },
      "source": [
        "main_db.columns\n",
        "\n",
        "main_db['cloud_level'].count()"
      ],
      "execution_count": null,
      "outputs": [
        {
          "output_type": "execute_result",
          "data": {
            "text/plain": [
              "27924"
            ]
          },
          "metadata": {
            "tags": []
          },
          "execution_count": 128
        }
      ]
    },
    {
      "cell_type": "code",
      "metadata": {
        "id": "CL0j7iGk5IaD"
      },
      "source": [
        "main_db = main_db.dropna(subset=[\"tracking_id\",\"datetime\"])"
      ],
      "execution_count": null,
      "outputs": []
    },
    {
      "cell_type": "code",
      "metadata": {
        "id": "MyRpG7pg5yZ9"
      },
      "source": [
        "main_db1 = main_db.fillna(main_db.mean())"
      ],
      "execution_count": null,
      "outputs": []
    },
    {
      "cell_type": "code",
      "metadata": {
        "id": "-U_BD4T989IA",
        "colab": {
          "base_uri": "https://localhost:8080/"
        },
        "outputId": "f0eb9672-f21e-4e80-bfa6-63996472c22f"
      },
      "source": [
        "mode1 = main_db[\"cloud_level\"].value_counts()\n",
        "print(mode1)\n",
        "#mode2=main_db[\"turbine_status\"].value_counts()\n",
        "\n",
        "def mod1():\n",
        "  x = random.randint(0,9)\n",
        "  if(x%2==0):\n",
        "    return 'Low'\n",
        "  else:\n",
        "    return 'Medium'\n",
        "main_db1[\"cloud_level\"].fillna(mod1(),inplace=True)\n",
        "main_db1[\"turbine_status\"].fillna(\"BB\",inplace=True)\n",
        "mode1 = main_db[\"cloud_level\"].value_counts()\n",
        "print(mode1)"
      ],
      "execution_count": null,
      "outputs": [
        {
          "output_type": "stream",
          "text": [
            "Low              13921\n",
            "Medium           13704\n",
            "Extremely Low      299\n",
            "Name: cloud_level, dtype: int64\n",
            "Low              13921\n",
            "Medium           13704\n",
            "Extremely Low      299\n",
            "Name: cloud_level, dtype: int64\n"
          ],
          "name": "stdout"
        }
      ]
    },
    {
      "cell_type": "code",
      "metadata": {
        "colab": {
          "base_uri": "https://localhost:8080/"
        },
        "id": "-uzjLXar9r8p",
        "outputId": "1e764653-a237-46a2-cd33-7e77a5b22ad9"
      },
      "source": [
        "db1 = pd.get_dummies(main_db1,columns = [\"cloud_level\",\"turbine_status\"])\n",
        "tid=np.array(db1[\"tracking_id\"])\n",
        "dt = np.array(db1[\"datetime\"])\n",
        "Y_DB = np.array(db1[\"windmill_generated_power(kW/h)\"])\n",
        "Y_DB = Y_DB.reshape(-1,1)\n",
        "s = StandardScaler()\n",
        "s.fit_transform(Y_DB)"
      ],
      "execution_count": null,
      "outputs": [
        {
          "output_type": "execute_result",
          "data": {
            "text/plain": [
              "array([[ 0.23664324],\n",
              "       [-0.06111673],\n",
              "       [-1.2115804 ],\n",
              "       ...,\n",
              "       [ 1.84780309],\n",
              "       [ 1.20656568],\n",
              "       [-1.21678959]])"
            ]
          },
          "metadata": {
            "tags": []
          },
          "execution_count": 132
        }
      ]
    },
    {
      "cell_type": "code",
      "metadata": {
        "colab": {
          "base_uri": "https://localhost:8080/"
        },
        "id": "pvDnIra2DGi-",
        "outputId": "b69db8be-06ad-4a7c-cdbb-14ef73d43ef0"
      },
      "source": [
        "db2 = db1.drop(columns=['tracking_id',\"datetime\"])\n",
        "print(str(db2.isnull().sum()))"
      ],
      "execution_count": null,
      "outputs": [
        {
          "output_type": "stream",
          "text": [
            "wind_speed(m/s)                   0\n",
            "atmospheric_temperature(°C)       0\n",
            "shaft_temperature(°C)             0\n",
            "blades_angle(°)                   0\n",
            "gearbox_temperature(°C)           0\n",
            "engine_temperature(°C)            0\n",
            "motor_torque(N-m)                 0\n",
            "generator_temperature(°C)         0\n",
            "atmospheric_pressure(Pascal)      0\n",
            "area_temperature(°C)              0\n",
            "windmill_body_temperature(°C)     0\n",
            "wind_direction(°)                 0\n",
            "resistance(ohm)                   0\n",
            "rotor_torque(N-m)                 0\n",
            "blade_length(m)                   0\n",
            "blade_breadth(m)                  0\n",
            "windmill_height(m)                0\n",
            "windmill_generated_power(kW/h)    0\n",
            "cloud_level_Extremely Low         0\n",
            "cloud_level_Low                   0\n",
            "cloud_level_Medium                0\n",
            "turbine_status_A                  0\n",
            "turbine_status_A2                 0\n",
            "turbine_status_AAA                0\n",
            "turbine_status_AB                 0\n",
            "turbine_status_ABC                0\n",
            "turbine_status_AC                 0\n",
            "turbine_status_B                  0\n",
            "turbine_status_B2                 0\n",
            "turbine_status_BA                 0\n",
            "turbine_status_BB                 0\n",
            "turbine_status_BBB                0\n",
            "turbine_status_BCB                0\n",
            "turbine_status_BD                 0\n",
            "turbine_status_D                  0\n",
            "dtype: int64\n"
          ],
          "name": "stdout"
        }
      ]
    },
    {
      "cell_type": "code",
      "metadata": {
        "id": "TTjF5e4pDb8L",
        "colab": {
          "base_uri": "https://localhost:8080/",
          "height": 438
        },
        "outputId": "958cc821-38ae-4a1f-eee1-6b5ce4373542"
      },
      "source": [
        "# minval=db2.min()\n",
        "# maxval = db2.max()\n",
        "\n",
        "# db2 -=db2.min()\n",
        "# db2 /=db2.max()\n",
        "\n",
        "scaler = StandardScaler()\n",
        "\n",
        "scaled_features =  scaler.fit_transform(db2.values)\n",
        "db2 =pd.DataFrame(scaled_features,index = db2.index,columns=db2.columns)\n",
        "db2"
      ],
      "execution_count": null,
      "outputs": [
        {
          "output_type": "execute_result",
          "data": {
            "text/html": [
              "<div>\n",
              "<style scoped>\n",
              "    .dataframe tbody tr th:only-of-type {\n",
              "        vertical-align: middle;\n",
              "    }\n",
              "\n",
              "    .dataframe tbody tr th {\n",
              "        vertical-align: top;\n",
              "    }\n",
              "\n",
              "    .dataframe thead th {\n",
              "        text-align: right;\n",
              "    }\n",
              "</style>\n",
              "<table border=\"1\" class=\"dataframe\">\n",
              "  <thead>\n",
              "    <tr style=\"text-align: right;\">\n",
              "      <th></th>\n",
              "      <th>wind_speed(m/s)</th>\n",
              "      <th>atmospheric_temperature(°C)</th>\n",
              "      <th>shaft_temperature(°C)</th>\n",
              "      <th>blades_angle(°)</th>\n",
              "      <th>gearbox_temperature(°C)</th>\n",
              "      <th>engine_temperature(°C)</th>\n",
              "      <th>motor_torque(N-m)</th>\n",
              "      <th>generator_temperature(°C)</th>\n",
              "      <th>atmospheric_pressure(Pascal)</th>\n",
              "      <th>area_temperature(°C)</th>\n",
              "      <th>windmill_body_temperature(°C)</th>\n",
              "      <th>wind_direction(°)</th>\n",
              "      <th>resistance(ohm)</th>\n",
              "      <th>rotor_torque(N-m)</th>\n",
              "      <th>blade_length(m)</th>\n",
              "      <th>blade_breadth(m)</th>\n",
              "      <th>windmill_height(m)</th>\n",
              "      <th>windmill_generated_power(kW/h)</th>\n",
              "      <th>cloud_level_Extremely Low</th>\n",
              "      <th>cloud_level_Low</th>\n",
              "      <th>cloud_level_Medium</th>\n",
              "      <th>turbine_status_A</th>\n",
              "      <th>turbine_status_A2</th>\n",
              "      <th>turbine_status_AAA</th>\n",
              "      <th>turbine_status_AB</th>\n",
              "      <th>turbine_status_ABC</th>\n",
              "      <th>turbine_status_AC</th>\n",
              "      <th>turbine_status_B</th>\n",
              "      <th>turbine_status_B2</th>\n",
              "      <th>turbine_status_BA</th>\n",
              "      <th>turbine_status_BB</th>\n",
              "      <th>turbine_status_BBB</th>\n",
              "      <th>turbine_status_BCB</th>\n",
              "      <th>turbine_status_BD</th>\n",
              "      <th>turbine_status_D</th>\n",
              "    </tr>\n",
              "  </thead>\n",
              "  <tbody>\n",
              "    <tr>\n",
              "      <th>0</th>\n",
              "      <td>0.339678</td>\n",
              "      <td>-2.395895e+00</td>\n",
              "      <td>0.060200</td>\n",
              "      <td>0.183323</td>\n",
              "      <td>0.947798</td>\n",
              "      <td>-0.014898</td>\n",
              "      <td>1.030799</td>\n",
              "      <td>0.587409</td>\n",
              "      <td>0.281690</td>\n",
              "      <td>-0.757760</td>\n",
              "      <td>1.638824e-15</td>\n",
              "      <td>-0.552695</td>\n",
              "      <td>2.389258</td>\n",
              "      <td>0.505869</td>\n",
              "      <td>-3.575426e-03</td>\n",
              "      <td>-1.360164</td>\n",
              "      <td>-0.208536</td>\n",
              "      <td>0.236643</td>\n",
              "      <td>-0.10352</td>\n",
              "      <td>-0.987385</td>\n",
              "      <td>1.008547</td>\n",
              "      <td>-0.27105</td>\n",
              "      <td>-0.265352</td>\n",
              "      <td>-0.271727</td>\n",
              "      <td>-0.266346</td>\n",
              "      <td>-0.266270</td>\n",
              "      <td>-0.264969</td>\n",
              "      <td>-0.267414</td>\n",
              "      <td>-0.271125</td>\n",
              "      <td>3.769663</td>\n",
              "      <td>-0.388916</td>\n",
              "      <td>-0.262740</td>\n",
              "      <td>-0.271276</td>\n",
              "      <td>-0.264432</td>\n",
              "      <td>-0.270446</td>\n",
              "    </tr>\n",
              "    <tr>\n",
              "      <th>1</th>\n",
              "      <td>2.276497</td>\n",
              "      <td>6.600893e-01</td>\n",
              "      <td>-5.112873</td>\n",
              "      <td>-1.871769</td>\n",
              "      <td>0.070477</td>\n",
              "      <td>0.595223</td>\n",
              "      <td>0.800113</td>\n",
              "      <td>0.661316</td>\n",
              "      <td>-0.202802</td>\n",
              "      <td>0.917324</td>\n",
              "      <td>1.638824e-15</td>\n",
              "      <td>0.255984</td>\n",
              "      <td>0.423429</td>\n",
              "      <td>2.556295</td>\n",
              "      <td>1.916728e-01</td>\n",
              "      <td>0.837934</td>\n",
              "      <td>0.178623</td>\n",
              "      <td>-0.061117</td>\n",
              "      <td>-0.10352</td>\n",
              "      <td>-0.987385</td>\n",
              "      <td>1.008547</td>\n",
              "      <td>-0.27105</td>\n",
              "      <td>3.768575</td>\n",
              "      <td>-0.271727</td>\n",
              "      <td>-0.266346</td>\n",
              "      <td>-0.266270</td>\n",
              "      <td>-0.264969</td>\n",
              "      <td>-0.267414</td>\n",
              "      <td>-0.271125</td>\n",
              "      <td>-0.265276</td>\n",
              "      <td>-0.388916</td>\n",
              "      <td>-0.262740</td>\n",
              "      <td>-0.271276</td>\n",
              "      <td>-0.264432</td>\n",
              "      <td>-0.270446</td>\n",
              "    </tr>\n",
              "    <tr>\n",
              "      <th>2</th>\n",
              "      <td>0.348435</td>\n",
              "      <td>4.550003e-17</td>\n",
              "      <td>0.065070</td>\n",
              "      <td>0.467320</td>\n",
              "      <td>0.029645</td>\n",
              "      <td>0.043166</td>\n",
              "      <td>-0.064886</td>\n",
              "      <td>0.132577</td>\n",
              "      <td>-0.207878</td>\n",
              "      <td>0.438902</td>\n",
              "      <td>4.657748e-01</td>\n",
              "      <td>-0.651492</td>\n",
              "      <td>0.187230</td>\n",
              "      <td>-2.143199</td>\n",
              "      <td>4.560230e-02</td>\n",
              "      <td>-1.552191</td>\n",
              "      <td>0.192131</td>\n",
              "      <td>-1.211580</td>\n",
              "      <td>-0.10352</td>\n",
              "      <td>-0.987385</td>\n",
              "      <td>1.008547</td>\n",
              "      <td>-0.27105</td>\n",
              "      <td>-0.265352</td>\n",
              "      <td>-0.271727</td>\n",
              "      <td>-0.266346</td>\n",
              "      <td>3.755589</td>\n",
              "      <td>-0.264969</td>\n",
              "      <td>-0.267414</td>\n",
              "      <td>-0.271125</td>\n",
              "      <td>-0.265276</td>\n",
              "      <td>-0.388916</td>\n",
              "      <td>-0.262740</td>\n",
              "      <td>-0.271276</td>\n",
              "      <td>-0.264432</td>\n",
              "      <td>-0.270446</td>\n",
              "    </tr>\n",
              "    <tr>\n",
              "      <th>3</th>\n",
              "      <td>2.236798</td>\n",
              "      <td>-2.395895e+00</td>\n",
              "      <td>0.196983</td>\n",
              "      <td>0.518910</td>\n",
              "      <td>0.085472</td>\n",
              "      <td>0.762332</td>\n",
              "      <td>1.423874</td>\n",
              "      <td>1.532517</td>\n",
              "      <td>-0.193497</td>\n",
              "      <td>1.724590</td>\n",
              "      <td>4.618146e-01</td>\n",
              "      <td>1.526490</td>\n",
              "      <td>0.804750</td>\n",
              "      <td>0.526432</td>\n",
              "      <td>2.550675e-01</td>\n",
              "      <td>-0.492318</td>\n",
              "      <td>-0.207746</td>\n",
              "      <td>3.244795</td>\n",
              "      <td>-0.10352</td>\n",
              "      <td>-0.987385</td>\n",
              "      <td>1.008547</td>\n",
              "      <td>-0.27105</td>\n",
              "      <td>-0.265352</td>\n",
              "      <td>-0.271727</td>\n",
              "      <td>-0.266346</td>\n",
              "      <td>3.755589</td>\n",
              "      <td>-0.264969</td>\n",
              "      <td>-0.267414</td>\n",
              "      <td>-0.271125</td>\n",
              "      <td>-0.265276</td>\n",
              "      <td>-0.388916</td>\n",
              "      <td>-0.262740</td>\n",
              "      <td>-0.271276</td>\n",
              "      <td>-0.264432</td>\n",
              "      <td>-0.270446</td>\n",
              "    </tr>\n",
              "    <tr>\n",
              "      <th>4</th>\n",
              "      <td>-0.768260</td>\n",
              "      <td>4.550003e-17</td>\n",
              "      <td>0.069691</td>\n",
              "      <td>0.238192</td>\n",
              "      <td>-1.343139</td>\n",
              "      <td>0.139735</td>\n",
              "      <td>-1.123707</td>\n",
              "      <td>-1.393342</td>\n",
              "      <td>0.343759</td>\n",
              "      <td>0.238581</td>\n",
              "      <td>-2.302592e+00</td>\n",
              "      <td>-0.392471</td>\n",
              "      <td>-0.823580</td>\n",
              "      <td>-0.388330</td>\n",
              "      <td>5.221243e-16</td>\n",
              "      <td>0.917716</td>\n",
              "      <td>0.270788</td>\n",
              "      <td>-0.971685</td>\n",
              "      <td>-0.10352</td>\n",
              "      <td>-0.987385</td>\n",
              "      <td>1.008547</td>\n",
              "      <td>-0.27105</td>\n",
              "      <td>-0.265352</td>\n",
              "      <td>3.680160</td>\n",
              "      <td>-0.266346</td>\n",
              "      <td>-0.266270</td>\n",
              "      <td>-0.264969</td>\n",
              "      <td>-0.267414</td>\n",
              "      <td>-0.271125</td>\n",
              "      <td>-0.265276</td>\n",
              "      <td>-0.388916</td>\n",
              "      <td>-0.262740</td>\n",
              "      <td>-0.271276</td>\n",
              "      <td>-0.264432</td>\n",
              "      <td>-0.270446</td>\n",
              "    </tr>\n",
              "    <tr>\n",
              "      <th>...</th>\n",
              "      <td>...</td>\n",
              "      <td>...</td>\n",
              "      <td>...</td>\n",
              "      <td>...</td>\n",
              "      <td>...</td>\n",
              "      <td>...</td>\n",
              "      <td>...</td>\n",
              "      <td>...</td>\n",
              "      <td>...</td>\n",
              "      <td>...</td>\n",
              "      <td>...</td>\n",
              "      <td>...</td>\n",
              "      <td>...</td>\n",
              "      <td>...</td>\n",
              "      <td>...</td>\n",
              "      <td>...</td>\n",
              "      <td>...</td>\n",
              "      <td>...</td>\n",
              "      <td>...</td>\n",
              "      <td>...</td>\n",
              "      <td>...</td>\n",
              "      <td>...</td>\n",
              "      <td>...</td>\n",
              "      <td>...</td>\n",
              "      <td>...</td>\n",
              "      <td>...</td>\n",
              "      <td>...</td>\n",
              "      <td>...</td>\n",
              "      <td>...</td>\n",
              "      <td>...</td>\n",
              "      <td>...</td>\n",
              "      <td>...</td>\n",
              "      <td>...</td>\n",
              "      <td>...</td>\n",
              "      <td>...</td>\n",
              "    </tr>\n",
              "    <tr>\n",
              "      <th>28195</th>\n",
              "      <td>0.338962</td>\n",
              "      <td>5.591273e-01</td>\n",
              "      <td>0.195345</td>\n",
              "      <td>0.314900</td>\n",
              "      <td>-0.964520</td>\n",
              "      <td>0.965847</td>\n",
              "      <td>1.307124</td>\n",
              "      <td>1.305830</td>\n",
              "      <td>-0.189351</td>\n",
              "      <td>1.647893</td>\n",
              "      <td>4.505729e-01</td>\n",
              "      <td>1.889762</td>\n",
              "      <td>0.838597</td>\n",
              "      <td>0.625035</td>\n",
              "      <td>5.097734e-02</td>\n",
              "      <td>0.344207</td>\n",
              "      <td>-0.168382</td>\n",
              "      <td>1.286451</td>\n",
              "      <td>-0.10352</td>\n",
              "      <td>-0.987385</td>\n",
              "      <td>1.008547</td>\n",
              "      <td>-0.27105</td>\n",
              "      <td>-0.265352</td>\n",
              "      <td>-0.271727</td>\n",
              "      <td>-0.266346</td>\n",
              "      <td>-0.266270</td>\n",
              "      <td>-0.264969</td>\n",
              "      <td>-0.267414</td>\n",
              "      <td>-0.271125</td>\n",
              "      <td>-0.265276</td>\n",
              "      <td>2.571252</td>\n",
              "      <td>-0.262740</td>\n",
              "      <td>-0.271276</td>\n",
              "      <td>-0.264432</td>\n",
              "      <td>-0.270446</td>\n",
              "    </tr>\n",
              "    <tr>\n",
              "      <th>28196</th>\n",
              "      <td>0.331466</td>\n",
              "      <td>5.701573e-01</td>\n",
              "      <td>0.072918</td>\n",
              "      <td>-1.871769</td>\n",
              "      <td>0.074605</td>\n",
              "      <td>0.142688</td>\n",
              "      <td>0.601160</td>\n",
              "      <td>0.364265</td>\n",
              "      <td>-0.205238</td>\n",
              "      <td>-0.985611</td>\n",
              "      <td>4.385437e-01</td>\n",
              "      <td>0.390300</td>\n",
              "      <td>0.284043</td>\n",
              "      <td>0.346651</td>\n",
              "      <td>-5.393635e-01</td>\n",
              "      <td>1.051102</td>\n",
              "      <td>0.021375</td>\n",
              "      <td>-0.598438</td>\n",
              "      <td>-0.10352</td>\n",
              "      <td>1.012777</td>\n",
              "      <td>-0.991525</td>\n",
              "      <td>-0.27105</td>\n",
              "      <td>-0.265352</td>\n",
              "      <td>-0.271727</td>\n",
              "      <td>-0.266346</td>\n",
              "      <td>-0.266270</td>\n",
              "      <td>-0.264969</td>\n",
              "      <td>-0.267414</td>\n",
              "      <td>-0.271125</td>\n",
              "      <td>-0.265276</td>\n",
              "      <td>2.571252</td>\n",
              "      <td>-0.262740</td>\n",
              "      <td>-0.271276</td>\n",
              "      <td>-0.264432</td>\n",
              "      <td>-0.270446</td>\n",
              "    </tr>\n",
              "    <tr>\n",
              "      <th>28197</th>\n",
              "      <td>0.330988</td>\n",
              "      <td>6.820154e-01</td>\n",
              "      <td>0.180819</td>\n",
              "      <td>0.402326</td>\n",
              "      <td>0.191240</td>\n",
              "      <td>0.233278</td>\n",
              "      <td>1.319287</td>\n",
              "      <td>1.503477</td>\n",
              "      <td>-0.191286</td>\n",
              "      <td>1.608976</td>\n",
              "      <td>4.377768e-01</td>\n",
              "      <td>1.873742</td>\n",
              "      <td>0.778319</td>\n",
              "      <td>1.946517</td>\n",
              "      <td>5.221243e-16</td>\n",
              "      <td>-0.277716</td>\n",
              "      <td>0.343817</td>\n",
              "      <td>1.847803</td>\n",
              "      <td>-0.10352</td>\n",
              "      <td>-0.987385</td>\n",
              "      <td>1.008547</td>\n",
              "      <td>-0.27105</td>\n",
              "      <td>-0.265352</td>\n",
              "      <td>-0.271727</td>\n",
              "      <td>-0.266346</td>\n",
              "      <td>-0.266270</td>\n",
              "      <td>-0.264969</td>\n",
              "      <td>-0.267414</td>\n",
              "      <td>-0.271125</td>\n",
              "      <td>-0.265276</td>\n",
              "      <td>-0.388916</td>\n",
              "      <td>-0.262740</td>\n",
              "      <td>-0.271276</td>\n",
              "      <td>-0.264432</td>\n",
              "      <td>3.697596</td>\n",
              "    </tr>\n",
              "    <tr>\n",
              "      <th>28198</th>\n",
              "      <td>0.347719</td>\n",
              "      <td>6.310511e-01</td>\n",
              "      <td>0.292146</td>\n",
              "      <td>0.266175</td>\n",
              "      <td>0.925658</td>\n",
              "      <td>0.360457</td>\n",
              "      <td>1.269688</td>\n",
              "      <td>1.267749</td>\n",
              "      <td>-0.195342</td>\n",
              "      <td>1.670571</td>\n",
              "      <td>4.646258e-01</td>\n",
              "      <td>2.156426</td>\n",
              "      <td>0.813884</td>\n",
              "      <td>0.676560</td>\n",
              "      <td>7.326891e-02</td>\n",
              "      <td>-0.830666</td>\n",
              "      <td>2.839629</td>\n",
              "      <td>1.206566</td>\n",
              "      <td>-0.10352</td>\n",
              "      <td>1.012777</td>\n",
              "      <td>-0.991525</td>\n",
              "      <td>-0.27105</td>\n",
              "      <td>-0.265352</td>\n",
              "      <td>-0.271727</td>\n",
              "      <td>-0.266346</td>\n",
              "      <td>-0.266270</td>\n",
              "      <td>-0.264969</td>\n",
              "      <td>-0.267414</td>\n",
              "      <td>-0.271125</td>\n",
              "      <td>-0.265276</td>\n",
              "      <td>-0.388916</td>\n",
              "      <td>-0.262740</td>\n",
              "      <td>3.686288</td>\n",
              "      <td>-0.264432</td>\n",
              "      <td>-0.270446</td>\n",
              "    </tr>\n",
              "    <tr>\n",
              "      <th>28199</th>\n",
              "      <td>-0.335670</td>\n",
              "      <td>4.420717e-01</td>\n",
              "      <td>-1.134625</td>\n",
              "      <td>0.256585</td>\n",
              "      <td>-0.017532</td>\n",
              "      <td>-0.279638</td>\n",
              "      <td>0.369065</td>\n",
              "      <td>0.202685</td>\n",
              "      <td>-1.737176</td>\n",
              "      <td>-1.339912</td>\n",
              "      <td>4.478535e-01</td>\n",
              "      <td>0.112177</td>\n",
              "      <td>0.188216</td>\n",
              "      <td>-1.083792</td>\n",
              "      <td>5.221243e-16</td>\n",
              "      <td>-0.137253</td>\n",
              "      <td>-0.228836</td>\n",
              "      <td>-1.216790</td>\n",
              "      <td>-0.10352</td>\n",
              "      <td>1.012777</td>\n",
              "      <td>-0.991525</td>\n",
              "      <td>-0.27105</td>\n",
              "      <td>-0.265352</td>\n",
              "      <td>-0.271727</td>\n",
              "      <td>-0.266346</td>\n",
              "      <td>-0.266270</td>\n",
              "      <td>-0.264969</td>\n",
              "      <td>-0.267414</td>\n",
              "      <td>-0.271125</td>\n",
              "      <td>-0.265276</td>\n",
              "      <td>-0.388916</td>\n",
              "      <td>3.806047</td>\n",
              "      <td>-0.271276</td>\n",
              "      <td>-0.264432</td>\n",
              "      <td>-0.270446</td>\n",
              "    </tr>\n",
              "  </tbody>\n",
              "</table>\n",
              "<p>28200 rows × 35 columns</p>\n",
              "</div>"
            ],
            "text/plain": [
              "       wind_speed(m/s)  ...  turbine_status_D\n",
              "0             0.339678  ...         -0.270446\n",
              "1             2.276497  ...         -0.270446\n",
              "2             0.348435  ...         -0.270446\n",
              "3             2.236798  ...         -0.270446\n",
              "4            -0.768260  ...         -0.270446\n",
              "...                ...  ...               ...\n",
              "28195         0.338962  ...         -0.270446\n",
              "28196         0.331466  ...         -0.270446\n",
              "28197         0.330988  ...          3.697596\n",
              "28198         0.347719  ...         -0.270446\n",
              "28199        -0.335670  ...         -0.270446\n",
              "\n",
              "[28200 rows x 35 columns]"
            ]
          },
          "metadata": {
            "tags": []
          },
          "execution_count": 144
        }
      ]
    },
    {
      "cell_type": "code",
      "metadata": {
        "colab": {
          "base_uri": "https://localhost:8080/"
        },
        "id": "O7ewWsRCDihS",
        "outputId": "c686da7d-dd8e-410e-98e9-95427af6fad0"
      },
      "source": [
        "db2[\"tracking_id\"]=tid\n",
        "db2[\"datetime\"]=dt\n",
        "print(str(db2.isnull().sum()))"
      ],
      "execution_count": null,
      "outputs": [
        {
          "output_type": "stream",
          "text": [
            "wind_speed(m/s)                   0\n",
            "atmospheric_temperature(°C)       0\n",
            "shaft_temperature(°C)             0\n",
            "blades_angle(°)                   0\n",
            "gearbox_temperature(°C)           0\n",
            "engine_temperature(°C)            0\n",
            "motor_torque(N-m)                 0\n",
            "generator_temperature(°C)         0\n",
            "atmospheric_pressure(Pascal)      0\n",
            "area_temperature(°C)              0\n",
            "windmill_body_temperature(°C)     0\n",
            "wind_direction(°)                 0\n",
            "resistance(ohm)                   0\n",
            "rotor_torque(N-m)                 0\n",
            "blade_length(m)                   0\n",
            "blade_breadth(m)                  0\n",
            "windmill_height(m)                0\n",
            "windmill_generated_power(kW/h)    0\n",
            "cloud_level_Extremely Low         0\n",
            "cloud_level_Low                   0\n",
            "cloud_level_Medium                0\n",
            "turbine_status_A                  0\n",
            "turbine_status_A2                 0\n",
            "turbine_status_AAA                0\n",
            "turbine_status_AB                 0\n",
            "turbine_status_ABC                0\n",
            "turbine_status_AC                 0\n",
            "turbine_status_B                  0\n",
            "turbine_status_B2                 0\n",
            "turbine_status_BA                 0\n",
            "turbine_status_BB                 0\n",
            "turbine_status_BBB                0\n",
            "turbine_status_BCB                0\n",
            "turbine_status_BD                 0\n",
            "turbine_status_D                  0\n",
            "tracking_id                       0\n",
            "datetime                          0\n",
            "dtype: int64\n"
          ],
          "name": "stdout"
        }
      ]
    },
    {
      "cell_type": "code",
      "metadata": {
        "id": "CASx6qM7Eg8r"
      },
      "source": [
        "Y = pd.DataFrame(db2[\"windmill_generated_power(kW/h)\"])\n",
        "X = db2.drop([\"windmill_generated_power(kW/h)\",\"tracking_id\",\"datetime\"],axis=1)\n",
        "X = X.drop(columns=['wind_direction(°)','blade_length(m)','atmospheric_pressure(Pascal)','atmospheric_temperature(°C)','windmill_body_temperature(°C)'])"
      ],
      "execution_count": null,
      "outputs": []
    },
    {
      "cell_type": "code",
      "metadata": {
        "colab": {
          "base_uri": "https://localhost:8080/",
          "height": 438
        },
        "id": "B8KYKQ8iFTyj",
        "outputId": "d1b2599d-86d8-48d2-9568-2f3298d6fc13"
      },
      "source": [
        "x_train,x_test,y_train,y_test = train_test_split(X,Y)\n",
        "X"
      ],
      "execution_count": null,
      "outputs": [
        {
          "output_type": "execute_result",
          "data": {
            "text/html": [
              "<div>\n",
              "<style scoped>\n",
              "    .dataframe tbody tr th:only-of-type {\n",
              "        vertical-align: middle;\n",
              "    }\n",
              "\n",
              "    .dataframe tbody tr th {\n",
              "        vertical-align: top;\n",
              "    }\n",
              "\n",
              "    .dataframe thead th {\n",
              "        text-align: right;\n",
              "    }\n",
              "</style>\n",
              "<table border=\"1\" class=\"dataframe\">\n",
              "  <thead>\n",
              "    <tr style=\"text-align: right;\">\n",
              "      <th></th>\n",
              "      <th>wind_speed(m/s)</th>\n",
              "      <th>shaft_temperature(°C)</th>\n",
              "      <th>blades_angle(°)</th>\n",
              "      <th>gearbox_temperature(°C)</th>\n",
              "      <th>engine_temperature(°C)</th>\n",
              "      <th>motor_torque(N-m)</th>\n",
              "      <th>generator_temperature(°C)</th>\n",
              "      <th>area_temperature(°C)</th>\n",
              "      <th>resistance(ohm)</th>\n",
              "      <th>rotor_torque(N-m)</th>\n",
              "      <th>blade_breadth(m)</th>\n",
              "      <th>windmill_height(m)</th>\n",
              "      <th>cloud_level_Extremely Low</th>\n",
              "      <th>cloud_level_Low</th>\n",
              "      <th>cloud_level_Medium</th>\n",
              "      <th>turbine_status_A</th>\n",
              "      <th>turbine_status_A2</th>\n",
              "      <th>turbine_status_AAA</th>\n",
              "      <th>turbine_status_AB</th>\n",
              "      <th>turbine_status_ABC</th>\n",
              "      <th>turbine_status_AC</th>\n",
              "      <th>turbine_status_B</th>\n",
              "      <th>turbine_status_B2</th>\n",
              "      <th>turbine_status_BA</th>\n",
              "      <th>turbine_status_BB</th>\n",
              "      <th>turbine_status_BBB</th>\n",
              "      <th>turbine_status_BCB</th>\n",
              "      <th>turbine_status_BD</th>\n",
              "      <th>turbine_status_D</th>\n",
              "    </tr>\n",
              "  </thead>\n",
              "  <tbody>\n",
              "    <tr>\n",
              "      <th>0</th>\n",
              "      <td>0.339678</td>\n",
              "      <td>0.060200</td>\n",
              "      <td>0.183323</td>\n",
              "      <td>0.947798</td>\n",
              "      <td>-0.014898</td>\n",
              "      <td>1.030799</td>\n",
              "      <td>0.587409</td>\n",
              "      <td>-0.757760</td>\n",
              "      <td>2.389258</td>\n",
              "      <td>0.505869</td>\n",
              "      <td>-1.360164</td>\n",
              "      <td>-0.208536</td>\n",
              "      <td>-0.10352</td>\n",
              "      <td>-0.987385</td>\n",
              "      <td>1.008547</td>\n",
              "      <td>-0.27105</td>\n",
              "      <td>-0.265352</td>\n",
              "      <td>-0.271727</td>\n",
              "      <td>-0.266346</td>\n",
              "      <td>-0.266270</td>\n",
              "      <td>-0.264969</td>\n",
              "      <td>-0.267414</td>\n",
              "      <td>-0.271125</td>\n",
              "      <td>3.769663</td>\n",
              "      <td>-0.388916</td>\n",
              "      <td>-0.262740</td>\n",
              "      <td>-0.271276</td>\n",
              "      <td>-0.264432</td>\n",
              "      <td>-0.270446</td>\n",
              "    </tr>\n",
              "    <tr>\n",
              "      <th>1</th>\n",
              "      <td>2.276497</td>\n",
              "      <td>-5.112873</td>\n",
              "      <td>-1.871769</td>\n",
              "      <td>0.070477</td>\n",
              "      <td>0.595223</td>\n",
              "      <td>0.800113</td>\n",
              "      <td>0.661316</td>\n",
              "      <td>0.917324</td>\n",
              "      <td>0.423429</td>\n",
              "      <td>2.556295</td>\n",
              "      <td>0.837934</td>\n",
              "      <td>0.178623</td>\n",
              "      <td>-0.10352</td>\n",
              "      <td>-0.987385</td>\n",
              "      <td>1.008547</td>\n",
              "      <td>-0.27105</td>\n",
              "      <td>3.768575</td>\n",
              "      <td>-0.271727</td>\n",
              "      <td>-0.266346</td>\n",
              "      <td>-0.266270</td>\n",
              "      <td>-0.264969</td>\n",
              "      <td>-0.267414</td>\n",
              "      <td>-0.271125</td>\n",
              "      <td>-0.265276</td>\n",
              "      <td>-0.388916</td>\n",
              "      <td>-0.262740</td>\n",
              "      <td>-0.271276</td>\n",
              "      <td>-0.264432</td>\n",
              "      <td>-0.270446</td>\n",
              "    </tr>\n",
              "    <tr>\n",
              "      <th>2</th>\n",
              "      <td>0.348435</td>\n",
              "      <td>0.065070</td>\n",
              "      <td>0.467320</td>\n",
              "      <td>0.029645</td>\n",
              "      <td>0.043166</td>\n",
              "      <td>-0.064886</td>\n",
              "      <td>0.132577</td>\n",
              "      <td>0.438902</td>\n",
              "      <td>0.187230</td>\n",
              "      <td>-2.143199</td>\n",
              "      <td>-1.552191</td>\n",
              "      <td>0.192131</td>\n",
              "      <td>-0.10352</td>\n",
              "      <td>-0.987385</td>\n",
              "      <td>1.008547</td>\n",
              "      <td>-0.27105</td>\n",
              "      <td>-0.265352</td>\n",
              "      <td>-0.271727</td>\n",
              "      <td>-0.266346</td>\n",
              "      <td>3.755589</td>\n",
              "      <td>-0.264969</td>\n",
              "      <td>-0.267414</td>\n",
              "      <td>-0.271125</td>\n",
              "      <td>-0.265276</td>\n",
              "      <td>-0.388916</td>\n",
              "      <td>-0.262740</td>\n",
              "      <td>-0.271276</td>\n",
              "      <td>-0.264432</td>\n",
              "      <td>-0.270446</td>\n",
              "    </tr>\n",
              "    <tr>\n",
              "      <th>3</th>\n",
              "      <td>2.236798</td>\n",
              "      <td>0.196983</td>\n",
              "      <td>0.518910</td>\n",
              "      <td>0.085472</td>\n",
              "      <td>0.762332</td>\n",
              "      <td>1.423874</td>\n",
              "      <td>1.532517</td>\n",
              "      <td>1.724590</td>\n",
              "      <td>0.804750</td>\n",
              "      <td>0.526432</td>\n",
              "      <td>-0.492318</td>\n",
              "      <td>-0.207746</td>\n",
              "      <td>-0.10352</td>\n",
              "      <td>-0.987385</td>\n",
              "      <td>1.008547</td>\n",
              "      <td>-0.27105</td>\n",
              "      <td>-0.265352</td>\n",
              "      <td>-0.271727</td>\n",
              "      <td>-0.266346</td>\n",
              "      <td>3.755589</td>\n",
              "      <td>-0.264969</td>\n",
              "      <td>-0.267414</td>\n",
              "      <td>-0.271125</td>\n",
              "      <td>-0.265276</td>\n",
              "      <td>-0.388916</td>\n",
              "      <td>-0.262740</td>\n",
              "      <td>-0.271276</td>\n",
              "      <td>-0.264432</td>\n",
              "      <td>-0.270446</td>\n",
              "    </tr>\n",
              "    <tr>\n",
              "      <th>4</th>\n",
              "      <td>-0.768260</td>\n",
              "      <td>0.069691</td>\n",
              "      <td>0.238192</td>\n",
              "      <td>-1.343139</td>\n",
              "      <td>0.139735</td>\n",
              "      <td>-1.123707</td>\n",
              "      <td>-1.393342</td>\n",
              "      <td>0.238581</td>\n",
              "      <td>-0.823580</td>\n",
              "      <td>-0.388330</td>\n",
              "      <td>0.917716</td>\n",
              "      <td>0.270788</td>\n",
              "      <td>-0.10352</td>\n",
              "      <td>-0.987385</td>\n",
              "      <td>1.008547</td>\n",
              "      <td>-0.27105</td>\n",
              "      <td>-0.265352</td>\n",
              "      <td>3.680160</td>\n",
              "      <td>-0.266346</td>\n",
              "      <td>-0.266270</td>\n",
              "      <td>-0.264969</td>\n",
              "      <td>-0.267414</td>\n",
              "      <td>-0.271125</td>\n",
              "      <td>-0.265276</td>\n",
              "      <td>-0.388916</td>\n",
              "      <td>-0.262740</td>\n",
              "      <td>-0.271276</td>\n",
              "      <td>-0.264432</td>\n",
              "      <td>-0.270446</td>\n",
              "    </tr>\n",
              "    <tr>\n",
              "      <th>...</th>\n",
              "      <td>...</td>\n",
              "      <td>...</td>\n",
              "      <td>...</td>\n",
              "      <td>...</td>\n",
              "      <td>...</td>\n",
              "      <td>...</td>\n",
              "      <td>...</td>\n",
              "      <td>...</td>\n",
              "      <td>...</td>\n",
              "      <td>...</td>\n",
              "      <td>...</td>\n",
              "      <td>...</td>\n",
              "      <td>...</td>\n",
              "      <td>...</td>\n",
              "      <td>...</td>\n",
              "      <td>...</td>\n",
              "      <td>...</td>\n",
              "      <td>...</td>\n",
              "      <td>...</td>\n",
              "      <td>...</td>\n",
              "      <td>...</td>\n",
              "      <td>...</td>\n",
              "      <td>...</td>\n",
              "      <td>...</td>\n",
              "      <td>...</td>\n",
              "      <td>...</td>\n",
              "      <td>...</td>\n",
              "      <td>...</td>\n",
              "      <td>...</td>\n",
              "    </tr>\n",
              "    <tr>\n",
              "      <th>28195</th>\n",
              "      <td>0.338962</td>\n",
              "      <td>0.195345</td>\n",
              "      <td>0.314900</td>\n",
              "      <td>-0.964520</td>\n",
              "      <td>0.965847</td>\n",
              "      <td>1.307124</td>\n",
              "      <td>1.305830</td>\n",
              "      <td>1.647893</td>\n",
              "      <td>0.838597</td>\n",
              "      <td>0.625035</td>\n",
              "      <td>0.344207</td>\n",
              "      <td>-0.168382</td>\n",
              "      <td>-0.10352</td>\n",
              "      <td>-0.987385</td>\n",
              "      <td>1.008547</td>\n",
              "      <td>-0.27105</td>\n",
              "      <td>-0.265352</td>\n",
              "      <td>-0.271727</td>\n",
              "      <td>-0.266346</td>\n",
              "      <td>-0.266270</td>\n",
              "      <td>-0.264969</td>\n",
              "      <td>-0.267414</td>\n",
              "      <td>-0.271125</td>\n",
              "      <td>-0.265276</td>\n",
              "      <td>2.571252</td>\n",
              "      <td>-0.262740</td>\n",
              "      <td>-0.271276</td>\n",
              "      <td>-0.264432</td>\n",
              "      <td>-0.270446</td>\n",
              "    </tr>\n",
              "    <tr>\n",
              "      <th>28196</th>\n",
              "      <td>0.331466</td>\n",
              "      <td>0.072918</td>\n",
              "      <td>-1.871769</td>\n",
              "      <td>0.074605</td>\n",
              "      <td>0.142688</td>\n",
              "      <td>0.601160</td>\n",
              "      <td>0.364265</td>\n",
              "      <td>-0.985611</td>\n",
              "      <td>0.284043</td>\n",
              "      <td>0.346651</td>\n",
              "      <td>1.051102</td>\n",
              "      <td>0.021375</td>\n",
              "      <td>-0.10352</td>\n",
              "      <td>1.012777</td>\n",
              "      <td>-0.991525</td>\n",
              "      <td>-0.27105</td>\n",
              "      <td>-0.265352</td>\n",
              "      <td>-0.271727</td>\n",
              "      <td>-0.266346</td>\n",
              "      <td>-0.266270</td>\n",
              "      <td>-0.264969</td>\n",
              "      <td>-0.267414</td>\n",
              "      <td>-0.271125</td>\n",
              "      <td>-0.265276</td>\n",
              "      <td>2.571252</td>\n",
              "      <td>-0.262740</td>\n",
              "      <td>-0.271276</td>\n",
              "      <td>-0.264432</td>\n",
              "      <td>-0.270446</td>\n",
              "    </tr>\n",
              "    <tr>\n",
              "      <th>28197</th>\n",
              "      <td>0.330988</td>\n",
              "      <td>0.180819</td>\n",
              "      <td>0.402326</td>\n",
              "      <td>0.191240</td>\n",
              "      <td>0.233278</td>\n",
              "      <td>1.319287</td>\n",
              "      <td>1.503477</td>\n",
              "      <td>1.608976</td>\n",
              "      <td>0.778319</td>\n",
              "      <td>1.946517</td>\n",
              "      <td>-0.277716</td>\n",
              "      <td>0.343817</td>\n",
              "      <td>-0.10352</td>\n",
              "      <td>-0.987385</td>\n",
              "      <td>1.008547</td>\n",
              "      <td>-0.27105</td>\n",
              "      <td>-0.265352</td>\n",
              "      <td>-0.271727</td>\n",
              "      <td>-0.266346</td>\n",
              "      <td>-0.266270</td>\n",
              "      <td>-0.264969</td>\n",
              "      <td>-0.267414</td>\n",
              "      <td>-0.271125</td>\n",
              "      <td>-0.265276</td>\n",
              "      <td>-0.388916</td>\n",
              "      <td>-0.262740</td>\n",
              "      <td>-0.271276</td>\n",
              "      <td>-0.264432</td>\n",
              "      <td>3.697596</td>\n",
              "    </tr>\n",
              "    <tr>\n",
              "      <th>28198</th>\n",
              "      <td>0.347719</td>\n",
              "      <td>0.292146</td>\n",
              "      <td>0.266175</td>\n",
              "      <td>0.925658</td>\n",
              "      <td>0.360457</td>\n",
              "      <td>1.269688</td>\n",
              "      <td>1.267749</td>\n",
              "      <td>1.670571</td>\n",
              "      <td>0.813884</td>\n",
              "      <td>0.676560</td>\n",
              "      <td>-0.830666</td>\n",
              "      <td>2.839629</td>\n",
              "      <td>-0.10352</td>\n",
              "      <td>1.012777</td>\n",
              "      <td>-0.991525</td>\n",
              "      <td>-0.27105</td>\n",
              "      <td>-0.265352</td>\n",
              "      <td>-0.271727</td>\n",
              "      <td>-0.266346</td>\n",
              "      <td>-0.266270</td>\n",
              "      <td>-0.264969</td>\n",
              "      <td>-0.267414</td>\n",
              "      <td>-0.271125</td>\n",
              "      <td>-0.265276</td>\n",
              "      <td>-0.388916</td>\n",
              "      <td>-0.262740</td>\n",
              "      <td>3.686288</td>\n",
              "      <td>-0.264432</td>\n",
              "      <td>-0.270446</td>\n",
              "    </tr>\n",
              "    <tr>\n",
              "      <th>28199</th>\n",
              "      <td>-0.335670</td>\n",
              "      <td>-1.134625</td>\n",
              "      <td>0.256585</td>\n",
              "      <td>-0.017532</td>\n",
              "      <td>-0.279638</td>\n",
              "      <td>0.369065</td>\n",
              "      <td>0.202685</td>\n",
              "      <td>-1.339912</td>\n",
              "      <td>0.188216</td>\n",
              "      <td>-1.083792</td>\n",
              "      <td>-0.137253</td>\n",
              "      <td>-0.228836</td>\n",
              "      <td>-0.10352</td>\n",
              "      <td>1.012777</td>\n",
              "      <td>-0.991525</td>\n",
              "      <td>-0.27105</td>\n",
              "      <td>-0.265352</td>\n",
              "      <td>-0.271727</td>\n",
              "      <td>-0.266346</td>\n",
              "      <td>-0.266270</td>\n",
              "      <td>-0.264969</td>\n",
              "      <td>-0.267414</td>\n",
              "      <td>-0.271125</td>\n",
              "      <td>-0.265276</td>\n",
              "      <td>-0.388916</td>\n",
              "      <td>3.806047</td>\n",
              "      <td>-0.271276</td>\n",
              "      <td>-0.264432</td>\n",
              "      <td>-0.270446</td>\n",
              "    </tr>\n",
              "  </tbody>\n",
              "</table>\n",
              "<p>28200 rows × 29 columns</p>\n",
              "</div>"
            ],
            "text/plain": [
              "       wind_speed(m/s)  ...  turbine_status_D\n",
              "0             0.339678  ...         -0.270446\n",
              "1             2.276497  ...         -0.270446\n",
              "2             0.348435  ...         -0.270446\n",
              "3             2.236798  ...         -0.270446\n",
              "4            -0.768260  ...         -0.270446\n",
              "...                ...  ...               ...\n",
              "28195         0.338962  ...         -0.270446\n",
              "28196         0.331466  ...         -0.270446\n",
              "28197         0.330988  ...          3.697596\n",
              "28198         0.347719  ...         -0.270446\n",
              "28199        -0.335670  ...         -0.270446\n",
              "\n",
              "[28200 rows x 29 columns]"
            ]
          },
          "metadata": {
            "tags": []
          },
          "execution_count": 150
        }
      ]
    },
    {
      "cell_type": "markdown",
      "metadata": {
        "id": "UvUtX7LpGZ1d"
      },
      "source": [
        ""
      ]
    },
    {
      "cell_type": "code",
      "metadata": {
        "colab": {
          "base_uri": "https://localhost:8080/"
        },
        "id": "xMUZchggGajT",
        "outputId": "828b1749-f63e-442a-efe8-4c50c94edcba"
      },
      "source": [
        "print(x_train.shape)\n",
        "print(x_test.shape)"
      ],
      "execution_count": null,
      "outputs": [
        {
          "output_type": "stream",
          "text": [
            "(21150, 29)\n",
            "(7050, 29)\n"
          ],
          "name": "stdout"
        }
      ]
    },
    {
      "cell_type": "code",
      "metadata": {
        "colab": {
          "base_uri": "https://localhost:8080/"
        },
        "id": "AyxskIUXGSs4",
        "outputId": "dc884dc1-b951-4f69-b5b2-98a03ce5af45"
      },
      "source": [
        "from sklearn.ensemble import RandomForestRegressor\n",
        "regressor = RandomForestRegressor(criterion='mse')\n",
        "regressor.fit(X,Y)  "
      ],
      "execution_count": null,
      "outputs": [
        {
          "output_type": "stream",
          "text": [
            "/usr/local/lib/python3.7/dist-packages/ipykernel_launcher.py:3: DataConversionWarning: A column-vector y was passed when a 1d array was expected. Please change the shape of y to (n_samples,), for example using ravel().\n",
            "  This is separate from the ipykernel package so we can avoid doing imports until\n"
          ],
          "name": "stderr"
        },
        {
          "output_type": "execute_result",
          "data": {
            "text/plain": [
              "RandomForestRegressor(bootstrap=True, ccp_alpha=0.0, criterion='mse',\n",
              "                      max_depth=None, max_features='auto', max_leaf_nodes=None,\n",
              "                      max_samples=None, min_impurity_decrease=0.0,\n",
              "                      min_impurity_split=None, min_samples_leaf=1,\n",
              "                      min_samples_split=2, min_weight_fraction_leaf=0.0,\n",
              "                      n_estimators=100, n_jobs=None, oob_score=False,\n",
              "                      random_state=None, verbose=0, warm_start=False)"
            ]
          },
          "metadata": {
            "tags": []
          },
          "execution_count": 253
        }
      ]
    },
    {
      "cell_type": "code",
      "metadata": {
        "colab": {
          "base_uri": "https://localhost:8080/"
        },
        "id": "yXfGXds_LxCk",
        "outputId": "39a77a65-e5c0-4e90-81a5-8f5e5c4e9033"
      },
      "source": [
        "regressor.score(x_test,y_test)"
      ],
      "execution_count": null,
      "outputs": [
        {
          "output_type": "execute_result",
          "data": {
            "text/plain": [
              "0.9930643249162504"
            ]
          },
          "metadata": {
            "tags": []
          },
          "execution_count": 153
        }
      ]
    },
    {
      "cell_type": "code",
      "metadata": {
        "colab": {
          "base_uri": "https://localhost:8080/",
          "height": 774
        },
        "id": "OwkD82WyL22m",
        "outputId": "147a2547-2759-48c9-f53e-df4934caa0b0"
      },
      "source": [
        "testdb = pd.read_csv('/content/test.csv')\n",
        "#main_db = main_db.dropna(subset=[\"tracking_id\",\"datetime\"])\n",
        "testdb"
      ],
      "execution_count": null,
      "outputs": [
        {
          "output_type": "execute_result",
          "data": {
            "text/html": [
              "<div>\n",
              "<style scoped>\n",
              "    .dataframe tbody tr th:only-of-type {\n",
              "        vertical-align: middle;\n",
              "    }\n",
              "\n",
              "    .dataframe tbody tr th {\n",
              "        vertical-align: top;\n",
              "    }\n",
              "\n",
              "    .dataframe thead th {\n",
              "        text-align: right;\n",
              "    }\n",
              "</style>\n",
              "<table border=\"1\" class=\"dataframe\">\n",
              "  <thead>\n",
              "    <tr style=\"text-align: right;\">\n",
              "      <th></th>\n",
              "      <th>tracking_id</th>\n",
              "      <th>datetime</th>\n",
              "      <th>wind_speed(m/s)</th>\n",
              "      <th>atmospheric_temperature(°C)</th>\n",
              "      <th>shaft_temperature(°C)</th>\n",
              "      <th>blades_angle(°)</th>\n",
              "      <th>gearbox_temperature(°C)</th>\n",
              "      <th>engine_temperature(°C)</th>\n",
              "      <th>motor_torque(N-m)</th>\n",
              "      <th>generator_temperature(°C)</th>\n",
              "      <th>atmospheric_pressure(Pascal)</th>\n",
              "      <th>area_temperature(°C)</th>\n",
              "      <th>windmill_body_temperature(°C)</th>\n",
              "      <th>wind_direction(°)</th>\n",
              "      <th>resistance(ohm)</th>\n",
              "      <th>rotor_torque(N-m)</th>\n",
              "      <th>turbine_status</th>\n",
              "      <th>cloud_level</th>\n",
              "      <th>blade_length(m)</th>\n",
              "      <th>blade_breadth(m)</th>\n",
              "      <th>windmill_height(m)</th>\n",
              "    </tr>\n",
              "  </thead>\n",
              "  <tbody>\n",
              "    <tr>\n",
              "      <th>0</th>\n",
              "      <td>WM_19817</td>\n",
              "      <td>2019-04-17 08:53:20</td>\n",
              "      <td>94.324266</td>\n",
              "      <td>17.641186</td>\n",
              "      <td>89.714193</td>\n",
              "      <td>51.146788</td>\n",
              "      <td>40.460560</td>\n",
              "      <td>39.594734</td>\n",
              "      <td>1073.202715</td>\n",
              "      <td>66.830037</td>\n",
              "      <td>16681.044117</td>\n",
              "      <td>24.004812</td>\n",
              "      <td>43.756693</td>\n",
              "      <td>445.976992</td>\n",
              "      <td>1664.222023</td>\n",
              "      <td>21.912243</td>\n",
              "      <td>BA</td>\n",
              "      <td>Medium</td>\n",
              "      <td>3.185837</td>\n",
              "      <td>0.403965</td>\n",
              "      <td>25.572431</td>\n",
              "    </tr>\n",
              "    <tr>\n",
              "      <th>1</th>\n",
              "      <td>WM_18723</td>\n",
              "      <td>2019-03-30 07:43:20</td>\n",
              "      <td>10.088870</td>\n",
              "      <td>13.978119</td>\n",
              "      <td>43.272846</td>\n",
              "      <td>46.516394</td>\n",
              "      <td>40.027788</td>\n",
              "      <td>41.176860</td>\n",
              "      <td>517.436430</td>\n",
              "      <td>37.284163</td>\n",
              "      <td>NaN</td>\n",
              "      <td>29.431813</td>\n",
              "      <td>42.728174</td>\n",
              "      <td>499.595287</td>\n",
              "      <td>1165.111992</td>\n",
              "      <td>-35.050093</td>\n",
              "      <td>A</td>\n",
              "      <td>Medium</td>\n",
              "      <td>3.016603</td>\n",
              "      <td>0.444755</td>\n",
              "      <td>24.371823</td>\n",
              "    </tr>\n",
              "    <tr>\n",
              "      <th>2</th>\n",
              "      <td>WM_34552</td>\n",
              "      <td>2019-08-10 11:33:20</td>\n",
              "      <td>347.152090</td>\n",
              "      <td>31.423035</td>\n",
              "      <td>41.076640</td>\n",
              "      <td>26.931602</td>\n",
              "      <td>43.109122</td>\n",
              "      <td>43.439556</td>\n",
              "      <td>1480.716492</td>\n",
              "      <td>70.010762</td>\n",
              "      <td>214812.836175</td>\n",
              "      <td>29.924235</td>\n",
              "      <td>43.256122</td>\n",
              "      <td>245.432231</td>\n",
              "      <td>1667.720491</td>\n",
              "      <td>27.195302</td>\n",
              "      <td>B2</td>\n",
              "      <td>Medium</td>\n",
              "      <td>2.611941</td>\n",
              "      <td>0.387368</td>\n",
              "      <td>27.654677</td>\n",
              "    </tr>\n",
              "    <tr>\n",
              "      <th>3</th>\n",
              "      <td>WM_28570</td>\n",
              "      <td>2019-06-26 03:53:20</td>\n",
              "      <td>24.471997</td>\n",
              "      <td>-99.000000</td>\n",
              "      <td>14.375078</td>\n",
              "      <td>66.513953</td>\n",
              "      <td>13.741253</td>\n",
              "      <td>15.577472</td>\n",
              "      <td>887.979475</td>\n",
              "      <td>41.445258</td>\n",
              "      <td>NaN</td>\n",
              "      <td>23.886434</td>\n",
              "      <td>13.501595</td>\n",
              "      <td>NaN</td>\n",
              "      <td>1329.744740</td>\n",
              "      <td>15.245757</td>\n",
              "      <td>BBB</td>\n",
              "      <td>Low</td>\n",
              "      <td>2.866805</td>\n",
              "      <td>0.450478</td>\n",
              "      <td>24.189426</td>\n",
              "    </tr>\n",
              "    <tr>\n",
              "      <th>4</th>\n",
              "      <td>WM_36934</td>\n",
              "      <td>2019-08-27 16:43:20</td>\n",
              "      <td>96.997026</td>\n",
              "      <td>33.281836</td>\n",
              "      <td>41.405192</td>\n",
              "      <td>1.843112</td>\n",
              "      <td>121.572907</td>\n",
              "      <td>43.934587</td>\n",
              "      <td>2053.916354</td>\n",
              "      <td>68.007787</td>\n",
              "      <td>16833.546517</td>\n",
              "      <td>35.906889</td>\n",
              "      <td>-99.000000</td>\n",
              "      <td>442.425744</td>\n",
              "      <td>691.408996</td>\n",
              "      <td>34.257024</td>\n",
              "      <td>A</td>\n",
              "      <td>Low</td>\n",
              "      <td>3.549672</td>\n",
              "      <td>0.368355</td>\n",
              "      <td>4.885440</td>\n",
              "    </tr>\n",
              "    <tr>\n",
              "      <th>...</th>\n",
              "      <td>...</td>\n",
              "      <td>...</td>\n",
              "      <td>...</td>\n",
              "      <td>...</td>\n",
              "      <td>...</td>\n",
              "      <td>...</td>\n",
              "      <td>...</td>\n",
              "      <td>...</td>\n",
              "      <td>...</td>\n",
              "      <td>...</td>\n",
              "      <td>...</td>\n",
              "      <td>...</td>\n",
              "      <td>...</td>\n",
              "      <td>...</td>\n",
              "      <td>...</td>\n",
              "      <td>...</td>\n",
              "      <td>...</td>\n",
              "      <td>...</td>\n",
              "      <td>...</td>\n",
              "      <td>...</td>\n",
              "      <td>...</td>\n",
              "    </tr>\n",
              "    <tr>\n",
              "      <th>12081</th>\n",
              "      <td>WM_13376</td>\n",
              "      <td>2019-02-12 11:33:20</td>\n",
              "      <td>-15.039400</td>\n",
              "      <td>18.517204</td>\n",
              "      <td>43.545409</td>\n",
              "      <td>-1.094038</td>\n",
              "      <td>44.550547</td>\n",
              "      <td>44.486619</td>\n",
              "      <td>2424.370244</td>\n",
              "      <td>75.850209</td>\n",
              "      <td>17239.345506</td>\n",
              "      <td>28.424722</td>\n",
              "      <td>42.128526</td>\n",
              "      <td>509.795489</td>\n",
              "      <td>1798.141681</td>\n",
              "      <td>-14.365696</td>\n",
              "      <td>NaN</td>\n",
              "      <td>Medium</td>\n",
              "      <td>3.286975</td>\n",
              "      <td>0.407771</td>\n",
              "      <td>20.888674</td>\n",
              "    </tr>\n",
              "    <tr>\n",
              "      <th>12082</th>\n",
              "      <td>WM_1630</td>\n",
              "      <td>2018-11-12 17:33:20</td>\n",
              "      <td>97.594116</td>\n",
              "      <td>-99.000000</td>\n",
              "      <td>44.747916</td>\n",
              "      <td>1.750553</td>\n",
              "      <td>43.308176</td>\n",
              "      <td>42.848779</td>\n",
              "      <td>2085.627252</td>\n",
              "      <td>73.091866</td>\n",
              "      <td>17131.448669</td>\n",
              "      <td>50.615296</td>\n",
              "      <td>47.353528</td>\n",
              "      <td>345.705839</td>\n",
              "      <td>1680.245230</td>\n",
              "      <td>-7.062661</td>\n",
              "      <td>AB</td>\n",
              "      <td>Low</td>\n",
              "      <td>NaN</td>\n",
              "      <td>0.367823</td>\n",
              "      <td>24.793606</td>\n",
              "    </tr>\n",
              "    <tr>\n",
              "      <th>12083</th>\n",
              "      <td>WM_24703</td>\n",
              "      <td>2019-05-27 11:53:20</td>\n",
              "      <td>16.186805</td>\n",
              "      <td>8.109976</td>\n",
              "      <td>43.252012</td>\n",
              "      <td>-0.691090</td>\n",
              "      <td>214.904165</td>\n",
              "      <td>41.177782</td>\n",
              "      <td>788.687177</td>\n",
              "      <td>39.514258</td>\n",
              "      <td>118707.643665</td>\n",
              "      <td>20.983939</td>\n",
              "      <td>41.768478</td>\n",
              "      <td>205.569627</td>\n",
              "      <td>2343.165194</td>\n",
              "      <td>12.331790</td>\n",
              "      <td>BA</td>\n",
              "      <td>Low</td>\n",
              "      <td>3.728375</td>\n",
              "      <td>0.459887</td>\n",
              "      <td>5.653451</td>\n",
              "    </tr>\n",
              "    <tr>\n",
              "      <th>12084</th>\n",
              "      <td>WM_22893</td>\n",
              "      <td>2019-05-13 21:53:20</td>\n",
              "      <td>93.254033</td>\n",
              "      <td>-99.000000</td>\n",
              "      <td>43.841789</td>\n",
              "      <td>-1.171974</td>\n",
              "      <td>41.976913</td>\n",
              "      <td>42.039796</td>\n",
              "      <td>2079.855634</td>\n",
              "      <td>71.482324</td>\n",
              "      <td>17155.269313</td>\n",
              "      <td>29.114305</td>\n",
              "      <td>82.750271</td>\n",
              "      <td>260.578999</td>\n",
              "      <td>1732.883672</td>\n",
              "      <td>NaN</td>\n",
              "      <td>A</td>\n",
              "      <td>Medium</td>\n",
              "      <td>2.247676</td>\n",
              "      <td>0.394680</td>\n",
              "      <td>24.591364</td>\n",
              "    </tr>\n",
              "    <tr>\n",
              "      <th>12085</th>\n",
              "      <td>WM_14513</td>\n",
              "      <td>2019-02-20 23:43:20</td>\n",
              "      <td>42.607485</td>\n",
              "      <td>13.245828</td>\n",
              "      <td>43.480982</td>\n",
              "      <td>9.258178</td>\n",
              "      <td>132.587960</td>\n",
              "      <td>46.312684</td>\n",
              "      <td>969.733090</td>\n",
              "      <td>46.777642</td>\n",
              "      <td>130018.594173</td>\n",
              "      <td>39.491015</td>\n",
              "      <td>97.070812</td>\n",
              "      <td>NaN</td>\n",
              "      <td>-99.000000</td>\n",
              "      <td>19.467561</td>\n",
              "      <td>A2</td>\n",
              "      <td>Medium</td>\n",
              "      <td>NaN</td>\n",
              "      <td>0.490893</td>\n",
              "      <td>21.665001</td>\n",
              "    </tr>\n",
              "  </tbody>\n",
              "</table>\n",
              "<p>12086 rows × 21 columns</p>\n",
              "</div>"
            ],
            "text/plain": [
              "      tracking_id             datetime  ...  blade_breadth(m)  windmill_height(m)\n",
              "0        WM_19817  2019-04-17 08:53:20  ...          0.403965           25.572431\n",
              "1        WM_18723  2019-03-30 07:43:20  ...          0.444755           24.371823\n",
              "2        WM_34552  2019-08-10 11:33:20  ...          0.387368           27.654677\n",
              "3        WM_28570  2019-06-26 03:53:20  ...          0.450478           24.189426\n",
              "4        WM_36934  2019-08-27 16:43:20  ...          0.368355            4.885440\n",
              "...           ...                  ...  ...               ...                 ...\n",
              "12081    WM_13376  2019-02-12 11:33:20  ...          0.407771           20.888674\n",
              "12082     WM_1630  2018-11-12 17:33:20  ...          0.367823           24.793606\n",
              "12083    WM_24703  2019-05-27 11:53:20  ...          0.459887            5.653451\n",
              "12084    WM_22893  2019-05-13 21:53:20  ...          0.394680           24.591364\n",
              "12085    WM_14513  2019-02-20 23:43:20  ...          0.490893           21.665001\n",
              "\n",
              "[12086 rows x 21 columns]"
            ]
          },
          "metadata": {
            "tags": []
          },
          "execution_count": 243
        }
      ]
    },
    {
      "cell_type": "code",
      "metadata": {
        "id": "0TnxkuddMZSS"
      },
      "source": [
        "#testdb = testdb.dropna(subset=[\"tracking_id\",\"datetime\"])\n",
        "testdb = testdb.drop(columns=['wind_direction(°)','blade_length(m)','atmospheric_pressure(Pascal)','atmospheric_temperature(°C)','windmill_body_temperature(°C)'])"
      ],
      "execution_count": null,
      "outputs": []
    },
    {
      "cell_type": "code",
      "metadata": {
        "colab": {
          "base_uri": "https://localhost:8080/"
        },
        "id": "dI7-R2szMcwG",
        "outputId": "ecb35f8a-9b27-475b-f367-9c346bb35ead"
      },
      "source": [
        "print(str(testdb.isnull().sum()))"
      ],
      "execution_count": null,
      "outputs": [
        {
          "output_type": "stream",
          "text": [
            "tracking_id                    0\n",
            "datetime                       0\n",
            "wind_speed(m/s)              126\n",
            "shaft_temperature(°C)          1\n",
            "blades_angle(°)              106\n",
            "gearbox_temperature(°C)        1\n",
            "engine_temperature(°C)         5\n",
            "motor_torque(N-m)             11\n",
            "generator_temperature(°C)      5\n",
            "area_temperature(°C)           1\n",
            "resistance(ohm)                0\n",
            "rotor_torque(N-m)            281\n",
            "turbine_status               797\n",
            "cloud_level                  125\n",
            "blade_breadth(m)               0\n",
            "windmill_height(m)           255\n",
            "dtype: int64\n"
          ],
          "name": "stdout"
        }
      ]
    },
    {
      "cell_type": "code",
      "metadata": {
        "colab": {
          "base_uri": "https://localhost:8080/"
        },
        "id": "tsKRe8flMmjh",
        "outputId": "1b997c03-1fbc-46b4-fabd-e1c41585e4a5"
      },
      "source": [
        "print(testdb[\"cloud_level\"].mode())\n",
        "print(testdb[\"turbine_status\"].mode())\n",
        "testdb[\"cloud_level\"].fillna(\"Low\",inplace=True)\n",
        "testdb[\"turbine_status\"].fillna(\"BB\",inplace=True)\n",
        "testdb = testdb.fillna(testdb.mean())"
      ],
      "execution_count": null,
      "outputs": [
        {
          "output_type": "stream",
          "text": [
            "0    Low\n",
            "dtype: object\n",
            "0    BB\n",
            "dtype: object\n"
          ],
          "name": "stdout"
        }
      ]
    },
    {
      "cell_type": "code",
      "metadata": {
        "id": "dfkm-_HzM0P0"
      },
      "source": [
        "l = []\n",
        "tid=np.array(testdb[\"tracking_id\"])\n",
        "dt = np.array(testdb[\"datetime\"])\n",
        "ndb = testdb.drop(columns=[\"tracking_id\",'datetime'])\n",
        "ndb1 = pd.get_dummies(ndb,columns = [\"cloud_level\",\"turbine_status\"])\n",
        "ndb1 = scaler.fit_transform(ndb1)\n",
        "#ndb1 = pca.fit_transform(ndb1)"
      ],
      "execution_count": null,
      "outputs": []
    },
    {
      "cell_type": "code",
      "metadata": {
        "colab": {
          "base_uri": "https://localhost:8080/"
        },
        "id": "0x2mfupFNTCO",
        "outputId": "6fe4f5a4-d19f-4721-f4c4-8667b7eda634"
      },
      "source": [
        "regressor.predict(ndb1)"
      ],
      "execution_count": null,
      "outputs": [
        {
          "output_type": "execute_result",
          "data": {
            "text/plain": [
              "array([-1.27289499, -1.36497758, -1.05892246, ..., -0.32912495,\n",
              "       -0.2819942 ,  1.48975663])"
            ]
          },
          "metadata": {
            "tags": []
          },
          "execution_count": 248
        }
      ]
    },
    {
      "cell_type": "code",
      "metadata": {
        "colab": {
          "base_uri": "https://localhost:8080/",
          "height": 402
        },
        "id": "MtVp0QTeOw58",
        "outputId": "d0e94f09-666c-4bbf-da20-d44fac42b417"
      },
      "source": [
        "finaldb = pd.DataFrame()\n",
        "finaldb[\"tracking_id\"]=tid\n",
        "finaldb[\"datetime\"]=dt\n",
        "\n",
        "finaldb[\"windmill_generated_power(kW/h)\"]=regressor.predict(ndb1)\n",
        "finaldb"
      ],
      "execution_count": null,
      "outputs": [
        {
          "output_type": "execute_result",
          "data": {
            "text/html": [
              "<div>\n",
              "<style scoped>\n",
              "    .dataframe tbody tr th:only-of-type {\n",
              "        vertical-align: middle;\n",
              "    }\n",
              "\n",
              "    .dataframe tbody tr th {\n",
              "        vertical-align: top;\n",
              "    }\n",
              "\n",
              "    .dataframe thead th {\n",
              "        text-align: right;\n",
              "    }\n",
              "</style>\n",
              "<table border=\"1\" class=\"dataframe\">\n",
              "  <thead>\n",
              "    <tr style=\"text-align: right;\">\n",
              "      <th></th>\n",
              "      <th>tracking_id</th>\n",
              "      <th>datetime</th>\n",
              "      <th>windmill_generated_power(kW/h)</th>\n",
              "    </tr>\n",
              "  </thead>\n",
              "  <tbody>\n",
              "    <tr>\n",
              "      <th>0</th>\n",
              "      <td>WM_19817</td>\n",
              "      <td>2019-04-17 08:53:20</td>\n",
              "      <td>-1.272895</td>\n",
              "    </tr>\n",
              "    <tr>\n",
              "      <th>1</th>\n",
              "      <td>WM_18723</td>\n",
              "      <td>2019-03-30 07:43:20</td>\n",
              "      <td>-1.364978</td>\n",
              "    </tr>\n",
              "    <tr>\n",
              "      <th>2</th>\n",
              "      <td>WM_34552</td>\n",
              "      <td>2019-08-10 11:33:20</td>\n",
              "      <td>-1.058922</td>\n",
              "    </tr>\n",
              "    <tr>\n",
              "      <th>3</th>\n",
              "      <td>WM_28570</td>\n",
              "      <td>2019-06-26 03:53:20</td>\n",
              "      <td>0.291434</td>\n",
              "    </tr>\n",
              "    <tr>\n",
              "      <th>4</th>\n",
              "      <td>WM_36934</td>\n",
              "      <td>2019-08-27 16:43:20</td>\n",
              "      <td>-0.972680</td>\n",
              "    </tr>\n",
              "    <tr>\n",
              "      <th>...</th>\n",
              "      <td>...</td>\n",
              "      <td>...</td>\n",
              "      <td>...</td>\n",
              "    </tr>\n",
              "    <tr>\n",
              "      <th>12081</th>\n",
              "      <td>WM_13376</td>\n",
              "      <td>2019-02-12 11:33:20</td>\n",
              "      <td>0.131006</td>\n",
              "    </tr>\n",
              "    <tr>\n",
              "      <th>12082</th>\n",
              "      <td>WM_1630</td>\n",
              "      <td>2018-11-12 17:33:20</td>\n",
              "      <td>-1.158529</td>\n",
              "    </tr>\n",
              "    <tr>\n",
              "      <th>12083</th>\n",
              "      <td>WM_24703</td>\n",
              "      <td>2019-05-27 11:53:20</td>\n",
              "      <td>-0.329125</td>\n",
              "    </tr>\n",
              "    <tr>\n",
              "      <th>12084</th>\n",
              "      <td>WM_22893</td>\n",
              "      <td>2019-05-13 21:53:20</td>\n",
              "      <td>-0.281994</td>\n",
              "    </tr>\n",
              "    <tr>\n",
              "      <th>12085</th>\n",
              "      <td>WM_14513</td>\n",
              "      <td>2019-02-20 23:43:20</td>\n",
              "      <td>1.489757</td>\n",
              "    </tr>\n",
              "  </tbody>\n",
              "</table>\n",
              "<p>12086 rows × 3 columns</p>\n",
              "</div>"
            ],
            "text/plain": [
              "      tracking_id             datetime  windmill_generated_power(kW/h)\n",
              "0        WM_19817  2019-04-17 08:53:20                       -1.272895\n",
              "1        WM_18723  2019-03-30 07:43:20                       -1.364978\n",
              "2        WM_34552  2019-08-10 11:33:20                       -1.058922\n",
              "3        WM_28570  2019-06-26 03:53:20                        0.291434\n",
              "4        WM_36934  2019-08-27 16:43:20                       -0.972680\n",
              "...           ...                  ...                             ...\n",
              "12081    WM_13376  2019-02-12 11:33:20                        0.131006\n",
              "12082     WM_1630  2018-11-12 17:33:20                       -1.158529\n",
              "12083    WM_24703  2019-05-27 11:53:20                       -0.329125\n",
              "12084    WM_22893  2019-05-13 21:53:20                       -0.281994\n",
              "12085    WM_14513  2019-02-20 23:43:20                        1.489757\n",
              "\n",
              "[12086 rows x 3 columns]"
            ]
          },
          "metadata": {
            "tags": []
          },
          "execution_count": 249
        }
      ]
    },
    {
      "cell_type": "code",
      "metadata": {
        "colab": {
          "base_uri": "https://localhost:8080/",
          "height": 402
        },
        "id": "BSkcRJXxURI7",
        "outputId": "5f713e9d-47d6-4873-c78a-dba0bb8a44f9"
      },
      "source": [
        "#finaldb[\"windmill_generated_power(kW/h)\"] = finaldb[\"windmill_generated_power(kW/h)\"]\n",
        "l = pd.DataFrame(finaldb)\n",
        "l_data1 = s.inverse_transform(finaldb[\"windmill_generated_power(kW/h)\"])\n",
        "l_data1\n",
        "finaldb[\"windmill_generated_power(kW/h)\"]=np.array(l_data1)\n",
        "finaldb"
      ],
      "execution_count": null,
      "outputs": [
        {
          "output_type": "execute_result",
          "data": {
            "text/html": [
              "<div>\n",
              "<style scoped>\n",
              "    .dataframe tbody tr th:only-of-type {\n",
              "        vertical-align: middle;\n",
              "    }\n",
              "\n",
              "    .dataframe tbody tr th {\n",
              "        vertical-align: top;\n",
              "    }\n",
              "\n",
              "    .dataframe thead th {\n",
              "        text-align: right;\n",
              "    }\n",
              "</style>\n",
              "<table border=\"1\" class=\"dataframe\">\n",
              "  <thead>\n",
              "    <tr style=\"text-align: right;\">\n",
              "      <th></th>\n",
              "      <th>tracking_id</th>\n",
              "      <th>datetime</th>\n",
              "      <th>windmill_generated_power(kW/h)</th>\n",
              "    </tr>\n",
              "  </thead>\n",
              "  <tbody>\n",
              "    <tr>\n",
              "      <th>0</th>\n",
              "      <td>WM_19817</td>\n",
              "      <td>2019-04-17 08:53:20</td>\n",
              "      <td>2.709556</td>\n",
              "    </tr>\n",
              "    <tr>\n",
              "      <th>1</th>\n",
              "      <td>WM_18723</td>\n",
              "      <td>2019-03-30 07:43:20</td>\n",
              "      <td>2.462079</td>\n",
              "    </tr>\n",
              "    <tr>\n",
              "      <th>2</th>\n",
              "      <td>WM_34552</td>\n",
              "      <td>2019-08-10 11:33:20</td>\n",
              "      <td>3.284618</td>\n",
              "    </tr>\n",
              "    <tr>\n",
              "      <th>3</th>\n",
              "      <td>WM_28570</td>\n",
              "      <td>2019-06-26 03:53:20</td>\n",
              "      <td>6.913772</td>\n",
              "    </tr>\n",
              "    <tr>\n",
              "      <th>4</th>\n",
              "      <td>WM_36934</td>\n",
              "      <td>2019-08-27 16:43:20</td>\n",
              "      <td>3.516401</td>\n",
              "    </tr>\n",
              "    <tr>\n",
              "      <th>...</th>\n",
              "      <td>...</td>\n",
              "      <td>...</td>\n",
              "      <td>...</td>\n",
              "    </tr>\n",
              "    <tr>\n",
              "      <th>12081</th>\n",
              "      <td>WM_13376</td>\n",
              "      <td>2019-02-12 11:33:20</td>\n",
              "      <td>6.482616</td>\n",
              "    </tr>\n",
              "    <tr>\n",
              "      <th>12082</th>\n",
              "      <td>WM_1630</td>\n",
              "      <td>2018-11-12 17:33:20</td>\n",
              "      <td>3.016920</td>\n",
              "    </tr>\n",
              "    <tr>\n",
              "      <th>12083</th>\n",
              "      <td>WM_24703</td>\n",
              "      <td>2019-05-27 11:53:20</td>\n",
              "      <td>5.245988</td>\n",
              "    </tr>\n",
              "    <tr>\n",
              "      <th>12084</th>\n",
              "      <td>WM_22893</td>\n",
              "      <td>2019-05-13 21:53:20</td>\n",
              "      <td>5.372655</td>\n",
              "    </tr>\n",
              "    <tr>\n",
              "      <th>12085</th>\n",
              "      <td>WM_14513</td>\n",
              "      <td>2019-02-20 23:43:20</td>\n",
              "      <td>10.134330</td>\n",
              "    </tr>\n",
              "  </tbody>\n",
              "</table>\n",
              "<p>12086 rows × 3 columns</p>\n",
              "</div>"
            ],
            "text/plain": [
              "      tracking_id             datetime  windmill_generated_power(kW/h)\n",
              "0        WM_19817  2019-04-17 08:53:20                        2.709556\n",
              "1        WM_18723  2019-03-30 07:43:20                        2.462079\n",
              "2        WM_34552  2019-08-10 11:33:20                        3.284618\n",
              "3        WM_28570  2019-06-26 03:53:20                        6.913772\n",
              "4        WM_36934  2019-08-27 16:43:20                        3.516401\n",
              "...           ...                  ...                             ...\n",
              "12081    WM_13376  2019-02-12 11:33:20                        6.482616\n",
              "12082     WM_1630  2018-11-12 17:33:20                        3.016920\n",
              "12083    WM_24703  2019-05-27 11:53:20                        5.245988\n",
              "12084    WM_22893  2019-05-13 21:53:20                        5.372655\n",
              "12085    WM_14513  2019-02-20 23:43:20                       10.134330\n",
              "\n",
              "[12086 rows x 3 columns]"
            ]
          },
          "metadata": {
            "tags": []
          },
          "execution_count": 250
        }
      ]
    },
    {
      "cell_type": "code",
      "metadata": {
        "id": "yjb8r6yUPG02"
      },
      "source": [
        "finaldb.to_csv(\"s3.csv\")"
      ],
      "execution_count": null,
      "outputs": []
    },
    {
      "cell_type": "code",
      "metadata": {
        "id": "FPVu-42tPp_9"
      },
      "source": [
        "from sklearn.tree import DecisionTreeRegressor\n",
        "clf = DecisionTreeRegressor(random_state=1,criterion='mae') "
      ],
      "execution_count": null,
      "outputs": []
    },
    {
      "cell_type": "code",
      "metadata": {
        "colab": {
          "base_uri": "https://localhost:8080/"
        },
        "id": "UHgzHPb4pnoF",
        "outputId": "edd4afe8-dc4b-4ab5-f3ea-36417fbf3299"
      },
      "source": [
        "clf.fit(X.astype(\"float\"),Y.astype(\"float\"))"
      ],
      "execution_count": null,
      "outputs": [
        {
          "output_type": "execute_result",
          "data": {
            "text/plain": [
              "DecisionTreeRegressor(ccp_alpha=0.0, criterion='mae', max_depth=None,\n",
              "                      max_features=None, max_leaf_nodes=None,\n",
              "                      min_impurity_decrease=0.0, min_impurity_split=None,\n",
              "                      min_samples_leaf=1, min_samples_split=2,\n",
              "                      min_weight_fraction_leaf=0.0, presort='deprecated',\n",
              "                      random_state=1, splitter='best')"
            ]
          },
          "metadata": {
            "tags": []
          },
          "execution_count": 163
        }
      ]
    },
    {
      "cell_type": "code",
      "metadata": {
        "colab": {
          "base_uri": "https://localhost:8080/"
        },
        "id": "IRrZ8wueqCON",
        "outputId": "f69617d6-77bc-4424-f34c-a0d1811a7dd6"
      },
      "source": [
        "clf.score(x_train.astype(\"float\"),y_train.astype(\"float\"))"
      ],
      "execution_count": null,
      "outputs": [
        {
          "output_type": "execute_result",
          "data": {
            "text/plain": [
              "1.0"
            ]
          },
          "metadata": {
            "tags": []
          },
          "execution_count": 184
        }
      ]
    },
    {
      "cell_type": "code",
      "metadata": {
        "id": "QHaUEzsJq51t",
        "colab": {
          "base_uri": "https://localhost:8080/"
        },
        "outputId": "cf4f2fa3-f63a-44b5-ed2a-253e01a08858"
      },
      "source": [
        "l = clf.predict(ndb1)\n",
        "l"
      ],
      "execution_count": null,
      "outputs": [
        {
          "output_type": "execute_result",
          "data": {
            "text/plain": [
              "array([-1.49725444, -1.46237783, -0.96688159, ..., -0.16359839,\n",
              "       -0.19939791,  1.64292533])"
            ]
          },
          "metadata": {
            "tags": []
          },
          "execution_count": 238
        }
      ]
    },
    {
      "cell_type": "code",
      "metadata": {
        "id": "5KBQmi9grQwH"
      },
      "source": [
        "finaldb_dt = pd.DataFrame()"
      ],
      "execution_count": null,
      "outputs": []
    },
    {
      "cell_type": "code",
      "metadata": {
        "colab": {
          "base_uri": "https://localhost:8080/",
          "height": 402
        },
        "id": "lSbtpnLurRjG",
        "outputId": "b0ac2265-cbc4-4a90-a06d-94d34c65cf25"
      },
      "source": [
        "\n",
        "finaldb_dt[\"tracking_id\"]=tid\n",
        "finaldb_dt[\"datetime\"]=dt\n",
        "\n",
        "finaldb_dt[\"windmill_generated_power(kW/h)\"]=l\n",
        "finaldb_dt"
      ],
      "execution_count": null,
      "outputs": [
        {
          "output_type": "execute_result",
          "data": {
            "text/html": [
              "<div>\n",
              "<style scoped>\n",
              "    .dataframe tbody tr th:only-of-type {\n",
              "        vertical-align: middle;\n",
              "    }\n",
              "\n",
              "    .dataframe tbody tr th {\n",
              "        vertical-align: top;\n",
              "    }\n",
              "\n",
              "    .dataframe thead th {\n",
              "        text-align: right;\n",
              "    }\n",
              "</style>\n",
              "<table border=\"1\" class=\"dataframe\">\n",
              "  <thead>\n",
              "    <tr style=\"text-align: right;\">\n",
              "      <th></th>\n",
              "      <th>tracking_id</th>\n",
              "      <th>datetime</th>\n",
              "      <th>windmill_generated_power(kW/h)</th>\n",
              "    </tr>\n",
              "  </thead>\n",
              "  <tbody>\n",
              "    <tr>\n",
              "      <th>0</th>\n",
              "      <td>WM_19817</td>\n",
              "      <td>2019-04-17 08:53:20</td>\n",
              "      <td>-1.497254</td>\n",
              "    </tr>\n",
              "    <tr>\n",
              "      <th>1</th>\n",
              "      <td>WM_18723</td>\n",
              "      <td>2019-03-30 07:43:20</td>\n",
              "      <td>-1.462378</td>\n",
              "    </tr>\n",
              "    <tr>\n",
              "      <th>2</th>\n",
              "      <td>WM_34552</td>\n",
              "      <td>2019-08-10 11:33:20</td>\n",
              "      <td>-0.966882</td>\n",
              "    </tr>\n",
              "    <tr>\n",
              "      <th>3</th>\n",
              "      <td>WM_28570</td>\n",
              "      <td>2019-06-26 03:53:20</td>\n",
              "      <td>0.282476</td>\n",
              "    </tr>\n",
              "    <tr>\n",
              "      <th>4</th>\n",
              "      <td>WM_36934</td>\n",
              "      <td>2019-08-27 16:43:20</td>\n",
              "      <td>-1.112160</td>\n",
              "    </tr>\n",
              "    <tr>\n",
              "      <th>...</th>\n",
              "      <td>...</td>\n",
              "      <td>...</td>\n",
              "      <td>...</td>\n",
              "    </tr>\n",
              "    <tr>\n",
              "      <th>12081</th>\n",
              "      <td>WM_13376</td>\n",
              "      <td>2019-02-12 11:33:20</td>\n",
              "      <td>0.091013</td>\n",
              "    </tr>\n",
              "    <tr>\n",
              "      <th>12082</th>\n",
              "      <td>WM_1630</td>\n",
              "      <td>2018-11-12 17:33:20</td>\n",
              "      <td>-1.201360</td>\n",
              "    </tr>\n",
              "    <tr>\n",
              "      <th>12083</th>\n",
              "      <td>WM_24703</td>\n",
              "      <td>2019-05-27 11:53:20</td>\n",
              "      <td>-0.163598</td>\n",
              "    </tr>\n",
              "    <tr>\n",
              "      <th>12084</th>\n",
              "      <td>WM_22893</td>\n",
              "      <td>2019-05-13 21:53:20</td>\n",
              "      <td>-0.199398</td>\n",
              "    </tr>\n",
              "    <tr>\n",
              "      <th>12085</th>\n",
              "      <td>WM_14513</td>\n",
              "      <td>2019-02-20 23:43:20</td>\n",
              "      <td>1.642925</td>\n",
              "    </tr>\n",
              "  </tbody>\n",
              "</table>\n",
              "<p>12086 rows × 3 columns</p>\n",
              "</div>"
            ],
            "text/plain": [
              "      tracking_id             datetime  windmill_generated_power(kW/h)\n",
              "0        WM_19817  2019-04-17 08:53:20                       -1.497254\n",
              "1        WM_18723  2019-03-30 07:43:20                       -1.462378\n",
              "2        WM_34552  2019-08-10 11:33:20                       -0.966882\n",
              "3        WM_28570  2019-06-26 03:53:20                        0.282476\n",
              "4        WM_36934  2019-08-27 16:43:20                       -1.112160\n",
              "...           ...                  ...                             ...\n",
              "12081    WM_13376  2019-02-12 11:33:20                        0.091013\n",
              "12082     WM_1630  2018-11-12 17:33:20                       -1.201360\n",
              "12083    WM_24703  2019-05-27 11:53:20                       -0.163598\n",
              "12084    WM_22893  2019-05-13 21:53:20                       -0.199398\n",
              "12085    WM_14513  2019-02-20 23:43:20                        1.642925\n",
              "\n",
              "[12086 rows x 3 columns]"
            ]
          },
          "metadata": {
            "tags": []
          },
          "execution_count": 240
        }
      ]
    },
    {
      "cell_type": "code",
      "metadata": {
        "colab": {
          "base_uri": "https://localhost:8080/"
        },
        "id": "Qt_jg2HureR_",
        "outputId": "cb77117f-605a-4ad2-904c-27d64e67cc40"
      },
      "source": [
        "dt = pd.DataFrame(finaldb_dt)\n",
        "l_data = s.inverse_transform(finaldb_dt[\"windmill_generated_power(kW/h)\"])\n",
        "l_data\n"
      ],
      "execution_count": null,
      "outputs": [
        {
          "output_type": "execute_result",
          "data": {
            "text/plain": [
              "array([ 2.10657766,  2.20031042,  3.53198315, ...,  5.69084985,\n",
              "        5.59463672, 10.54597925])"
            ]
          },
          "metadata": {
            "tags": []
          },
          "execution_count": 225
        }
      ]
    },
    {
      "cell_type": "code",
      "metadata": {
        "colab": {
          "base_uri": "https://localhost:8080/"
        },
        "id": "W7PBOkytMIal",
        "outputId": "ef925b44-c2cb-4d55-dd3e-172ce57ec44f"
      },
      "source": [
        "l_data1"
      ],
      "execution_count": null,
      "outputs": [
        {
          "output_type": "execute_result",
          "data": {
            "text/plain": [
              "array([ 2.70955573,  2.46207882,  3.28461838, ...,  5.24598834,\n",
              "        5.37265475, 10.13433015])"
            ]
          },
          "metadata": {
            "tags": []
          },
          "execution_count": 226
        }
      ]
    },
    {
      "cell_type": "code",
      "metadata": {
        "colab": {
          "base_uri": "https://localhost:8080/"
        },
        "id": "Cf8gi6LsMcrx",
        "outputId": "b42a0420-bd44-4c60-84db-e99c8d28c3f9"
      },
      "source": [
        "l_data/2+l_data1/2"
      ],
      "execution_count": null,
      "outputs": [
        {
          "output_type": "execute_result",
          "data": {
            "text/plain": [
              "array([ 2.4080667 ,  2.33119462,  3.40830077, ...,  5.46841909,\n",
              "        5.48364573, 10.3401547 ])"
            ]
          },
          "metadata": {
            "tags": []
          },
          "execution_count": 227
        }
      ]
    },
    {
      "cell_type": "code",
      "metadata": {
        "colab": {
          "base_uri": "https://localhost:8080/",
          "height": 402
        },
        "id": "W_fS8YC6MFQ3",
        "outputId": "e522371b-683d-4c78-ad33-f2bdd69f05dd"
      },
      "source": [
        "finaldb_dt[\"windmill_generated_power(kW/h)\"]=np.array((l_data1/2+l_data/2))\n",
        "finaldb_dt"
      ],
      "execution_count": null,
      "outputs": [
        {
          "output_type": "execute_result",
          "data": {
            "text/html": [
              "<div>\n",
              "<style scoped>\n",
              "    .dataframe tbody tr th:only-of-type {\n",
              "        vertical-align: middle;\n",
              "    }\n",
              "\n",
              "    .dataframe tbody tr th {\n",
              "        vertical-align: top;\n",
              "    }\n",
              "\n",
              "    .dataframe thead th {\n",
              "        text-align: right;\n",
              "    }\n",
              "</style>\n",
              "<table border=\"1\" class=\"dataframe\">\n",
              "  <thead>\n",
              "    <tr style=\"text-align: right;\">\n",
              "      <th></th>\n",
              "      <th>tracking_id</th>\n",
              "      <th>datetime</th>\n",
              "      <th>windmill_generated_power(kW/h)</th>\n",
              "    </tr>\n",
              "  </thead>\n",
              "  <tbody>\n",
              "    <tr>\n",
              "      <th>0</th>\n",
              "      <td>WM_19817</td>\n",
              "      <td>2019-04-17 08:53:20</td>\n",
              "      <td>2.408067</td>\n",
              "    </tr>\n",
              "    <tr>\n",
              "      <th>1</th>\n",
              "      <td>WM_18723</td>\n",
              "      <td>2019-03-30 07:43:20</td>\n",
              "      <td>2.331195</td>\n",
              "    </tr>\n",
              "    <tr>\n",
              "      <th>2</th>\n",
              "      <td>WM_34552</td>\n",
              "      <td>2019-08-10 11:33:20</td>\n",
              "      <td>3.408301</td>\n",
              "    </tr>\n",
              "    <tr>\n",
              "      <th>3</th>\n",
              "      <td>WM_28570</td>\n",
              "      <td>2019-06-26 03:53:20</td>\n",
              "      <td>6.901736</td>\n",
              "    </tr>\n",
              "    <tr>\n",
              "      <th>4</th>\n",
              "      <td>WM_36934</td>\n",
              "      <td>2019-08-27 16:43:20</td>\n",
              "      <td>3.328970</td>\n",
              "    </tr>\n",
              "    <tr>\n",
              "      <th>...</th>\n",
              "      <td>...</td>\n",
              "      <td>...</td>\n",
              "      <td>...</td>\n",
              "    </tr>\n",
              "    <tr>\n",
              "      <th>12081</th>\n",
              "      <td>WM_13376</td>\n",
              "      <td>2019-02-12 11:33:20</td>\n",
              "      <td>6.428873</td>\n",
              "    </tr>\n",
              "    <tr>\n",
              "      <th>12082</th>\n",
              "      <td>WM_1630</td>\n",
              "      <td>2018-11-12 17:33:20</td>\n",
              "      <td>2.959365</td>\n",
              "    </tr>\n",
              "    <tr>\n",
              "      <th>12083</th>\n",
              "      <td>WM_24703</td>\n",
              "      <td>2019-05-27 11:53:20</td>\n",
              "      <td>5.468419</td>\n",
              "    </tr>\n",
              "    <tr>\n",
              "      <th>12084</th>\n",
              "      <td>WM_22893</td>\n",
              "      <td>2019-05-13 21:53:20</td>\n",
              "      <td>5.483646</td>\n",
              "    </tr>\n",
              "    <tr>\n",
              "      <th>12085</th>\n",
              "      <td>WM_14513</td>\n",
              "      <td>2019-02-20 23:43:20</td>\n",
              "      <td>10.340155</td>\n",
              "    </tr>\n",
              "  </tbody>\n",
              "</table>\n",
              "<p>12086 rows × 3 columns</p>\n",
              "</div>"
            ],
            "text/plain": [
              "      tracking_id             datetime  windmill_generated_power(kW/h)\n",
              "0        WM_19817  2019-04-17 08:53:20                        2.408067\n",
              "1        WM_18723  2019-03-30 07:43:20                        2.331195\n",
              "2        WM_34552  2019-08-10 11:33:20                        3.408301\n",
              "3        WM_28570  2019-06-26 03:53:20                        6.901736\n",
              "4        WM_36934  2019-08-27 16:43:20                        3.328970\n",
              "...           ...                  ...                             ...\n",
              "12081    WM_13376  2019-02-12 11:33:20                        6.428873\n",
              "12082     WM_1630  2018-11-12 17:33:20                        2.959365\n",
              "12083    WM_24703  2019-05-27 11:53:20                        5.468419\n",
              "12084    WM_22893  2019-05-13 21:53:20                        5.483646\n",
              "12085    WM_14513  2019-02-20 23:43:20                       10.340155\n",
              "\n",
              "[12086 rows x 3 columns]"
            ]
          },
          "metadata": {
            "tags": []
          },
          "execution_count": 241
        }
      ]
    },
    {
      "cell_type": "code",
      "metadata": {
        "id": "cm_KqvTerv8m"
      },
      "source": [
        "finaldb_dt.to_csv(\"avag.csv\")"
      ],
      "execution_count": null,
      "outputs": []
    },
    {
      "cell_type": "code",
      "metadata": {
        "id": "gzMOxXLar1vo"
      },
      "source": [
        "#SVM\n",
        "from sklearn import svm"
      ],
      "execution_count": null,
      "outputs": []
    },
    {
      "cell_type": "code",
      "metadata": {
        "colab": {
          "base_uri": "https://localhost:8080/"
        },
        "id": "ymkeYrcXsPhG",
        "outputId": "2c9a2b79-afff-41ea-fdae-33e2a7e2b6a0"
      },
      "source": [
        "svmclf = svm.SVR(kernel='rbf',C=10,degree=6)\n",
        "svmclf.fit(x_train,y_train)\n",
        "svmclf.score(x_test,y_test)"
      ],
      "execution_count": null,
      "outputs": [
        {
          "output_type": "stream",
          "text": [
            "/usr/local/lib/python3.7/dist-packages/sklearn/utils/validation.py:760: DataConversionWarning: A column-vector y was passed when a 1d array was expected. Please change the shape of y to (n_samples, ), for example using ravel().\n",
            "  y = column_or_1d(y, warn=True)\n"
          ],
          "name": "stderr"
        },
        {
          "output_type": "execute_result",
          "data": {
            "text/plain": [
              "0.5941627544201898"
            ]
          },
          "metadata": {
            "tags": []
          },
          "execution_count": 77
        }
      ]
    },
    {
      "cell_type": "code",
      "metadata": {
        "colab": {
          "base_uri": "https://localhost:8080/"
        },
        "id": "W83PlyphtJS5",
        "outputId": "3dfd5032-a8be-4d29-e7e6-113bc7f2d15b"
      },
      "source": [
        "from sklearn.neighbors import KNeighborsRegressor\n",
        "model_kn = KNeighborsRegressor()\n",
        "model_kn.fit(x_train,y_train)\n",
        "model_kn.score(x_test,y_test)"
      ],
      "execution_count": null,
      "outputs": [
        {
          "output_type": "execute_result",
          "data": {
            "text/plain": [
              "0.32121638795984"
            ]
          },
          "metadata": {
            "tags": []
          },
          "execution_count": 76
        }
      ]
    },
    {
      "cell_type": "code",
      "metadata": {
        "colab": {
          "base_uri": "https://localhost:8080/"
        },
        "id": "nK9hqrKnvu0Z",
        "outputId": "1749f7cd-c336-4426-e94f-1f13adacfc95"
      },
      "source": [
        "from sklearn.linear_model import LassoCV\n",
        "model_lv = LassoCV()\n",
        "model_lv.fit(x_train, y_train)"
      ],
      "execution_count": null,
      "outputs": [
        {
          "output_type": "stream",
          "text": [
            "/usr/local/lib/python3.7/dist-packages/sklearn/linear_model/_coordinate_descent.py:1088: DataConversionWarning: A column-vector y was passed when a 1d array was expected. Please change the shape of y to (n_samples, ), for example using ravel().\n",
            "  y = column_or_1d(y, warn=True)\n"
          ],
          "name": "stderr"
        },
        {
          "output_type": "execute_result",
          "data": {
            "text/plain": [
              "LassoCV(alphas=None, copy_X=True, cv=None, eps=0.001, fit_intercept=True,\n",
              "        max_iter=1000, n_alphas=100, n_jobs=None, normalize=False,\n",
              "        positive=False, precompute='auto', random_state=None,\n",
              "        selection='cyclic', tol=0.0001, verbose=False)"
            ]
          },
          "metadata": {
            "tags": []
          },
          "execution_count": 58
        }
      ]
    },
    {
      "cell_type": "code",
      "metadata": {
        "colab": {
          "base_uri": "https://localhost:8080/"
        },
        "id": "1ghtMh4Dv0p3",
        "outputId": "381792bb-c020-464d-82be-5e1b1e766a04"
      },
      "source": [
        "model_lv.score(x_test,y_test)"
      ],
      "execution_count": null,
      "outputs": [
        {
          "output_type": "execute_result",
          "data": {
            "text/plain": [
              "0.3735789344674451"
            ]
          },
          "metadata": {
            "tags": []
          },
          "execution_count": 59
        }
      ]
    },
    {
      "cell_type": "code",
      "metadata": {
        "colab": {
          "base_uri": "https://localhost:8080/"
        },
        "id": "QsZBUiDYv4s4",
        "outputId": "10d63ea6-8595-4854-ec7b-aaec6d6586cd"
      },
      "source": [
        "from sklearn.linear_model import RidgeCV\n",
        "model_r = RidgeCV()\n",
        "model_r.fit(x_train, y_train)"
      ],
      "execution_count": null,
      "outputs": [
        {
          "output_type": "execute_result",
          "data": {
            "text/plain": [
              "RidgeCV(alphas=array([ 0.1,  1. , 10. ]), cv=None, fit_intercept=True,\n",
              "        gcv_mode=None, normalize=False, scoring=None, store_cv_values=False)"
            ]
          },
          "metadata": {
            "tags": []
          },
          "execution_count": 60
        }
      ]
    },
    {
      "cell_type": "code",
      "metadata": {
        "colab": {
          "base_uri": "https://localhost:8080/"
        },
        "id": "X63iN0LmwBO-",
        "outputId": "ccd232ea-de69-42f7-a458-94c0db9a7c60"
      },
      "source": [
        "model_r.score(x_test,y_test)"
      ],
      "execution_count": null,
      "outputs": [
        {
          "output_type": "execute_result",
          "data": {
            "text/plain": [
              "0.37162346692721615"
            ]
          },
          "metadata": {
            "tags": []
          },
          "execution_count": 61
        }
      ]
    },
    {
      "cell_type": "code",
      "metadata": {
        "colab": {
          "base_uri": "https://localhost:8080/"
        },
        "id": "HKcZiaAOwGqQ",
        "outputId": "42456a82-6f5d-4b3f-c29d-1b3ab57fb73b"
      },
      "source": [
        "from sklearn.linear_model import ElasticNetCV\n",
        "model_ev = ElasticNetCV()\n",
        "model_ev.fit(x_train, y_train)"
      ],
      "execution_count": null,
      "outputs": [
        {
          "output_type": "stream",
          "text": [
            "/usr/local/lib/python3.7/dist-packages/sklearn/linear_model/_coordinate_descent.py:1088: DataConversionWarning: A column-vector y was passed when a 1d array was expected. Please change the shape of y to (n_samples, ), for example using ravel().\n",
            "  y = column_or_1d(y, warn=True)\n"
          ],
          "name": "stderr"
        },
        {
          "output_type": "execute_result",
          "data": {
            "text/plain": [
              "ElasticNetCV(alphas=None, copy_X=True, cv=None, eps=0.001, fit_intercept=True,\n",
              "             l1_ratio=0.5, max_iter=1000, n_alphas=100, n_jobs=None,\n",
              "             normalize=False, positive=False, precompute='auto',\n",
              "             random_state=None, selection='cyclic', tol=0.0001, verbose=0)"
            ]
          },
          "metadata": {
            "tags": []
          },
          "execution_count": 62
        }
      ]
    },
    {
      "cell_type": "code",
      "metadata": {
        "colab": {
          "base_uri": "https://localhost:8080/"
        },
        "id": "8IYqTlLXwLA4",
        "outputId": "04b9255c-c4b2-4efc-8823-7e3d202fd3f1"
      },
      "source": [
        "model_ev.score(x_test,y_test)"
      ],
      "execution_count": null,
      "outputs": [
        {
          "output_type": "execute_result",
          "data": {
            "text/plain": [
              "0.37222362707207796"
            ]
          },
          "metadata": {
            "tags": []
          },
          "execution_count": 63
        }
      ]
    },
    {
      "cell_type": "code",
      "metadata": {
        "colab": {
          "base_uri": "https://localhost:8080/"
        },
        "id": "lGU-B3RnwOqn",
        "outputId": "f1203f3e-ee9b-43f7-d8e7-39f0fb50fd1a"
      },
      "source": [
        "from sklearn.naive_bayes import GaussianNB\n",
        "model_gnb = GaussianNB()\n",
        "model_gnb.fit(x_train.astype(\"int\"),y_train.astype(\"int\"))\n",
        "model_gnb.score(x_test.astype(\"int\"),y_test.astype(\"int\"))"
      ],
      "execution_count": null,
      "outputs": [
        {
          "output_type": "stream",
          "text": [
            "/usr/local/lib/python3.7/dist-packages/sklearn/naive_bayes.py:206: DataConversionWarning: A column-vector y was passed when a 1d array was expected. Please change the shape of y to (n_samples, ), for example using ravel().\n",
            "  y = column_or_1d(y, warn=True)\n"
          ],
          "name": "stderr"
        },
        {
          "output_type": "execute_result",
          "data": {
            "text/plain": [
              "0.26745718050065875"
            ]
          },
          "metadata": {
            "tags": []
          },
          "execution_count": 64
        }
      ]
    },
    {
      "cell_type": "code",
      "metadata": {
        "id": "hBCtarHQxuq7"
      },
      "source": [
        "model = tf.keras.Sequential([\n",
        "                                    tf.keras.layers.Dense(1028,input_shape=(29,)),\n",
        "                                    tf.keras.layers.Dense(512,activation='relu'),\n",
        "                                    tf.keras.layers.Dense(256,activation='relu'),\n",
        "                                    tf.keras.layers.Dense(128,activation='relu'),\n",
        "                                    tf.keras.layers.Dense(64,activation='relu'),\n",
        "                                    tf.keras.layers.Dense(1,activation='sigmoid')\n",
        "])"
      ],
      "execution_count": null,
      "outputs": []
    },
    {
      "cell_type": "code",
      "metadata": {
        "id": "4sR2C_F_O7Bf"
      },
      "source": [
        "model.compile(optimizer='adam',loss='mse',metrics=['accuracy'])"
      ],
      "execution_count": null,
      "outputs": []
    },
    {
      "cell_type": "code",
      "metadata": {
        "colab": {
          "base_uri": "https://localhost:8080/"
        },
        "id": "AzhxoFXnQXy9",
        "outputId": "a89bdf76-97e1-4ecb-e615-df040267c634"
      },
      "source": [
        "model.fit(X.astype('float'),Y,epochs=4)"
      ],
      "execution_count": null,
      "outputs": [
        {
          "output_type": "stream",
          "text": [
            "Epoch 1/4\n",
            "882/882 [==============================] - 2s 3ms/step - loss: 0.6628 - accuracy: 0.0000e+00\n",
            "Epoch 2/4\n",
            "882/882 [==============================] - 2s 3ms/step - loss: 0.6621 - accuracy: 0.0000e+00\n",
            "Epoch 3/4\n",
            "882/882 [==============================] - 2s 3ms/step - loss: 0.6624 - accuracy: 0.0000e+00\n",
            "Epoch 4/4\n",
            "882/882 [==============================] - 2s 3ms/step - loss: 0.6613 - accuracy: 0.0000e+00\n"
          ],
          "name": "stdout"
        },
        {
          "output_type": "execute_result",
          "data": {
            "text/plain": [
              "<tensorflow.python.keras.callbacks.History at 0x7f72bc5ca5d0>"
            ]
          },
          "metadata": {
            "tags": []
          },
          "execution_count": 263
        }
      ]
    },
    {
      "cell_type": "code",
      "metadata": {
        "id": "DeVLUO9TQag4"
      },
      "source": [
        ""
      ],
      "execution_count": null,
      "outputs": []
    }
  ]
}