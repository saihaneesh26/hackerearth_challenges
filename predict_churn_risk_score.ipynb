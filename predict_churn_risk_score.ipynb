{
  "nbformat": 4,
  "nbformat_minor": 0,
  "metadata": {
    "colab": {
      "name": "hackerearth2.ipynb",
      "provenance": [],
      "collapsed_sections": [],
      "authorship_tag": "ABX9TyMOlDEmcTYiGycUMVG27lIh",
      "include_colab_link": true
    },
    "kernelspec": {
      "name": "python3",
      "display_name": "Python 3"
    },
    "language_info": {
      "name": "python"
    }
  },
  "cells": [
    {
      "cell_type": "markdown",
      "metadata": {
        "id": "view-in-github",
        "colab_type": "text"
      },
      "source": [
        "<a href=\"https://colab.research.google.com/github/saihaneesh26/hackerearth_challenges/blob/main/predict_churn_risk_score.ipynb\" target=\"_parent\"><img src=\"https://colab.research.google.com/assets/colab-badge.svg\" alt=\"Open In Colab\"/></a>"
      ]
    },
    {
      "cell_type": "code",
      "metadata": {
        "id": "0tU0ikH-wDBC"
      },
      "source": [
        "import pandas as pd\n",
        "import numpy as np\n",
        "from sklearn.preprocessing import StandardScaler"
      ],
      "execution_count": null,
      "outputs": []
    },
    {
      "cell_type": "code",
      "metadata": {
        "id": "otwv6OjNwP0p"
      },
      "source": [
        "df=pd.read_csv('/content/train.csv')\n",
        "df=df.dropna()"
      ],
      "execution_count": null,
      "outputs": []
    },
    {
      "cell_type": "code",
      "metadata": {
        "colab": {
          "base_uri": "https://localhost:8080/"
        },
        "id": "CZcvrNhe3-Wa",
        "outputId": "a881bf28-3319-4ec5-d05d-9aa73923b075"
      },
      "source": [
        "df.churn_risk_score.unique()"
      ],
      "execution_count": null,
      "outputs": [
        {
          "output_type": "execute_result",
          "data": {
            "text/plain": [
              "array([ 2,  5,  3,  4, -1,  1])"
            ]
          },
          "metadata": {
            "tags": []
          },
          "execution_count": 73
        }
      ]
    },
    {
      "cell_type": "code",
      "metadata": {
        "id": "iD9iyvRwwZr3"
      },
      "source": [
        "df=df.dropna(subset=['churn_risk_score'])"
      ],
      "execution_count": null,
      "outputs": []
    },
    {
      "cell_type": "code",
      "metadata": {
        "id": "qaW4vtrMwxL7",
        "colab": {
          "base_uri": "https://localhost:8080/",
          "height": 402
        },
        "outputId": "8e43e061-4ebf-42aa-f0b6-b0a3137c607b"
      },
      "source": [
        "Y=pd.DataFrame(df['churn_risk_score'])\n",
        "Y"
      ],
      "execution_count": null,
      "outputs": [
        {
          "output_type": "execute_result",
          "data": {
            "text/html": [
              "<div>\n",
              "<style scoped>\n",
              "    .dataframe tbody tr th:only-of-type {\n",
              "        vertical-align: middle;\n",
              "    }\n",
              "\n",
              "    .dataframe tbody tr th {\n",
              "        vertical-align: top;\n",
              "    }\n",
              "\n",
              "    .dataframe thead th {\n",
              "        text-align: right;\n",
              "    }\n",
              "</style>\n",
              "<table border=\"1\" class=\"dataframe\">\n",
              "  <thead>\n",
              "    <tr style=\"text-align: right;\">\n",
              "      <th></th>\n",
              "      <th>churn_risk_score</th>\n",
              "    </tr>\n",
              "  </thead>\n",
              "  <tbody>\n",
              "    <tr>\n",
              "      <th>0</th>\n",
              "      <td>2</td>\n",
              "    </tr>\n",
              "    <tr>\n",
              "      <th>2</th>\n",
              "      <td>5</td>\n",
              "    </tr>\n",
              "    <tr>\n",
              "      <th>3</th>\n",
              "      <td>5</td>\n",
              "    </tr>\n",
              "    <tr>\n",
              "      <th>4</th>\n",
              "      <td>5</td>\n",
              "    </tr>\n",
              "    <tr>\n",
              "      <th>5</th>\n",
              "      <td>3</td>\n",
              "    </tr>\n",
              "    <tr>\n",
              "      <th>...</th>\n",
              "      <td>...</td>\n",
              "    </tr>\n",
              "    <tr>\n",
              "      <th>36985</th>\n",
              "      <td>2</td>\n",
              "    </tr>\n",
              "    <tr>\n",
              "      <th>36986</th>\n",
              "      <td>3</td>\n",
              "    </tr>\n",
              "    <tr>\n",
              "      <th>36988</th>\n",
              "      <td>5</td>\n",
              "    </tr>\n",
              "    <tr>\n",
              "      <th>36990</th>\n",
              "      <td>3</td>\n",
              "    </tr>\n",
              "    <tr>\n",
              "      <th>36991</th>\n",
              "      <td>2</td>\n",
              "    </tr>\n",
              "  </tbody>\n",
              "</table>\n",
              "<p>28373 rows × 1 columns</p>\n",
              "</div>"
            ],
            "text/plain": [
              "       churn_risk_score\n",
              "0                     2\n",
              "2                     5\n",
              "3                     5\n",
              "4                     5\n",
              "5                     3\n",
              "...                 ...\n",
              "36985                 2\n",
              "36986                 3\n",
              "36988                 5\n",
              "36990                 3\n",
              "36991                 2\n",
              "\n",
              "[28373 rows x 1 columns]"
            ]
          },
          "metadata": {
            "tags": []
          },
          "execution_count": 330
        }
      ]
    },
    {
      "cell_type": "code",
      "metadata": {
        "id": "ZYX4HK4-54x5"
      },
      "source": [
        "def s(x):\n",
        "  if x==-1:\n",
        "    return int(6)\n",
        "  return int(x)\n",
        "Y.churn_risk_score=Y.churn_risk_score.apply(s)\n",
        "#print(type(Y.churn_risk_score[0]))"
      ],
      "execution_count": null,
      "outputs": []
    },
    {
      "cell_type": "code",
      "metadata": {
        "colab": {
          "base_uri": "https://localhost:8080/"
        },
        "id": "xTS3DGS272VY",
        "outputId": "e2e96abf-472f-499a-b758-f485e821a1f2"
      },
      "source": [
        "Y.churn_risk_score.unique() # -1 -> 0"
      ],
      "execution_count": null,
      "outputs": [
        {
          "output_type": "execute_result",
          "data": {
            "text/plain": [
              "array([2, 5, 3, 4, 6, 1])"
            ]
          },
          "metadata": {
            "tags": []
          },
          "execution_count": 332
        }
      ]
    },
    {
      "cell_type": "code",
      "metadata": {
        "colab": {
          "base_uri": "https://localhost:8080/",
          "height": 333
        },
        "id": "NprwyBpYxY_L",
        "outputId": "7b7bd315-4852-4650-c8e1-981c9d93ecb2"
      },
      "source": [
        "X=df.copy()\n",
        "X=X.drop(['Name','customer_id','security_no','joining_date','referral_id','last_visit_time','churn_risk_score'],axis=1)\n",
        "X.head()"
      ],
      "execution_count": null,
      "outputs": [
        {
          "output_type": "execute_result",
          "data": {
            "text/html": [
              "<div>\n",
              "<style scoped>\n",
              "    .dataframe tbody tr th:only-of-type {\n",
              "        vertical-align: middle;\n",
              "    }\n",
              "\n",
              "    .dataframe tbody tr th {\n",
              "        vertical-align: top;\n",
              "    }\n",
              "\n",
              "    .dataframe thead th {\n",
              "        text-align: right;\n",
              "    }\n",
              "</style>\n",
              "<table border=\"1\" class=\"dataframe\">\n",
              "  <thead>\n",
              "    <tr style=\"text-align: right;\">\n",
              "      <th></th>\n",
              "      <th>age</th>\n",
              "      <th>gender</th>\n",
              "      <th>region_category</th>\n",
              "      <th>membership_category</th>\n",
              "      <th>joined_through_referral</th>\n",
              "      <th>preferred_offer_types</th>\n",
              "      <th>medium_of_operation</th>\n",
              "      <th>internet_option</th>\n",
              "      <th>days_since_last_login</th>\n",
              "      <th>avg_time_spent</th>\n",
              "      <th>avg_transaction_value</th>\n",
              "      <th>avg_frequency_login_days</th>\n",
              "      <th>points_in_wallet</th>\n",
              "      <th>used_special_discount</th>\n",
              "      <th>offer_application_preference</th>\n",
              "      <th>past_complaint</th>\n",
              "      <th>complaint_status</th>\n",
              "      <th>feedback</th>\n",
              "    </tr>\n",
              "  </thead>\n",
              "  <tbody>\n",
              "    <tr>\n",
              "      <th>0</th>\n",
              "      <td>18</td>\n",
              "      <td>F</td>\n",
              "      <td>Village</td>\n",
              "      <td>Platinum Membership</td>\n",
              "      <td>No</td>\n",
              "      <td>Gift Vouchers/Coupons</td>\n",
              "      <td>?</td>\n",
              "      <td>Wi-Fi</td>\n",
              "      <td>17</td>\n",
              "      <td>300.63</td>\n",
              "      <td>53005.25</td>\n",
              "      <td>17.0</td>\n",
              "      <td>781.75</td>\n",
              "      <td>Yes</td>\n",
              "      <td>Yes</td>\n",
              "      <td>No</td>\n",
              "      <td>Not Applicable</td>\n",
              "      <td>Products always in Stock</td>\n",
              "    </tr>\n",
              "    <tr>\n",
              "      <th>2</th>\n",
              "      <td>44</td>\n",
              "      <td>F</td>\n",
              "      <td>Town</td>\n",
              "      <td>No Membership</td>\n",
              "      <td>Yes</td>\n",
              "      <td>Gift Vouchers/Coupons</td>\n",
              "      <td>Desktop</td>\n",
              "      <td>Wi-Fi</td>\n",
              "      <td>14</td>\n",
              "      <td>516.16</td>\n",
              "      <td>21027.00</td>\n",
              "      <td>22.0</td>\n",
              "      <td>500.69</td>\n",
              "      <td>No</td>\n",
              "      <td>Yes</td>\n",
              "      <td>Yes</td>\n",
              "      <td>Solved in Follow-up</td>\n",
              "      <td>Poor Website</td>\n",
              "    </tr>\n",
              "    <tr>\n",
              "      <th>3</th>\n",
              "      <td>37</td>\n",
              "      <td>M</td>\n",
              "      <td>City</td>\n",
              "      <td>No Membership</td>\n",
              "      <td>Yes</td>\n",
              "      <td>Gift Vouchers/Coupons</td>\n",
              "      <td>Desktop</td>\n",
              "      <td>Mobile_Data</td>\n",
              "      <td>11</td>\n",
              "      <td>53.27</td>\n",
              "      <td>25239.56</td>\n",
              "      <td>6.0</td>\n",
              "      <td>567.66</td>\n",
              "      <td>No</td>\n",
              "      <td>Yes</td>\n",
              "      <td>Yes</td>\n",
              "      <td>Unsolved</td>\n",
              "      <td>Poor Website</td>\n",
              "    </tr>\n",
              "    <tr>\n",
              "      <th>4</th>\n",
              "      <td>31</td>\n",
              "      <td>F</td>\n",
              "      <td>City</td>\n",
              "      <td>No Membership</td>\n",
              "      <td>No</td>\n",
              "      <td>Credit/Debit Card Offers</td>\n",
              "      <td>Smartphone</td>\n",
              "      <td>Mobile_Data</td>\n",
              "      <td>20</td>\n",
              "      <td>113.13</td>\n",
              "      <td>24483.66</td>\n",
              "      <td>16.0</td>\n",
              "      <td>663.06</td>\n",
              "      <td>No</td>\n",
              "      <td>Yes</td>\n",
              "      <td>Yes</td>\n",
              "      <td>Solved</td>\n",
              "      <td>Poor Website</td>\n",
              "    </tr>\n",
              "    <tr>\n",
              "      <th>5</th>\n",
              "      <td>13</td>\n",
              "      <td>M</td>\n",
              "      <td>City</td>\n",
              "      <td>Gold Membership</td>\n",
              "      <td>No</td>\n",
              "      <td>Gift Vouchers/Coupons</td>\n",
              "      <td>?</td>\n",
              "      <td>Wi-Fi</td>\n",
              "      <td>23</td>\n",
              "      <td>433.62</td>\n",
              "      <td>13884.77</td>\n",
              "      <td>24.0</td>\n",
              "      <td>722.27</td>\n",
              "      <td>Yes</td>\n",
              "      <td>No</td>\n",
              "      <td>Yes</td>\n",
              "      <td>Unsolved</td>\n",
              "      <td>No reason specified</td>\n",
              "    </tr>\n",
              "  </tbody>\n",
              "</table>\n",
              "</div>"
            ],
            "text/plain": [
              "   age gender  ...     complaint_status                  feedback\n",
              "0   18      F  ...       Not Applicable  Products always in Stock\n",
              "2   44      F  ...  Solved in Follow-up              Poor Website\n",
              "3   37      M  ...             Unsolved              Poor Website\n",
              "4   31      F  ...               Solved              Poor Website\n",
              "5   13      M  ...             Unsolved       No reason specified\n",
              "\n",
              "[5 rows x 18 columns]"
            ]
          },
          "metadata": {
            "tags": []
          },
          "execution_count": 77
        }
      ]
    },
    {
      "cell_type": "code",
      "metadata": {
        "colab": {
          "base_uri": "https://localhost:8080/"
        },
        "id": "9KeqywCExk8P",
        "outputId": "cbcca303-f1bb-4f23-84eb-a877f00d2128"
      },
      "source": [
        "scaler=StandardScaler()\n",
        "X=pd.get_dummies(X,columns=['gender','region_category','membership_category','joined_through_referral','preferred_offer_types','medium_of_operation','internet_option','used_special_discount','offer_application_preference','past_complaint','complaint_status','feedback'])\n",
        "#X=pd.get_dummies(df['gender'])\n",
        "X.columns"
      ],
      "execution_count": null,
      "outputs": [
        {
          "output_type": "execute_result",
          "data": {
            "text/plain": [
              "Index(['age', 'days_since_last_login', 'avg_time_spent',\n",
              "       'avg_transaction_value', 'avg_frequency_login_days', 'points_in_wallet',\n",
              "       'gender_F', 'gender_M', 'gender_Unknown', 'region_category_City',\n",
              "       'region_category_Town', 'region_category_Village',\n",
              "       'membership_category_Basic Membership',\n",
              "       'membership_category_Gold Membership',\n",
              "       'membership_category_No Membership',\n",
              "       'membership_category_Platinum Membership',\n",
              "       'membership_category_Premium Membership',\n",
              "       'membership_category_Silver Membership', 'joined_through_referral_?',\n",
              "       'joined_through_referral_No', 'joined_through_referral_Yes',\n",
              "       'preferred_offer_types_Credit/Debit Card Offers',\n",
              "       'preferred_offer_types_Gift Vouchers/Coupons',\n",
              "       'preferred_offer_types_Without Offers', 'medium_of_operation_?',\n",
              "       'medium_of_operation_Both', 'medium_of_operation_Desktop',\n",
              "       'medium_of_operation_Smartphone', 'internet_option_Fiber_Optic',\n",
              "       'internet_option_Mobile_Data', 'internet_option_Wi-Fi',\n",
              "       'used_special_discount_No', 'used_special_discount_Yes',\n",
              "       'offer_application_preference_No', 'offer_application_preference_Yes',\n",
              "       'past_complaint_No', 'past_complaint_Yes',\n",
              "       'complaint_status_No Information Available',\n",
              "       'complaint_status_Not Applicable', 'complaint_status_Solved',\n",
              "       'complaint_status_Solved in Follow-up', 'complaint_status_Unsolved',\n",
              "       'feedback_No reason specified', 'feedback_Poor Customer Service',\n",
              "       'feedback_Poor Product Quality', 'feedback_Poor Website',\n",
              "       'feedback_Products always in Stock', 'feedback_Quality Customer Care',\n",
              "       'feedback_Reasonable Price', 'feedback_Too many ads',\n",
              "       'feedback_User Friendly Website'],\n",
              "      dtype='object')"
            ]
          },
          "metadata": {
            "tags": []
          },
          "execution_count": 78
        }
      ]
    },
    {
      "cell_type": "code",
      "metadata": {
        "id": "-rZL31tG097a"
      },
      "source": [
        "def f(s):\n",
        "  if s==\"Error\":\n",
        "    return mean_avg_frequency_login_days\n",
        "  else:\n",
        "    return s\n",
        "mean_avg_frequency_login_days=0\n",
        "c=0\n",
        "for i in X.avg_frequency_login_days:\n",
        "  if i!=\"Error\":\n",
        "    mean_avg_frequency_login_days+=float(i)\n",
        "    c+=1\n",
        "mean_avg_frequency_login_days/=c\n",
        "X.avg_frequency_login_days=X.avg_frequency_login_days.apply(f)"
      ],
      "execution_count": null,
      "outputs": []
    },
    {
      "cell_type": "code",
      "metadata": {
        "colab": {
          "base_uri": "https://localhost:8080/"
        },
        "id": "GCBARCvly83v",
        "outputId": "2b377c36-4f77-4a44-ddab-e93b6f4fcdce"
      },
      "source": [
        "cols_for_Scaling=['days_since_last_login','age','avg_frequency_login_days','points_in_wallet','avg_time_spent','avg_transaction_value']\n",
        "X[cols_for_Scaling]=scaler.fit_transform(X[cols_for_Scaling])\n",
        "X.columns"
      ],
      "execution_count": null,
      "outputs": [
        {
          "output_type": "execute_result",
          "data": {
            "text/plain": [
              "Index(['age', 'days_since_last_login', 'avg_time_spent',\n",
              "       'avg_transaction_value', 'avg_frequency_login_days', 'points_in_wallet',\n",
              "       'gender_F', 'gender_M', 'gender_Unknown', 'region_category_City',\n",
              "       'region_category_Town', 'region_category_Village',\n",
              "       'membership_category_Basic Membership',\n",
              "       'membership_category_Gold Membership',\n",
              "       'membership_category_No Membership',\n",
              "       'membership_category_Platinum Membership',\n",
              "       'membership_category_Premium Membership',\n",
              "       'membership_category_Silver Membership', 'joined_through_referral_?',\n",
              "       'joined_through_referral_No', 'joined_through_referral_Yes',\n",
              "       'preferred_offer_types_Credit/Debit Card Offers',\n",
              "       'preferred_offer_types_Gift Vouchers/Coupons',\n",
              "       'preferred_offer_types_Without Offers', 'medium_of_operation_?',\n",
              "       'medium_of_operation_Both', 'medium_of_operation_Desktop',\n",
              "       'medium_of_operation_Smartphone', 'internet_option_Fiber_Optic',\n",
              "       'internet_option_Mobile_Data', 'internet_option_Wi-Fi',\n",
              "       'used_special_discount_No', 'used_special_discount_Yes',\n",
              "       'offer_application_preference_No', 'offer_application_preference_Yes',\n",
              "       'past_complaint_No', 'past_complaint_Yes',\n",
              "       'complaint_status_No Information Available',\n",
              "       'complaint_status_Not Applicable', 'complaint_status_Solved',\n",
              "       'complaint_status_Solved in Follow-up', 'complaint_status_Unsolved',\n",
              "       'feedback_No reason specified', 'feedback_Poor Customer Service',\n",
              "       'feedback_Poor Product Quality', 'feedback_Poor Website',\n",
              "       'feedback_Products always in Stock', 'feedback_Quality Customer Care',\n",
              "       'feedback_Reasonable Price', 'feedback_Too many ads',\n",
              "       'feedback_User Friendly Website'],\n",
              "      dtype='object')"
            ]
          },
          "metadata": {
            "tags": []
          },
          "execution_count": 80
        }
      ]
    },
    {
      "cell_type": "code",
      "metadata": {
        "id": "ViNZ-eg80PyK",
        "colab": {
          "base_uri": "https://localhost:8080/"
        },
        "outputId": "a554bb99-121c-4819-b143-a60dd5c038a4"
      },
      "source": [
        "X.shape"
      ],
      "execution_count": null,
      "outputs": [
        {
          "output_type": "execute_result",
          "data": {
            "text/plain": [
              "(28373, 51)"
            ]
          },
          "metadata": {
            "tags": []
          },
          "execution_count": 81
        }
      ]
    },
    {
      "cell_type": "code",
      "metadata": {
        "colab": {
          "base_uri": "https://localhost:8080/"
        },
        "id": "n6TWDY2-2qcJ",
        "outputId": "50bbb87e-b4f6-41e6-9770-81cccf797d72"
      },
      "source": [
        "Y.shape"
      ],
      "execution_count": null,
      "outputs": [
        {
          "output_type": "execute_result",
          "data": {
            "text/plain": [
              "(28373, 1)"
            ]
          },
          "metadata": {
            "tags": []
          },
          "execution_count": 82
        }
      ]
    },
    {
      "cell_type": "code",
      "metadata": {
        "id": "wI6Q0Wn83E6o"
      },
      "source": [
        "from sklearn.model_selection import train_test_split\n",
        "import tensorflow as tf"
      ],
      "execution_count": null,
      "outputs": []
    },
    {
      "cell_type": "code",
      "metadata": {
        "id": "_UV41WMD28Yp",
        "colab": {
          "base_uri": "https://localhost:8080/",
          "height": 402
        },
        "outputId": "1aad2a9c-0969-4f65-a4b4-390aa92f2ce0"
      },
      "source": [
        "X_train,X_test,Y_train,Y_test=train_test_split(X,Y)\n",
        "#type(X_train[0])\"\"\n",
        "X_train=np.array(X_train)\n",
        "X_train.shape\n",
        "Y_test[Y_test['churn_risk_score']==6]"
      ],
      "execution_count": null,
      "outputs": [
        {
          "output_type": "execute_result",
          "data": {
            "text/html": [
              "<div>\n",
              "<style scoped>\n",
              "    .dataframe tbody tr th:only-of-type {\n",
              "        vertical-align: middle;\n",
              "    }\n",
              "\n",
              "    .dataframe tbody tr th {\n",
              "        vertical-align: top;\n",
              "    }\n",
              "\n",
              "    .dataframe thead th {\n",
              "        text-align: right;\n",
              "    }\n",
              "</style>\n",
              "<table border=\"1\" class=\"dataframe\">\n",
              "  <thead>\n",
              "    <tr style=\"text-align: right;\">\n",
              "      <th></th>\n",
              "      <th>churn_risk_score</th>\n",
              "    </tr>\n",
              "  </thead>\n",
              "  <tbody>\n",
              "    <tr>\n",
              "      <th>13973</th>\n",
              "      <td>6</td>\n",
              "    </tr>\n",
              "    <tr>\n",
              "      <th>35862</th>\n",
              "      <td>6</td>\n",
              "    </tr>\n",
              "    <tr>\n",
              "      <th>3693</th>\n",
              "      <td>6</td>\n",
              "    </tr>\n",
              "    <tr>\n",
              "      <th>7268</th>\n",
              "      <td>6</td>\n",
              "    </tr>\n",
              "    <tr>\n",
              "      <th>27065</th>\n",
              "      <td>6</td>\n",
              "    </tr>\n",
              "    <tr>\n",
              "      <th>...</th>\n",
              "      <td>...</td>\n",
              "    </tr>\n",
              "    <tr>\n",
              "      <th>3735</th>\n",
              "      <td>6</td>\n",
              "    </tr>\n",
              "    <tr>\n",
              "      <th>11429</th>\n",
              "      <td>6</td>\n",
              "    </tr>\n",
              "    <tr>\n",
              "      <th>19212</th>\n",
              "      <td>6</td>\n",
              "    </tr>\n",
              "    <tr>\n",
              "      <th>34701</th>\n",
              "      <td>6</td>\n",
              "    </tr>\n",
              "    <tr>\n",
              "      <th>8388</th>\n",
              "      <td>6</td>\n",
              "    </tr>\n",
              "  </tbody>\n",
              "</table>\n",
              "<p>202 rows × 1 columns</p>\n",
              "</div>"
            ],
            "text/plain": [
              "       churn_risk_score\n",
              "13973                 6\n",
              "35862                 6\n",
              "3693                  6\n",
              "7268                  6\n",
              "27065                 6\n",
              "...                 ...\n",
              "3735                  6\n",
              "11429                 6\n",
              "19212                 6\n",
              "34701                 6\n",
              "8388                  6\n",
              "\n",
              "[202 rows x 1 columns]"
            ]
          },
          "metadata": {
            "tags": []
          },
          "execution_count": 333
        }
      ]
    },
    {
      "cell_type": "code",
      "metadata": {
        "id": "IzYJF3BF6rdP"
      },
      "source": [
        "Y_train=np.array(Y_train)"
      ],
      "execution_count": null,
      "outputs": []
    },
    {
      "cell_type": "code",
      "metadata": {
        "id": "3QOV7yCYHvgQ",
        "colab": {
          "base_uri": "https://localhost:8080/"
        },
        "outputId": "f8ff0423-dbbb-4780-b27a-7a959d196227"
      },
      "source": [
        "print(\"x_train shape\"+str(X_train.shape))\n",
        "print(\"ytrain shape\"+str(Y_train.shape))"
      ],
      "execution_count": null,
      "outputs": [
        {
          "output_type": "stream",
          "text": [
            "x_train shape(21279, 51)\n",
            "ytrain shape(21279, 1)\n"
          ],
          "name": "stdout"
        }
      ]
    },
    {
      "cell_type": "code",
      "metadata": {
        "colab": {
          "base_uri": "https://localhost:8080/"
        },
        "id": "buM5csD33W_R",
        "outputId": "5c7eebc0-8e94-415d-a5cf-80af3237b451"
      },
      "source": [
        "#Y_train=np.reshape(Y_train,[])\n",
        "df.iloc[6436]"
      ],
      "execution_count": null,
      "outputs": [
        {
          "output_type": "execute_result",
          "data": {
            "text/plain": [
              "customer_id                     fffe4300490044003700340036003500\n",
              "Name                                                Brendon Eder\n",
              "age                                                           11\n",
              "gender                                                         M\n",
              "security_no                                              AB2U35X\n",
              "region_category                                          Village\n",
              "membership_category                             Basic Membership\n",
              "joining_date                                          2017-03-26\n",
              "joined_through_referral                                      Yes\n",
              "referral_id                                              CID7248\n",
              "preferred_offer_types                      Gift Vouchers/Coupons\n",
              "medium_of_operation                                      Desktop\n",
              "internet_option                                            Wi-Fi\n",
              "last_visit_time                                         18:35:07\n",
              "days_since_last_login                                         12\n",
              "avg_time_spent                                            781.57\n",
              "avg_transaction_value                                    14841.9\n",
              "avg_frequency_login_days                                    13.0\n",
              "points_in_wallet                                          659.81\n",
              "used_special_discount                                        Yes\n",
              "offer_application_preference                                  No\n",
              "past_complaint                                                No\n",
              "complaint_status                                  Not Applicable\n",
              "feedback                                   Poor Customer Service\n",
              "churn_risk_score                                               4\n",
              "Name: 6436, dtype: object"
            ]
          },
          "metadata": {
            "tags": []
          },
          "execution_count": 128
        }
      ]
    },
    {
      "cell_type": "code",
      "metadata": {
        "colab": {
          "base_uri": "https://localhost:8080/"
        },
        "id": "CdFGXlnumNwC",
        "outputId": "a6ef001c-d1a1-4ad5-e9e4-062178a6c82d"
      },
      "source": [
        "X_train.shape\n",
        "Y_train.shape"
      ],
      "execution_count": null,
      "outputs": [
        {
          "output_type": "execute_result",
          "data": {
            "text/plain": [
              "(5103, 6)"
            ]
          },
          "metadata": {
            "tags": []
          },
          "execution_count": 133
        }
      ]
    },
    {
      "cell_type": "code",
      "metadata": {
        "id": "bcQFDMcR3bKX"
      },
      "source": [
        "model=tf.keras.Sequential([\n",
        "    tf.keras.layers.Flatten(input_shape=(51,)),\n",
        "    tf.keras.layers.Dense(256,activation='relu'),\n",
        "    tf.keras.layers.Dense(128,activation='relu'),\n",
        "    tf.keras.layers.Dense(6,activation='softmax')]\n",
        ")"
      ],
      "execution_count": null,
      "outputs": []
    },
    {
      "cell_type": "code",
      "metadata": {
        "id": "3T7VYJB15MiM"
      },
      "source": [
        "adam=tf.keras.optimizers.Adam(0.001)\n",
        "model.compile(optimizer=adam,loss='sparse_categorical_crossentropy',metrics=['accuracy'])"
      ],
      "execution_count": null,
      "outputs": []
    },
    {
      "cell_type": "code",
      "metadata": {
        "colab": {
          "base_uri": "https://localhost:8080/"
        },
        "id": "F4rnQWpo4FEO",
        "outputId": "fe9cfc44-e138-47c3-b0d3-d875913ff650"
      },
      "source": [
        "model.fit(X_train,Y_train,epochs=50)"
      ],
      "execution_count": null,
      "outputs": [
        {
          "output_type": "stream",
          "text": [
            "Epoch 1/5\n",
            "665/665 [==============================] - 1s 2ms/step - loss: 0.0556 - accuracy: 0.9836\n",
            "Epoch 2/5\n",
            "665/665 [==============================] - 1s 2ms/step - loss: 0.0693 - accuracy: 0.9772\n",
            "Epoch 3/5\n",
            "665/665 [==============================] - 1s 2ms/step - loss: 0.0678 - accuracy: 0.9766\n",
            "Epoch 4/5\n",
            "665/665 [==============================] - 1s 2ms/step - loss: 0.0441 - accuracy: 0.9877\n",
            "Epoch 5/5\n",
            "665/665 [==============================] - 1s 2ms/step - loss: 0.0533 - accuracy: 0.9833\n"
          ],
          "name": "stdout"
        },
        {
          "output_type": "execute_result",
          "data": {
            "text/plain": [
              "<tensorflow.python.keras.callbacks.History at 0x7f8d39a1de10>"
            ]
          },
          "metadata": {
            "tags": []
          },
          "execution_count": 180
        }
      ]
    },
    {
      "cell_type": "code",
      "metadata": {
        "colab": {
          "base_uri": "https://localhost:8080/"
        },
        "id": "2Tla-IFlH-iS",
        "outputId": "6ecd7a79-b03b-4129-e55d-aa8ff6578a01"
      },
      "source": [
        "ahsdk=np.array(Y_test)\n",
        "np.unique(ahsdk)"
      ],
      "execution_count": null,
      "outputs": [
        {
          "output_type": "execute_result",
          "data": {
            "text/plain": [
              "array([0, 1, 2, 3, 4, 5])"
            ]
          },
          "metadata": {
            "tags": []
          },
          "execution_count": 231
        }
      ]
    },
    {
      "cell_type": "code",
      "metadata": {
        "colab": {
          "base_uri": "https://localhost:8080/"
        },
        "id": "Z22CPYKHqG3d",
        "outputId": "62f062c8-3c46-49fe-ba70-7dfbcbde5bdd"
      },
      "source": [
        "ar=list(X_test.iloc[0])\n",
        "ar=np.array(ar)\n",
        "ar=np.reshape(ar,[51])\n",
        "ar.shape"
      ],
      "execution_count": null,
      "outputs": [
        {
          "output_type": "execute_result",
          "data": {
            "text/plain": [
              "(51,)"
            ]
          },
          "metadata": {
            "tags": []
          },
          "execution_count": 152
        }
      ]
    },
    {
      "cell_type": "code",
      "metadata": {
        "colab": {
          "base_uri": "https://localhost:8080/"
        },
        "id": "T42d3Dgz5da4",
        "outputId": "816fa26c-5609-4c09-fd46-2aa67fbdc40a"
      },
      "source": [
        "arr=model.predict(X_test)#6436 - 0\n",
        "#np.argmax(model.predict(X_test)[0][0])\n",
        "#X_test\n",
        "#arr[0]\n",
        "model.evaluate(X_test,Y_test)"
      ],
      "execution_count": null,
      "outputs": [
        {
          "output_type": "stream",
          "text": [
            "222/222 [==============================] - 0s 2ms/step - loss: 1.7161 - accuracy: 0.7254\n"
          ],
          "name": "stdout"
        },
        {
          "output_type": "execute_result",
          "data": {
            "text/plain": [
              "[1.7160574197769165, 0.725401759147644]"
            ]
          },
          "metadata": {
            "tags": []
          },
          "execution_count": 227
        }
      ]
    },
    {
      "cell_type": "code",
      "metadata": {
        "colab": {
          "base_uri": "https://localhost:8080/"
        },
        "id": "GCUBJLsl9ws9",
        "outputId": "694ee75e-5906-44fb-c796-ea071b9ad496"
      },
      "source": [
        "s=[]\n",
        "for i in arr:\n",
        "  s.append(np.argmax(i))\n",
        "s=np.array(s)\n",
        "np.unique(s)"
      ],
      "execution_count": null,
      "outputs": [
        {
          "output_type": "execute_result",
          "data": {
            "text/plain": [
              "array([0, 1, 2, 3, 4, 5])"
            ]
          },
          "metadata": {
            "tags": []
          },
          "execution_count": 166
        }
      ]
    },
    {
      "cell_type": "code",
      "metadata": {
        "id": "Cic7JtMl-zQi"
      },
      "source": [
        "li=X_test.index\n",
        "d=dict()\n",
        "count=0\n",
        "for i in li:\n",
        "  d[i]=s[count]\n",
        "  count+=1\n",
        "d"
      ],
      "execution_count": null,
      "outputs": []
    },
    {
      "cell_type": "code",
      "metadata": {
        "colab": {
          "base_uri": "https://localhost:8080/"
        },
        "id": "9A87ce1YsFOt",
        "outputId": "1710f3a4-d753-4ee7-a786-b8c5e710a1a9"
      },
      "source": [
        "#X_test.head()\n",
        "df.iloc[6436]"
      ],
      "execution_count": null,
      "outputs": [
        {
          "output_type": "execute_result",
          "data": {
            "text/plain": [
              "customer_id                     fffe4300490044003700340036003500\n",
              "Name                                                Brendon Eder\n",
              "age                                                           11\n",
              "gender                                                         M\n",
              "security_no                                              AB2U35X\n",
              "region_category                                          Village\n",
              "membership_category                             Basic Membership\n",
              "joining_date                                          2017-03-26\n",
              "joined_through_referral                                      Yes\n",
              "referral_id                                              CID7248\n",
              "preferred_offer_types                      Gift Vouchers/Coupons\n",
              "medium_of_operation                                      Desktop\n",
              "internet_option                                            Wi-Fi\n",
              "last_visit_time                                         18:35:07\n",
              "days_since_last_login                                         12\n",
              "avg_time_spent                                            781.57\n",
              "avg_transaction_value                                    14841.9\n",
              "avg_frequency_login_days                                    13.0\n",
              "points_in_wallet                                          659.81\n",
              "used_special_discount                                        Yes\n",
              "offer_application_preference                                  No\n",
              "past_complaint                                                No\n",
              "complaint_status                                  Not Applicable\n",
              "feedback                                   Poor Customer Service\n",
              "churn_risk_score                                               4\n",
              "Name: 6436, dtype: object"
            ]
          },
          "metadata": {
            "tags": []
          },
          "execution_count": 130
        }
      ]
    },
    {
      "cell_type": "code",
      "metadata": {
        "colab": {
          "base_uri": "https://localhost:8080/"
        },
        "id": "kPfdCBP9_Yvm",
        "outputId": "688e3786-7bb5-472d-9b69-54d4d7da7748"
      },
      "source": [
        "model.evaluate(X_test,Y_test,verbose=2)"
      ],
      "execution_count": null,
      "outputs": [
        {
          "output_type": "stream",
          "text": [
            "222/222 - 0s - loss: 1.7161 - accuracy: 0.7254\n"
          ],
          "name": "stdout"
        },
        {
          "output_type": "execute_result",
          "data": {
            "text/plain": [
              "[1.7160574197769165, 0.725401759147644]"
            ]
          },
          "metadata": {
            "tags": []
          },
          "execution_count": 181
        }
      ]
    },
    {
      "cell_type": "code",
      "metadata": {
        "colab": {
          "base_uri": "https://localhost:8080/"
        },
        "id": "cJ7eItnu8yjS",
        "outputId": "95826ecc-b992-4167-d852-399827ef30b2"
      },
      "source": [
        "from sklearn.naive_bayes import GaussianNB\n",
        "m=GaussianNB()\n",
        "m.fit(X_train,Y_train)"
      ],
      "execution_count": null,
      "outputs": [
        {
          "output_type": "stream",
          "text": [
            "/usr/local/lib/python3.7/dist-packages/sklearn/naive_bayes.py:206: DataConversionWarning: A column-vector y was passed when a 1d array was expected. Please change the shape of y to (n_samples, ), for example using ravel().\n",
            "  y = column_or_1d(y, warn=True)\n"
          ],
          "name": "stderr"
        },
        {
          "output_type": "execute_result",
          "data": {
            "text/plain": [
              "GaussianNB(priors=None, var_smoothing=1e-09)"
            ]
          },
          "metadata": {
            "tags": []
          },
          "execution_count": 177
        }
      ]
    },
    {
      "cell_type": "code",
      "metadata": {
        "colab": {
          "base_uri": "https://localhost:8080/"
        },
        "id": "qYLCflCn-fM5",
        "outputId": "b1784cd2-09c6-4630-c119-cdf89422fda1"
      },
      "source": [
        "m.score(X_test,Y_test)"
      ],
      "execution_count": null,
      "outputs": [
        {
          "output_type": "execute_result",
          "data": {
            "text/plain": [
              "0.6532280800676629"
            ]
          },
          "metadata": {
            "tags": []
          },
          "execution_count": 179
        }
      ]
    },
    {
      "cell_type": "code",
      "metadata": {
        "id": "ReONFPApD0ap",
        "colab": {
          "base_uri": "https://localhost:8080/",
          "height": 674
        },
        "outputId": "fa33a2bf-dea1-4794-eede-f0593a143eab"
      },
      "source": [
        "### process the test data set which is given\n",
        "test=pd.read_csv('/content/test.csv')\n",
        "test"
      ],
      "execution_count": null,
      "outputs": [
        {
          "output_type": "execute_result",
          "data": {
            "text/html": [
              "<div>\n",
              "<style scoped>\n",
              "    .dataframe tbody tr th:only-of-type {\n",
              "        vertical-align: middle;\n",
              "    }\n",
              "\n",
              "    .dataframe tbody tr th {\n",
              "        vertical-align: top;\n",
              "    }\n",
              "\n",
              "    .dataframe thead th {\n",
              "        text-align: right;\n",
              "    }\n",
              "</style>\n",
              "<table border=\"1\" class=\"dataframe\">\n",
              "  <thead>\n",
              "    <tr style=\"text-align: right;\">\n",
              "      <th></th>\n",
              "      <th>customer_id</th>\n",
              "      <th>Name</th>\n",
              "      <th>age</th>\n",
              "      <th>gender</th>\n",
              "      <th>security_no</th>\n",
              "      <th>region_category</th>\n",
              "      <th>membership_category</th>\n",
              "      <th>joining_date</th>\n",
              "      <th>joined_through_referral</th>\n",
              "      <th>referral_id</th>\n",
              "      <th>preferred_offer_types</th>\n",
              "      <th>medium_of_operation</th>\n",
              "      <th>internet_option</th>\n",
              "      <th>last_visit_time</th>\n",
              "      <th>days_since_last_login</th>\n",
              "      <th>avg_time_spent</th>\n",
              "      <th>avg_transaction_value</th>\n",
              "      <th>avg_frequency_login_days</th>\n",
              "      <th>points_in_wallet</th>\n",
              "      <th>used_special_discount</th>\n",
              "      <th>offer_application_preference</th>\n",
              "      <th>past_complaint</th>\n",
              "      <th>complaint_status</th>\n",
              "      <th>feedback</th>\n",
              "    </tr>\n",
              "  </thead>\n",
              "  <tbody>\n",
              "    <tr>\n",
              "      <th>0</th>\n",
              "      <td>fffe43004900440031003700300030003400</td>\n",
              "      <td>Alethia Meints</td>\n",
              "      <td>50</td>\n",
              "      <td>F</td>\n",
              "      <td>OQJ1XAY</td>\n",
              "      <td>Village</td>\n",
              "      <td>Premium Membership</td>\n",
              "      <td>2015-11-02</td>\n",
              "      <td>No</td>\n",
              "      <td>xxxxxxxx</td>\n",
              "      <td>Without Offers</td>\n",
              "      <td>Smartphone</td>\n",
              "      <td>Wi-Fi</td>\n",
              "      <td>07:19:30</td>\n",
              "      <td>12</td>\n",
              "      <td>386.26</td>\n",
              "      <td>40721.44</td>\n",
              "      <td>7.0</td>\n",
              "      <td>733.830000</td>\n",
              "      <td>Yes</td>\n",
              "      <td>No</td>\n",
              "      <td>No</td>\n",
              "      <td>Not Applicable</td>\n",
              "      <td>Poor Product Quality</td>\n",
              "    </tr>\n",
              "    <tr>\n",
              "      <th>1</th>\n",
              "      <td>fffe43004900440031003900370037003300</td>\n",
              "      <td>Ming Lopez</td>\n",
              "      <td>41</td>\n",
              "      <td>M</td>\n",
              "      <td>OUQRPKO</td>\n",
              "      <td>Village</td>\n",
              "      <td>Gold Membership</td>\n",
              "      <td>2016-03-01</td>\n",
              "      <td>No</td>\n",
              "      <td>xxxxxxxx</td>\n",
              "      <td>Without Offers</td>\n",
              "      <td>Desktop</td>\n",
              "      <td>Fiber_Optic</td>\n",
              "      <td>22:21:16</td>\n",
              "      <td>11</td>\n",
              "      <td>37.80</td>\n",
              "      <td>9644.40</td>\n",
              "      <td>9.0</td>\n",
              "      <td>726.000000</td>\n",
              "      <td>Yes</td>\n",
              "      <td>No</td>\n",
              "      <td>No</td>\n",
              "      <td>Not Applicable</td>\n",
              "      <td>Poor Website</td>\n",
              "    </tr>\n",
              "    <tr>\n",
              "      <th>2</th>\n",
              "      <td>fffe43004900440034003800360037003000</td>\n",
              "      <td>Carina Flannigan</td>\n",
              "      <td>31</td>\n",
              "      <td>F</td>\n",
              "      <td>02J2RE7</td>\n",
              "      <td>Town</td>\n",
              "      <td>Silver Membership</td>\n",
              "      <td>2017-03-03</td>\n",
              "      <td>No</td>\n",
              "      <td>xxxxxxxx</td>\n",
              "      <td>Gift Vouchers/Coupons</td>\n",
              "      <td>Both</td>\n",
              "      <td>Mobile_Data</td>\n",
              "      <td>16:40:39</td>\n",
              "      <td>18</td>\n",
              "      <td>215.36</td>\n",
              "      <td>3693.25</td>\n",
              "      <td>21.0</td>\n",
              "      <td>713.780000</td>\n",
              "      <td>Yes</td>\n",
              "      <td>No</td>\n",
              "      <td>Yes</td>\n",
              "      <td>Solved in Follow-up</td>\n",
              "      <td>No reason specified</td>\n",
              "    </tr>\n",
              "    <tr>\n",
              "      <th>3</th>\n",
              "      <td>fffe43004900440036003200370033003400</td>\n",
              "      <td>Kyung Wanner</td>\n",
              "      <td>64</td>\n",
              "      <td>M</td>\n",
              "      <td>5YEQIF1</td>\n",
              "      <td>Town</td>\n",
              "      <td>Silver Membership</td>\n",
              "      <td>2017-08-18</td>\n",
              "      <td>Yes</td>\n",
              "      <td>CID8941</td>\n",
              "      <td>Credit/Debit Card Offers</td>\n",
              "      <td>?</td>\n",
              "      <td>Fiber_Optic</td>\n",
              "      <td>14:56:17</td>\n",
              "      <td>-999</td>\n",
              "      <td>44.57</td>\n",
              "      <td>36809.56</td>\n",
              "      <td>11.0</td>\n",
              "      <td>744.970000</td>\n",
              "      <td>Yes</td>\n",
              "      <td>No</td>\n",
              "      <td>Yes</td>\n",
              "      <td>No Information Available</td>\n",
              "      <td>Too many ads</td>\n",
              "    </tr>\n",
              "    <tr>\n",
              "      <th>4</th>\n",
              "      <td>fffe43004900440035003000370031003900</td>\n",
              "      <td>Enola Gatto</td>\n",
              "      <td>16</td>\n",
              "      <td>F</td>\n",
              "      <td>100RYB5</td>\n",
              "      <td>Town</td>\n",
              "      <td>No Membership</td>\n",
              "      <td>2015-05-05</td>\n",
              "      <td>Yes</td>\n",
              "      <td>CID5690</td>\n",
              "      <td>Without Offers</td>\n",
              "      <td>Smartphone</td>\n",
              "      <td>Mobile_Data</td>\n",
              "      <td>02:57:53</td>\n",
              "      <td>6</td>\n",
              "      <td>349.88</td>\n",
              "      <td>40675.86</td>\n",
              "      <td>8.0</td>\n",
              "      <td>299.048351</td>\n",
              "      <td>No</td>\n",
              "      <td>Yes</td>\n",
              "      <td>Yes</td>\n",
              "      <td>Solved in Follow-up</td>\n",
              "      <td>Poor Website</td>\n",
              "    </tr>\n",
              "    <tr>\n",
              "      <th>...</th>\n",
              "      <td>...</td>\n",
              "      <td>...</td>\n",
              "      <td>...</td>\n",
              "      <td>...</td>\n",
              "      <td>...</td>\n",
              "      <td>...</td>\n",
              "      <td>...</td>\n",
              "      <td>...</td>\n",
              "      <td>...</td>\n",
              "      <td>...</td>\n",
              "      <td>...</td>\n",
              "      <td>...</td>\n",
              "      <td>...</td>\n",
              "      <td>...</td>\n",
              "      <td>...</td>\n",
              "      <td>...</td>\n",
              "      <td>...</td>\n",
              "      <td>...</td>\n",
              "      <td>...</td>\n",
              "      <td>...</td>\n",
              "      <td>...</td>\n",
              "      <td>...</td>\n",
              "      <td>...</td>\n",
              "      <td>...</td>\n",
              "    </tr>\n",
              "    <tr>\n",
              "      <th>19914</th>\n",
              "      <td>fffe43004900440035003600330037003800</td>\n",
              "      <td>Kraig Peele</td>\n",
              "      <td>12</td>\n",
              "      <td>M</td>\n",
              "      <td>2V0HA0O</td>\n",
              "      <td>NaN</td>\n",
              "      <td>Gold Membership</td>\n",
              "      <td>2015-01-25</td>\n",
              "      <td>No</td>\n",
              "      <td>xxxxxxxx</td>\n",
              "      <td>Without Offers</td>\n",
              "      <td>Desktop</td>\n",
              "      <td>Fiber_Optic</td>\n",
              "      <td>00:32:43</td>\n",
              "      <td>16</td>\n",
              "      <td>103.57</td>\n",
              "      <td>46279.35</td>\n",
              "      <td>18.0</td>\n",
              "      <td>708.120000</td>\n",
              "      <td>No</td>\n",
              "      <td>Yes</td>\n",
              "      <td>No</td>\n",
              "      <td>Not Applicable</td>\n",
              "      <td>Poor Product Quality</td>\n",
              "    </tr>\n",
              "    <tr>\n",
              "      <th>19915</th>\n",
              "      <td>fffe43004900440032003900370037003100</td>\n",
              "      <td>Damaris Sabol</td>\n",
              "      <td>40</td>\n",
              "      <td>F</td>\n",
              "      <td>VJGQD6Q</td>\n",
              "      <td>Village</td>\n",
              "      <td>No Membership</td>\n",
              "      <td>2017-12-31</td>\n",
              "      <td>Yes</td>\n",
              "      <td>CID45490</td>\n",
              "      <td>Without Offers</td>\n",
              "      <td>Desktop</td>\n",
              "      <td>Fiber_Optic</td>\n",
              "      <td>07:54:37</td>\n",
              "      <td>21</td>\n",
              "      <td>63.19</td>\n",
              "      <td>23466.26</td>\n",
              "      <td>Error</td>\n",
              "      <td>574.340000</td>\n",
              "      <td>No</td>\n",
              "      <td>Yes</td>\n",
              "      <td>No</td>\n",
              "      <td>Not Applicable</td>\n",
              "      <td>No reason specified</td>\n",
              "    </tr>\n",
              "    <tr>\n",
              "      <th>19916</th>\n",
              "      <td>fffe43004900440036003100310036003700</td>\n",
              "      <td>Loura Huckstep</td>\n",
              "      <td>55</td>\n",
              "      <td>M</td>\n",
              "      <td>ADE7LWA</td>\n",
              "      <td>Town</td>\n",
              "      <td>No Membership</td>\n",
              "      <td>2015-09-09</td>\n",
              "      <td>No</td>\n",
              "      <td>xxxxxxxx</td>\n",
              "      <td>Credit/Debit Card Offers</td>\n",
              "      <td>Desktop</td>\n",
              "      <td>Mobile_Data</td>\n",
              "      <td>09:26:37</td>\n",
              "      <td>18</td>\n",
              "      <td>68.72</td>\n",
              "      <td>17903.75</td>\n",
              "      <td>24.0</td>\n",
              "      <td>564.300000</td>\n",
              "      <td>No</td>\n",
              "      <td>Yes</td>\n",
              "      <td>Yes</td>\n",
              "      <td>Unsolved</td>\n",
              "      <td>No reason specified</td>\n",
              "    </tr>\n",
              "    <tr>\n",
              "      <th>19917</th>\n",
              "      <td>fffe43004900440034003200330033003600</td>\n",
              "      <td>Sharita Clubb</td>\n",
              "      <td>17</td>\n",
              "      <td>F</td>\n",
              "      <td>A35KUBS</td>\n",
              "      <td>City</td>\n",
              "      <td>Silver Membership</td>\n",
              "      <td>2016-04-17</td>\n",
              "      <td>Yes</td>\n",
              "      <td>CID37167</td>\n",
              "      <td>Credit/Debit Card Offers</td>\n",
              "      <td>Smartphone</td>\n",
              "      <td>Fiber_Optic</td>\n",
              "      <td>21:59:14</td>\n",
              "      <td>3</td>\n",
              "      <td>119.54</td>\n",
              "      <td>14057.09</td>\n",
              "      <td>22.0</td>\n",
              "      <td>606.340000</td>\n",
              "      <td>No</td>\n",
              "      <td>Yes</td>\n",
              "      <td>No</td>\n",
              "      <td>Not Applicable</td>\n",
              "      <td>Poor Website</td>\n",
              "    </tr>\n",
              "    <tr>\n",
              "      <th>19918</th>\n",
              "      <td>fffe43004900440036003200340030003100</td>\n",
              "      <td>Ying Branum</td>\n",
              "      <td>20</td>\n",
              "      <td>M</td>\n",
              "      <td>IPJKJJV</td>\n",
              "      <td>Town</td>\n",
              "      <td>Premium Membership</td>\n",
              "      <td>2017-10-30</td>\n",
              "      <td>Yes</td>\n",
              "      <td>CID56352</td>\n",
              "      <td>Gift Vouchers/Coupons</td>\n",
              "      <td>Both</td>\n",
              "      <td>Wi-Fi</td>\n",
              "      <td>10:50:15</td>\n",
              "      <td>8</td>\n",
              "      <td>505.26</td>\n",
              "      <td>36786.44</td>\n",
              "      <td>Error</td>\n",
              "      <td>1193.689813</td>\n",
              "      <td>No</td>\n",
              "      <td>Yes</td>\n",
              "      <td>Yes</td>\n",
              "      <td>Unsolved</td>\n",
              "      <td>Too many ads</td>\n",
              "    </tr>\n",
              "  </tbody>\n",
              "</table>\n",
              "<p>19919 rows × 24 columns</p>\n",
              "</div>"
            ],
            "text/plain": [
              "                                customer_id  ...              feedback\n",
              "0      fffe43004900440031003700300030003400  ...  Poor Product Quality\n",
              "1      fffe43004900440031003900370037003300  ...          Poor Website\n",
              "2      fffe43004900440034003800360037003000  ...   No reason specified\n",
              "3      fffe43004900440036003200370033003400  ...          Too many ads\n",
              "4      fffe43004900440035003000370031003900  ...          Poor Website\n",
              "...                                     ...  ...                   ...\n",
              "19914  fffe43004900440035003600330037003800  ...  Poor Product Quality\n",
              "19915  fffe43004900440032003900370037003100  ...   No reason specified\n",
              "19916  fffe43004900440036003100310036003700  ...   No reason specified\n",
              "19917  fffe43004900440034003200330033003600  ...          Poor Website\n",
              "19918  fffe43004900440036003200340030003100  ...          Too many ads\n",
              "\n",
              "[19919 rows x 24 columns]"
            ]
          },
          "metadata": {
            "tags": []
          },
          "execution_count": 254
        }
      ]
    },
    {
      "cell_type": "code",
      "metadata": {
        "colab": {
          "base_uri": "https://localhost:8080/"
        },
        "id": "L-GUKOswDdcE",
        "outputId": "00b64d91-c86e-48f8-8f16-611af517359f"
      },
      "source": [
        "test.region_category.unique()"
      ],
      "execution_count": null,
      "outputs": [
        {
          "output_type": "execute_result",
          "data": {
            "text/plain": [
              "array(['Village', 'Town', 'City', nan], dtype=object)"
            ]
          },
          "metadata": {
            "tags": []
          },
          "execution_count": 187
        }
      ]
    },
    {
      "cell_type": "code",
      "metadata": {
        "colab": {
          "base_uri": "https://localhost:8080/",
          "height": 674
        },
        "id": "DaRm-y_SDsSa",
        "outputId": "11ff7c7d-0e3a-4c38-a826-2769503d8421"
      },
      "source": [
        "scaleddf=test.drop(columns=['Name','customer_id','security_no','joining_date','referral_id','last_visit_time'],axis=1)\n",
        "scaleddf"
      ],
      "execution_count": null,
      "outputs": [
        {
          "output_type": "execute_result",
          "data": {
            "text/html": [
              "<div>\n",
              "<style scoped>\n",
              "    .dataframe tbody tr th:only-of-type {\n",
              "        vertical-align: middle;\n",
              "    }\n",
              "\n",
              "    .dataframe tbody tr th {\n",
              "        vertical-align: top;\n",
              "    }\n",
              "\n",
              "    .dataframe thead th {\n",
              "        text-align: right;\n",
              "    }\n",
              "</style>\n",
              "<table border=\"1\" class=\"dataframe\">\n",
              "  <thead>\n",
              "    <tr style=\"text-align: right;\">\n",
              "      <th></th>\n",
              "      <th>age</th>\n",
              "      <th>gender</th>\n",
              "      <th>region_category</th>\n",
              "      <th>membership_category</th>\n",
              "      <th>joined_through_referral</th>\n",
              "      <th>preferred_offer_types</th>\n",
              "      <th>medium_of_operation</th>\n",
              "      <th>internet_option</th>\n",
              "      <th>days_since_last_login</th>\n",
              "      <th>avg_time_spent</th>\n",
              "      <th>avg_transaction_value</th>\n",
              "      <th>avg_frequency_login_days</th>\n",
              "      <th>points_in_wallet</th>\n",
              "      <th>used_special_discount</th>\n",
              "      <th>offer_application_preference</th>\n",
              "      <th>past_complaint</th>\n",
              "      <th>complaint_status</th>\n",
              "      <th>feedback</th>\n",
              "    </tr>\n",
              "  </thead>\n",
              "  <tbody>\n",
              "    <tr>\n",
              "      <th>0</th>\n",
              "      <td>50</td>\n",
              "      <td>F</td>\n",
              "      <td>Village</td>\n",
              "      <td>Premium Membership</td>\n",
              "      <td>No</td>\n",
              "      <td>Without Offers</td>\n",
              "      <td>Smartphone</td>\n",
              "      <td>Wi-Fi</td>\n",
              "      <td>12</td>\n",
              "      <td>386.26</td>\n",
              "      <td>40721.44</td>\n",
              "      <td>7.0</td>\n",
              "      <td>733.830000</td>\n",
              "      <td>Yes</td>\n",
              "      <td>No</td>\n",
              "      <td>No</td>\n",
              "      <td>Not Applicable</td>\n",
              "      <td>Poor Product Quality</td>\n",
              "    </tr>\n",
              "    <tr>\n",
              "      <th>1</th>\n",
              "      <td>41</td>\n",
              "      <td>M</td>\n",
              "      <td>Village</td>\n",
              "      <td>Gold Membership</td>\n",
              "      <td>No</td>\n",
              "      <td>Without Offers</td>\n",
              "      <td>Desktop</td>\n",
              "      <td>Fiber_Optic</td>\n",
              "      <td>11</td>\n",
              "      <td>37.80</td>\n",
              "      <td>9644.40</td>\n",
              "      <td>9.0</td>\n",
              "      <td>726.000000</td>\n",
              "      <td>Yes</td>\n",
              "      <td>No</td>\n",
              "      <td>No</td>\n",
              "      <td>Not Applicable</td>\n",
              "      <td>Poor Website</td>\n",
              "    </tr>\n",
              "    <tr>\n",
              "      <th>2</th>\n",
              "      <td>31</td>\n",
              "      <td>F</td>\n",
              "      <td>Town</td>\n",
              "      <td>Silver Membership</td>\n",
              "      <td>No</td>\n",
              "      <td>Gift Vouchers/Coupons</td>\n",
              "      <td>Both</td>\n",
              "      <td>Mobile_Data</td>\n",
              "      <td>18</td>\n",
              "      <td>215.36</td>\n",
              "      <td>3693.25</td>\n",
              "      <td>21.0</td>\n",
              "      <td>713.780000</td>\n",
              "      <td>Yes</td>\n",
              "      <td>No</td>\n",
              "      <td>Yes</td>\n",
              "      <td>Solved in Follow-up</td>\n",
              "      <td>No reason specified</td>\n",
              "    </tr>\n",
              "    <tr>\n",
              "      <th>3</th>\n",
              "      <td>64</td>\n",
              "      <td>M</td>\n",
              "      <td>Town</td>\n",
              "      <td>Silver Membership</td>\n",
              "      <td>Yes</td>\n",
              "      <td>Credit/Debit Card Offers</td>\n",
              "      <td>?</td>\n",
              "      <td>Fiber_Optic</td>\n",
              "      <td>-999</td>\n",
              "      <td>44.57</td>\n",
              "      <td>36809.56</td>\n",
              "      <td>11.0</td>\n",
              "      <td>744.970000</td>\n",
              "      <td>Yes</td>\n",
              "      <td>No</td>\n",
              "      <td>Yes</td>\n",
              "      <td>No Information Available</td>\n",
              "      <td>Too many ads</td>\n",
              "    </tr>\n",
              "    <tr>\n",
              "      <th>4</th>\n",
              "      <td>16</td>\n",
              "      <td>F</td>\n",
              "      <td>Town</td>\n",
              "      <td>No Membership</td>\n",
              "      <td>Yes</td>\n",
              "      <td>Without Offers</td>\n",
              "      <td>Smartphone</td>\n",
              "      <td>Mobile_Data</td>\n",
              "      <td>6</td>\n",
              "      <td>349.88</td>\n",
              "      <td>40675.86</td>\n",
              "      <td>8.0</td>\n",
              "      <td>299.048351</td>\n",
              "      <td>No</td>\n",
              "      <td>Yes</td>\n",
              "      <td>Yes</td>\n",
              "      <td>Solved in Follow-up</td>\n",
              "      <td>Poor Website</td>\n",
              "    </tr>\n",
              "    <tr>\n",
              "      <th>...</th>\n",
              "      <td>...</td>\n",
              "      <td>...</td>\n",
              "      <td>...</td>\n",
              "      <td>...</td>\n",
              "      <td>...</td>\n",
              "      <td>...</td>\n",
              "      <td>...</td>\n",
              "      <td>...</td>\n",
              "      <td>...</td>\n",
              "      <td>...</td>\n",
              "      <td>...</td>\n",
              "      <td>...</td>\n",
              "      <td>...</td>\n",
              "      <td>...</td>\n",
              "      <td>...</td>\n",
              "      <td>...</td>\n",
              "      <td>...</td>\n",
              "      <td>...</td>\n",
              "    </tr>\n",
              "    <tr>\n",
              "      <th>19914</th>\n",
              "      <td>12</td>\n",
              "      <td>M</td>\n",
              "      <td>NaN</td>\n",
              "      <td>Gold Membership</td>\n",
              "      <td>No</td>\n",
              "      <td>Without Offers</td>\n",
              "      <td>Desktop</td>\n",
              "      <td>Fiber_Optic</td>\n",
              "      <td>16</td>\n",
              "      <td>103.57</td>\n",
              "      <td>46279.35</td>\n",
              "      <td>18.0</td>\n",
              "      <td>708.120000</td>\n",
              "      <td>No</td>\n",
              "      <td>Yes</td>\n",
              "      <td>No</td>\n",
              "      <td>Not Applicable</td>\n",
              "      <td>Poor Product Quality</td>\n",
              "    </tr>\n",
              "    <tr>\n",
              "      <th>19915</th>\n",
              "      <td>40</td>\n",
              "      <td>F</td>\n",
              "      <td>Village</td>\n",
              "      <td>No Membership</td>\n",
              "      <td>Yes</td>\n",
              "      <td>Without Offers</td>\n",
              "      <td>Desktop</td>\n",
              "      <td>Fiber_Optic</td>\n",
              "      <td>21</td>\n",
              "      <td>63.19</td>\n",
              "      <td>23466.26</td>\n",
              "      <td>Error</td>\n",
              "      <td>574.340000</td>\n",
              "      <td>No</td>\n",
              "      <td>Yes</td>\n",
              "      <td>No</td>\n",
              "      <td>Not Applicable</td>\n",
              "      <td>No reason specified</td>\n",
              "    </tr>\n",
              "    <tr>\n",
              "      <th>19916</th>\n",
              "      <td>55</td>\n",
              "      <td>M</td>\n",
              "      <td>Town</td>\n",
              "      <td>No Membership</td>\n",
              "      <td>No</td>\n",
              "      <td>Credit/Debit Card Offers</td>\n",
              "      <td>Desktop</td>\n",
              "      <td>Mobile_Data</td>\n",
              "      <td>18</td>\n",
              "      <td>68.72</td>\n",
              "      <td>17903.75</td>\n",
              "      <td>24.0</td>\n",
              "      <td>564.300000</td>\n",
              "      <td>No</td>\n",
              "      <td>Yes</td>\n",
              "      <td>Yes</td>\n",
              "      <td>Unsolved</td>\n",
              "      <td>No reason specified</td>\n",
              "    </tr>\n",
              "    <tr>\n",
              "      <th>19917</th>\n",
              "      <td>17</td>\n",
              "      <td>F</td>\n",
              "      <td>City</td>\n",
              "      <td>Silver Membership</td>\n",
              "      <td>Yes</td>\n",
              "      <td>Credit/Debit Card Offers</td>\n",
              "      <td>Smartphone</td>\n",
              "      <td>Fiber_Optic</td>\n",
              "      <td>3</td>\n",
              "      <td>119.54</td>\n",
              "      <td>14057.09</td>\n",
              "      <td>22.0</td>\n",
              "      <td>606.340000</td>\n",
              "      <td>No</td>\n",
              "      <td>Yes</td>\n",
              "      <td>No</td>\n",
              "      <td>Not Applicable</td>\n",
              "      <td>Poor Website</td>\n",
              "    </tr>\n",
              "    <tr>\n",
              "      <th>19918</th>\n",
              "      <td>20</td>\n",
              "      <td>M</td>\n",
              "      <td>Town</td>\n",
              "      <td>Premium Membership</td>\n",
              "      <td>Yes</td>\n",
              "      <td>Gift Vouchers/Coupons</td>\n",
              "      <td>Both</td>\n",
              "      <td>Wi-Fi</td>\n",
              "      <td>8</td>\n",
              "      <td>505.26</td>\n",
              "      <td>36786.44</td>\n",
              "      <td>Error</td>\n",
              "      <td>1193.689813</td>\n",
              "      <td>No</td>\n",
              "      <td>Yes</td>\n",
              "      <td>Yes</td>\n",
              "      <td>Unsolved</td>\n",
              "      <td>Too many ads</td>\n",
              "    </tr>\n",
              "  </tbody>\n",
              "</table>\n",
              "<p>19919 rows × 18 columns</p>\n",
              "</div>"
            ],
            "text/plain": [
              "       age gender  ...          complaint_status              feedback\n",
              "0       50      F  ...            Not Applicable  Poor Product Quality\n",
              "1       41      M  ...            Not Applicable          Poor Website\n",
              "2       31      F  ...       Solved in Follow-up   No reason specified\n",
              "3       64      M  ...  No Information Available          Too many ads\n",
              "4       16      F  ...       Solved in Follow-up          Poor Website\n",
              "...    ...    ...  ...                       ...                   ...\n",
              "19914   12      M  ...            Not Applicable  Poor Product Quality\n",
              "19915   40      F  ...            Not Applicable   No reason specified\n",
              "19916   55      M  ...                  Unsolved   No reason specified\n",
              "19917   17      F  ...            Not Applicable          Poor Website\n",
              "19918   20      M  ...                  Unsolved          Too many ads\n",
              "\n",
              "[19919 rows x 18 columns]"
            ]
          },
          "metadata": {
            "tags": []
          },
          "execution_count": 258
        }
      ]
    },
    {
      "cell_type": "code",
      "metadata": {
        "colab": {
          "base_uri": "https://localhost:8080/",
          "height": 402
        },
        "id": "NStqfwueEV1T",
        "outputId": "55fc16ee-e2b9-44b5-ce28-e87e311e2bbf"
      },
      "source": [
        "ans=pd.DataFrame(test['customer_id'])\n",
        "ans"
      ],
      "execution_count": null,
      "outputs": [
        {
          "output_type": "execute_result",
          "data": {
            "text/html": [
              "<div>\n",
              "<style scoped>\n",
              "    .dataframe tbody tr th:only-of-type {\n",
              "        vertical-align: middle;\n",
              "    }\n",
              "\n",
              "    .dataframe tbody tr th {\n",
              "        vertical-align: top;\n",
              "    }\n",
              "\n",
              "    .dataframe thead th {\n",
              "        text-align: right;\n",
              "    }\n",
              "</style>\n",
              "<table border=\"1\" class=\"dataframe\">\n",
              "  <thead>\n",
              "    <tr style=\"text-align: right;\">\n",
              "      <th></th>\n",
              "      <th>customer_id</th>\n",
              "    </tr>\n",
              "  </thead>\n",
              "  <tbody>\n",
              "    <tr>\n",
              "      <th>0</th>\n",
              "      <td>fffe43004900440031003700300030003400</td>\n",
              "    </tr>\n",
              "    <tr>\n",
              "      <th>1</th>\n",
              "      <td>fffe43004900440031003900370037003300</td>\n",
              "    </tr>\n",
              "    <tr>\n",
              "      <th>2</th>\n",
              "      <td>fffe43004900440034003800360037003000</td>\n",
              "    </tr>\n",
              "    <tr>\n",
              "      <th>3</th>\n",
              "      <td>fffe43004900440036003200370033003400</td>\n",
              "    </tr>\n",
              "    <tr>\n",
              "      <th>4</th>\n",
              "      <td>fffe43004900440035003000370031003900</td>\n",
              "    </tr>\n",
              "    <tr>\n",
              "      <th>...</th>\n",
              "      <td>...</td>\n",
              "    </tr>\n",
              "    <tr>\n",
              "      <th>19914</th>\n",
              "      <td>fffe43004900440035003600330037003800</td>\n",
              "    </tr>\n",
              "    <tr>\n",
              "      <th>19915</th>\n",
              "      <td>fffe43004900440032003900370037003100</td>\n",
              "    </tr>\n",
              "    <tr>\n",
              "      <th>19916</th>\n",
              "      <td>fffe43004900440036003100310036003700</td>\n",
              "    </tr>\n",
              "    <tr>\n",
              "      <th>19917</th>\n",
              "      <td>fffe43004900440034003200330033003600</td>\n",
              "    </tr>\n",
              "    <tr>\n",
              "      <th>19918</th>\n",
              "      <td>fffe43004900440036003200340030003100</td>\n",
              "    </tr>\n",
              "  </tbody>\n",
              "</table>\n",
              "<p>19919 rows × 1 columns</p>\n",
              "</div>"
            ],
            "text/plain": [
              "                                customer_id\n",
              "0      fffe43004900440031003700300030003400\n",
              "1      fffe43004900440031003900370037003300\n",
              "2      fffe43004900440034003800360037003000\n",
              "3      fffe43004900440036003200370033003400\n",
              "4      fffe43004900440035003000370031003900\n",
              "...                                     ...\n",
              "19914  fffe43004900440035003600330037003800\n",
              "19915  fffe43004900440032003900370037003100\n",
              "19916  fffe43004900440036003100310036003700\n",
              "19917  fffe43004900440034003200330033003600\n",
              "19918  fffe43004900440036003200340030003100\n",
              "\n",
              "[19919 rows x 1 columns]"
            ]
          },
          "metadata": {
            "tags": []
          },
          "execution_count": 256
        }
      ]
    },
    {
      "cell_type": "code",
      "metadata": {
        "colab": {
          "base_uri": "https://localhost:8080/",
          "height": 402
        },
        "id": "OQYegKQuEvLW",
        "outputId": "06b7a922-bda9-4a9d-d608-63211135707d"
      },
      "source": [
        "ans['churn_risk_score']=np.nan\n",
        "ans"
      ],
      "execution_count": null,
      "outputs": [
        {
          "output_type": "execute_result",
          "data": {
            "text/html": [
              "<div>\n",
              "<style scoped>\n",
              "    .dataframe tbody tr th:only-of-type {\n",
              "        vertical-align: middle;\n",
              "    }\n",
              "\n",
              "    .dataframe tbody tr th {\n",
              "        vertical-align: top;\n",
              "    }\n",
              "\n",
              "    .dataframe thead th {\n",
              "        text-align: right;\n",
              "    }\n",
              "</style>\n",
              "<table border=\"1\" class=\"dataframe\">\n",
              "  <thead>\n",
              "    <tr style=\"text-align: right;\">\n",
              "      <th></th>\n",
              "      <th>customer_id</th>\n",
              "      <th>churn_risk_score</th>\n",
              "    </tr>\n",
              "  </thead>\n",
              "  <tbody>\n",
              "    <tr>\n",
              "      <th>0</th>\n",
              "      <td>fffe43004900440031003700300030003400</td>\n",
              "      <td>NaN</td>\n",
              "    </tr>\n",
              "    <tr>\n",
              "      <th>1</th>\n",
              "      <td>fffe43004900440031003900370037003300</td>\n",
              "      <td>NaN</td>\n",
              "    </tr>\n",
              "    <tr>\n",
              "      <th>2</th>\n",
              "      <td>fffe43004900440034003800360037003000</td>\n",
              "      <td>NaN</td>\n",
              "    </tr>\n",
              "    <tr>\n",
              "      <th>3</th>\n",
              "      <td>fffe43004900440036003200370033003400</td>\n",
              "      <td>NaN</td>\n",
              "    </tr>\n",
              "    <tr>\n",
              "      <th>4</th>\n",
              "      <td>fffe43004900440035003000370031003900</td>\n",
              "      <td>NaN</td>\n",
              "    </tr>\n",
              "    <tr>\n",
              "      <th>...</th>\n",
              "      <td>...</td>\n",
              "      <td>...</td>\n",
              "    </tr>\n",
              "    <tr>\n",
              "      <th>19914</th>\n",
              "      <td>fffe43004900440035003600330037003800</td>\n",
              "      <td>NaN</td>\n",
              "    </tr>\n",
              "    <tr>\n",
              "      <th>19915</th>\n",
              "      <td>fffe43004900440032003900370037003100</td>\n",
              "      <td>NaN</td>\n",
              "    </tr>\n",
              "    <tr>\n",
              "      <th>19916</th>\n",
              "      <td>fffe43004900440036003100310036003700</td>\n",
              "      <td>NaN</td>\n",
              "    </tr>\n",
              "    <tr>\n",
              "      <th>19917</th>\n",
              "      <td>fffe43004900440034003200330033003600</td>\n",
              "      <td>NaN</td>\n",
              "    </tr>\n",
              "    <tr>\n",
              "      <th>19918</th>\n",
              "      <td>fffe43004900440036003200340030003100</td>\n",
              "      <td>NaN</td>\n",
              "    </tr>\n",
              "  </tbody>\n",
              "</table>\n",
              "<p>19919 rows × 2 columns</p>\n",
              "</div>"
            ],
            "text/plain": [
              "                                customer_id  churn_risk_score\n",
              "0      fffe43004900440031003700300030003400               NaN\n",
              "1      fffe43004900440031003900370037003300               NaN\n",
              "2      fffe43004900440034003800360037003000               NaN\n",
              "3      fffe43004900440036003200370033003400               NaN\n",
              "4      fffe43004900440035003000370031003900               NaN\n",
              "...                                     ...               ...\n",
              "19914  fffe43004900440035003600330037003800               NaN\n",
              "19915  fffe43004900440032003900370037003100               NaN\n",
              "19916  fffe43004900440036003100310036003700               NaN\n",
              "19917  fffe43004900440034003200330033003600               NaN\n",
              "19918  fffe43004900440036003200340030003100               NaN\n",
              "\n",
              "[19919 rows x 2 columns]"
            ]
          },
          "metadata": {
            "tags": []
          },
          "execution_count": 257
        }
      ]
    },
    {
      "cell_type": "code",
      "metadata": {
        "colab": {
          "base_uri": "https://localhost:8080/"
        },
        "id": "AUxDo4gbE1EF",
        "outputId": "d70f5619-e539-4ae4-ca39-e57aecc4c88f"
      },
      "source": [
        "scaler=StandardScaler()\n",
        "test=pd.get_dummies(scaleddf,columns=['gender','region_category','membership_category','joined_through_referral','preferred_offer_types','medium_of_operation','internet_option','used_special_discount','offer_application_preference','past_complaint','complaint_status','feedback'])\n",
        "#X=pd.get_dummies(df['gender'])\n",
        "def f(s):\n",
        "  if s==\"Error\":\n",
        "    return mean_avg_frequency_login_days\n",
        "  else:\n",
        "    return s\n",
        "mean_avg_frequency_login_days=0\n",
        "c=0\n",
        "for i in X.avg_frequency_login_days:\n",
        "  if i!=\"Error\":\n",
        "    mean_avg_frequency_login_days+=float(i)\n",
        "    c+=1\n",
        "mean_avg_frequency_login_days/=c\n",
        "test.avg_frequency_login_days=test.avg_frequency_login_days.apply(f)\n",
        "cols_for_Scaling=['days_since_last_login','age','avg_frequency_login_days','points_in_wallet','avg_time_spent','avg_transaction_value']\n",
        "test[cols_for_Scaling]=scaler.fit_transform(test[cols_for_Scaling])\n",
        "test.columns"
      ],
      "execution_count": null,
      "outputs": [
        {
          "output_type": "execute_result",
          "data": {
            "text/plain": [
              "Index(['age', 'days_since_last_login', 'avg_time_spent',\n",
              "       'avg_transaction_value', 'avg_frequency_login_days', 'points_in_wallet',\n",
              "       'gender_F', 'gender_M', 'gender_Unknown', 'region_category_City',\n",
              "       'region_category_Town', 'region_category_Village',\n",
              "       'membership_category_Basic Membership',\n",
              "       'membership_category_Gold Membership',\n",
              "       'membership_category_No Membership',\n",
              "       'membership_category_Platinum Membership',\n",
              "       'membership_category_Premium Membership',\n",
              "       'membership_category_Silver Membership', 'joined_through_referral_?',\n",
              "       'joined_through_referral_No', 'joined_through_referral_Yes',\n",
              "       'preferred_offer_types_Credit/Debit Card Offers',\n",
              "       'preferred_offer_types_Gift Vouchers/Coupons',\n",
              "       'preferred_offer_types_Without Offers', 'medium_of_operation_?',\n",
              "       'medium_of_operation_Both', 'medium_of_operation_Desktop',\n",
              "       'medium_of_operation_Smartphone', 'internet_option_Fiber_Optic',\n",
              "       'internet_option_Mobile_Data', 'internet_option_Wi-Fi',\n",
              "       'used_special_discount_No', 'used_special_discount_Yes',\n",
              "       'offer_application_preference_No', 'offer_application_preference_Yes',\n",
              "       'past_complaint_No', 'past_complaint_Yes',\n",
              "       'complaint_status_No Information Available',\n",
              "       'complaint_status_Not Applicable', 'complaint_status_Solved',\n",
              "       'complaint_status_Solved in Follow-up', 'complaint_status_Unsolved',\n",
              "       'feedback_No reason specified', 'feedback_Poor Customer Service',\n",
              "       'feedback_Poor Product Quality', 'feedback_Poor Website',\n",
              "       'feedback_Products always in Stock', 'feedback_Quality Customer Care',\n",
              "       'feedback_Reasonable Price', 'feedback_Too many ads',\n",
              "       'feedback_User Friendly Website'],\n",
              "      dtype='object')"
            ]
          },
          "metadata": {
            "tags": []
          },
          "execution_count": 264
        }
      ]
    },
    {
      "cell_type": "code",
      "metadata": {
        "colab": {
          "base_uri": "https://localhost:8080/"
        },
        "id": "7aMxm_DIFKu9",
        "outputId": "5faae80c-1832-41c9-ff6b-8839b88393d9"
      },
      "source": [
        "test=np.array(test)\n",
        "test[0]"
      ],
      "execution_count": null,
      "outputs": [
        {
          "output_type": "execute_result",
          "data": {
            "text/plain": [
              "array([ 0.82400209,  0.229394  ,  0.35188126,  0.58456712, -0.72779762,\n",
              "        0.24908559,  1.        ,  0.        ,  0.        ,  0.        ,\n",
              "        0.        ,  1.        ,  0.        ,  0.        ,  0.        ,\n",
              "        0.        ,  1.        ,  0.        ,  0.        ,  1.        ,\n",
              "        0.        ,  0.        ,  0.        ,  1.        ,  0.        ,\n",
              "        0.        ,  0.        ,  1.        ,  0.        ,  0.        ,\n",
              "        1.        ,  0.        ,  1.        ,  1.        ,  0.        ,\n",
              "        1.        ,  0.        ,  0.        ,  1.        ,  0.        ,\n",
              "        0.        ,  0.        ,  0.        ,  0.        ,  1.        ,\n",
              "        0.        ,  0.        ,  0.        ,  0.        ,  0.        ,\n",
              "        0.        ])"
            ]
          },
          "metadata": {
            "tags": []
          },
          "execution_count": 219
        }
      ]
    },
    {
      "cell_type": "code",
      "metadata": {
        "id": "vOKXm4hoFQSJ"
      },
      "source": [
        "ans_ar=model.predict(test)"
      ],
      "execution_count": null,
      "outputs": []
    },
    {
      "cell_type": "code",
      "metadata": {
        "colab": {
          "base_uri": "https://localhost:8080/"
        },
        "id": "c0M1W748FblH",
        "outputId": "4e34b676-cc54-4b8e-b6c5-574aa046ccec"
      },
      "source": [
        "l=[]\n",
        "for i in ans_ar:\n",
        "  r=np.argmax(i)\n",
        "  if r==0:\n",
        "    l.append(-1)\n",
        "  else:\n",
        "    l.append(r)\n",
        "l=np.array(l)\n",
        "np.unique(l)"
      ],
      "execution_count": null,
      "outputs": [
        {
          "output_type": "execute_result",
          "data": {
            "text/plain": [
              "array([-1,  1,  2,  3,  4,  5])"
            ]
          },
          "metadata": {
            "tags": []
          },
          "execution_count": 222
        }
      ]
    },
    {
      "cell_type": "code",
      "metadata": {
        "colab": {
          "base_uri": "https://localhost:8080/",
          "height": 402
        },
        "id": "DXnGC8azG2JI",
        "outputId": "d7193ea8-bb9a-45ab-9456-54acc739433c"
      },
      "source": [
        "ans['churn_risk_score']=l\n",
        "ans"
      ],
      "execution_count": null,
      "outputs": [
        {
          "output_type": "execute_result",
          "data": {
            "text/html": [
              "<div>\n",
              "<style scoped>\n",
              "    .dataframe tbody tr th:only-of-type {\n",
              "        vertical-align: middle;\n",
              "    }\n",
              "\n",
              "    .dataframe tbody tr th {\n",
              "        vertical-align: top;\n",
              "    }\n",
              "\n",
              "    .dataframe thead th {\n",
              "        text-align: right;\n",
              "    }\n",
              "</style>\n",
              "<table border=\"1\" class=\"dataframe\">\n",
              "  <thead>\n",
              "    <tr style=\"text-align: right;\">\n",
              "      <th></th>\n",
              "      <th>customer_id</th>\n",
              "      <th>churn_risk_score</th>\n",
              "    </tr>\n",
              "  </thead>\n",
              "  <tbody>\n",
              "    <tr>\n",
              "      <th>0</th>\n",
              "      <td>fffe43004900440031003700300030003400</td>\n",
              "      <td>2</td>\n",
              "    </tr>\n",
              "    <tr>\n",
              "      <th>1</th>\n",
              "      <td>fffe43004900440031003900370037003300</td>\n",
              "      <td>5</td>\n",
              "    </tr>\n",
              "    <tr>\n",
              "      <th>2</th>\n",
              "      <td>fffe43004900440034003800360037003000</td>\n",
              "      <td>2</td>\n",
              "    </tr>\n",
              "    <tr>\n",
              "      <th>3</th>\n",
              "      <td>fffe43004900440036003200370033003400</td>\n",
              "      <td>2</td>\n",
              "    </tr>\n",
              "    <tr>\n",
              "      <th>4</th>\n",
              "      <td>fffe43004900440035003000370031003900</td>\n",
              "      <td>5</td>\n",
              "    </tr>\n",
              "    <tr>\n",
              "      <th>...</th>\n",
              "      <td>...</td>\n",
              "      <td>...</td>\n",
              "    </tr>\n",
              "    <tr>\n",
              "      <th>19914</th>\n",
              "      <td>fffe43004900440035003600330037003800</td>\n",
              "      <td>2</td>\n",
              "    </tr>\n",
              "    <tr>\n",
              "      <th>19915</th>\n",
              "      <td>fffe43004900440032003900370037003100</td>\n",
              "      <td>4</td>\n",
              "    </tr>\n",
              "    <tr>\n",
              "      <th>19916</th>\n",
              "      <td>fffe43004900440036003100310036003700</td>\n",
              "      <td>4</td>\n",
              "    </tr>\n",
              "    <tr>\n",
              "      <th>19917</th>\n",
              "      <td>fffe43004900440034003200330033003600</td>\n",
              "      <td>3</td>\n",
              "    </tr>\n",
              "    <tr>\n",
              "      <th>19918</th>\n",
              "      <td>fffe43004900440036003200340030003100</td>\n",
              "      <td>5</td>\n",
              "    </tr>\n",
              "  </tbody>\n",
              "</table>\n",
              "<p>19919 rows × 2 columns</p>\n",
              "</div>"
            ],
            "text/plain": [
              "                                customer_id  churn_risk_score\n",
              "0      fffe43004900440031003700300030003400                 2\n",
              "1      fffe43004900440031003900370037003300                 5\n",
              "2      fffe43004900440034003800360037003000                 2\n",
              "3      fffe43004900440036003200370033003400                 2\n",
              "4      fffe43004900440035003000370031003900                 5\n",
              "...                                     ...               ...\n",
              "19914  fffe43004900440035003600330037003800                 2\n",
              "19915  fffe43004900440032003900370037003100                 4\n",
              "19916  fffe43004900440036003100310036003700                 4\n",
              "19917  fffe43004900440034003200330033003600                 3\n",
              "19918  fffe43004900440036003200340030003100                 5\n",
              "\n",
              "[19919 rows x 2 columns]"
            ]
          },
          "metadata": {
            "tags": []
          },
          "execution_count": 240
        }
      ]
    },
    {
      "cell_type": "code",
      "metadata": {
        "id": "vz7PmuPnG5ev"
      },
      "source": [
        "ans.to_csv('submit.csv')"
      ],
      "execution_count": null,
      "outputs": []
    },
    {
      "cell_type": "code",
      "metadata": {
        "colab": {
          "base_uri": "https://localhost:8080/"
        },
        "id": "xMrqkwFUHFLb",
        "outputId": "f4a749b4-e252-40eb-bc0a-22ed0737c224"
      },
      "source": [
        "from sklearn.linear_model import LogisticRegression\n",
        "rg=LogisticRegression()\n",
        "rg.fit(X_train,Y_train)\n",
        "rg.score(X_test,Y_test)"
      ],
      "execution_count": null,
      "outputs": [
        {
          "output_type": "stream",
          "text": [
            "/usr/local/lib/python3.7/dist-packages/sklearn/utils/validation.py:760: DataConversionWarning: A column-vector y was passed when a 1d array was expected. Please change the shape of y to (n_samples, ), for example using ravel().\n",
            "  y = column_or_1d(y, warn=True)\n",
            "/usr/local/lib/python3.7/dist-packages/sklearn/linear_model/_logistic.py:940: ConvergenceWarning: lbfgs failed to converge (status=1):\n",
            "STOP: TOTAL NO. of ITERATIONS REACHED LIMIT.\n",
            "\n",
            "Increase the number of iterations (max_iter) or scale the data as shown in:\n",
            "    https://scikit-learn.org/stable/modules/preprocessing.html\n",
            "Please also refer to the documentation for alternative solver options:\n",
            "    https://scikit-learn.org/stable/modules/linear_model.html#logistic-regression\n",
            "  extra_warning_msg=_LOGISTIC_SOLVER_CONVERGENCE_MSG)\n"
          ],
          "name": "stderr"
        },
        {
          "output_type": "execute_result",
          "data": {
            "text/plain": [
              "0.7074992951790245"
            ]
          },
          "metadata": {
            "tags": []
          },
          "execution_count": 312
        }
      ]
    },
    {
      "cell_type": "code",
      "metadata": {
        "colab": {
          "base_uri": "https://localhost:8080/"
        },
        "id": "mbAP2l6nJWLy",
        "outputId": "63b0f58f-74c6-4e4c-d6f4-c8f2051c9f81"
      },
      "source": [
        "test=test.dropna()\n",
        "np.any(np.isnan(test))"
      ],
      "execution_count": null,
      "outputs": [
        {
          "output_type": "execute_result",
          "data": {
            "text/plain": [
              "False"
            ]
          },
          "metadata": {
            "tags": []
          },
          "execution_count": 267
        }
      ]
    },
    {
      "cell_type": "code",
      "metadata": {
        "colab": {
          "base_uri": "https://localhost:8080/"
        },
        "id": "1XQ3O71-JZiz",
        "outputId": "3efa5ab8-b743-427c-8574-be49d1fc8f2b"
      },
      "source": [
        "yt=np.array(Y_test)\n",
        "np.unique(yt)\n",
        "l=rg.predict(test)\n",
        "l"
      ],
      "execution_count": null,
      "outputs": [
        {
          "output_type": "execute_result",
          "data": {
            "text/plain": [
              "array([2, 2, 2, ..., 4, 3, 2])"
            ]
          },
          "metadata": {
            "tags": []
          },
          "execution_count": 341
        }
      ]
    },
    {
      "cell_type": "code",
      "metadata": {
        "colab": {
          "base_uri": "https://localhost:8080/"
        },
        "id": "I4WBiq9BKkL0",
        "outputId": "ca548608-4296-469e-f6ca-d914465b9c63"
      },
      "source": [
        "l=np.array(l)\n",
        "np.median(l)"
      ],
      "execution_count": null,
      "outputs": [
        {
          "output_type": "execute_result",
          "data": {
            "text/plain": [
              "3.0"
            ]
          },
          "metadata": {
            "tags": []
          },
          "execution_count": 340
        }
      ]
    },
    {
      "cell_type": "code",
      "metadata": {
        "colab": {
          "base_uri": "https://localhost:8080/",
          "height": 455
        },
        "id": "RKu0IDkpKubJ",
        "outputId": "754065de-d302-4351-ccd0-95e134ef91af"
      },
      "source": [
        "test"
      ],
      "execution_count": null,
      "outputs": [
        {
          "output_type": "execute_result",
          "data": {
            "text/html": [
              "<div>\n",
              "<style scoped>\n",
              "    .dataframe tbody tr th:only-of-type {\n",
              "        vertical-align: middle;\n",
              "    }\n",
              "\n",
              "    .dataframe tbody tr th {\n",
              "        vertical-align: top;\n",
              "    }\n",
              "\n",
              "    .dataframe thead th {\n",
              "        text-align: right;\n",
              "    }\n",
              "</style>\n",
              "<table border=\"1\" class=\"dataframe\">\n",
              "  <thead>\n",
              "    <tr style=\"text-align: right;\">\n",
              "      <th></th>\n",
              "      <th>age</th>\n",
              "      <th>days_since_last_login</th>\n",
              "      <th>avg_time_spent</th>\n",
              "      <th>avg_transaction_value</th>\n",
              "      <th>avg_frequency_login_days</th>\n",
              "      <th>points_in_wallet</th>\n",
              "      <th>gender_F</th>\n",
              "      <th>gender_M</th>\n",
              "      <th>gender_Unknown</th>\n",
              "      <th>region_category_City</th>\n",
              "      <th>region_category_Town</th>\n",
              "      <th>region_category_Village</th>\n",
              "      <th>membership_category_Basic Membership</th>\n",
              "      <th>membership_category_Gold Membership</th>\n",
              "      <th>membership_category_No Membership</th>\n",
              "      <th>membership_category_Platinum Membership</th>\n",
              "      <th>membership_category_Premium Membership</th>\n",
              "      <th>membership_category_Silver Membership</th>\n",
              "      <th>joined_through_referral_?</th>\n",
              "      <th>joined_through_referral_No</th>\n",
              "      <th>joined_through_referral_Yes</th>\n",
              "      <th>preferred_offer_types_Credit/Debit Card Offers</th>\n",
              "      <th>preferred_offer_types_Gift Vouchers/Coupons</th>\n",
              "      <th>preferred_offer_types_Without Offers</th>\n",
              "      <th>medium_of_operation_?</th>\n",
              "      <th>medium_of_operation_Both</th>\n",
              "      <th>medium_of_operation_Desktop</th>\n",
              "      <th>medium_of_operation_Smartphone</th>\n",
              "      <th>internet_option_Fiber_Optic</th>\n",
              "      <th>internet_option_Mobile_Data</th>\n",
              "      <th>internet_option_Wi-Fi</th>\n",
              "      <th>used_special_discount_No</th>\n",
              "      <th>used_special_discount_Yes</th>\n",
              "      <th>offer_application_preference_No</th>\n",
              "      <th>offer_application_preference_Yes</th>\n",
              "      <th>past_complaint_No</th>\n",
              "      <th>past_complaint_Yes</th>\n",
              "      <th>complaint_status_No Information Available</th>\n",
              "      <th>complaint_status_Not Applicable</th>\n",
              "      <th>complaint_status_Solved</th>\n",
              "      <th>complaint_status_Solved in Follow-up</th>\n",
              "      <th>complaint_status_Unsolved</th>\n",
              "      <th>feedback_No reason specified</th>\n",
              "      <th>feedback_Poor Customer Service</th>\n",
              "      <th>feedback_Poor Product Quality</th>\n",
              "      <th>feedback_Poor Website</th>\n",
              "      <th>feedback_Products always in Stock</th>\n",
              "      <th>feedback_Quality Customer Care</th>\n",
              "      <th>feedback_Reasonable Price</th>\n",
              "      <th>feedback_Too many ads</th>\n",
              "      <th>feedback_User Friendly Website</th>\n",
              "    </tr>\n",
              "  </thead>\n",
              "  <tbody>\n",
              "    <tr>\n",
              "      <th>0</th>\n",
              "      <td>0.824002</td>\n",
              "      <td>0.229394</td>\n",
              "      <td>0.351881</td>\n",
              "      <td>0.584567</td>\n",
              "      <td>-0.727798</td>\n",
              "      <td>0.249086</td>\n",
              "      <td>1</td>\n",
              "      <td>0</td>\n",
              "      <td>0</td>\n",
              "      <td>0</td>\n",
              "      <td>0</td>\n",
              "      <td>1</td>\n",
              "      <td>0</td>\n",
              "      <td>0</td>\n",
              "      <td>0</td>\n",
              "      <td>0</td>\n",
              "      <td>1</td>\n",
              "      <td>0</td>\n",
              "      <td>0</td>\n",
              "      <td>1</td>\n",
              "      <td>0</td>\n",
              "      <td>0</td>\n",
              "      <td>0</td>\n",
              "      <td>1</td>\n",
              "      <td>0</td>\n",
              "      <td>0</td>\n",
              "      <td>0</td>\n",
              "      <td>1</td>\n",
              "      <td>0</td>\n",
              "      <td>0</td>\n",
              "      <td>1</td>\n",
              "      <td>0</td>\n",
              "      <td>1</td>\n",
              "      <td>1</td>\n",
              "      <td>0</td>\n",
              "      <td>1</td>\n",
              "      <td>0</td>\n",
              "      <td>0</td>\n",
              "      <td>1</td>\n",
              "      <td>0</td>\n",
              "      <td>0</td>\n",
              "      <td>0</td>\n",
              "      <td>0</td>\n",
              "      <td>0</td>\n",
              "      <td>1</td>\n",
              "      <td>0</td>\n",
              "      <td>0</td>\n",
              "      <td>0</td>\n",
              "      <td>0</td>\n",
              "      <td>0</td>\n",
              "      <td>0</td>\n",
              "    </tr>\n",
              "    <tr>\n",
              "      <th>1</th>\n",
              "      <td>0.258566</td>\n",
              "      <td>0.224915</td>\n",
              "      <td>-0.510856</td>\n",
              "      <td>-1.008532</td>\n",
              "      <td>-0.530309</td>\n",
              "      <td>0.208336</td>\n",
              "      <td>0</td>\n",
              "      <td>1</td>\n",
              "      <td>0</td>\n",
              "      <td>0</td>\n",
              "      <td>0</td>\n",
              "      <td>1</td>\n",
              "      <td>0</td>\n",
              "      <td>1</td>\n",
              "      <td>0</td>\n",
              "      <td>0</td>\n",
              "      <td>0</td>\n",
              "      <td>0</td>\n",
              "      <td>0</td>\n",
              "      <td>1</td>\n",
              "      <td>0</td>\n",
              "      <td>0</td>\n",
              "      <td>0</td>\n",
              "      <td>1</td>\n",
              "      <td>0</td>\n",
              "      <td>0</td>\n",
              "      <td>1</td>\n",
              "      <td>0</td>\n",
              "      <td>1</td>\n",
              "      <td>0</td>\n",
              "      <td>0</td>\n",
              "      <td>0</td>\n",
              "      <td>1</td>\n",
              "      <td>1</td>\n",
              "      <td>0</td>\n",
              "      <td>1</td>\n",
              "      <td>0</td>\n",
              "      <td>0</td>\n",
              "      <td>1</td>\n",
              "      <td>0</td>\n",
              "      <td>0</td>\n",
              "      <td>0</td>\n",
              "      <td>0</td>\n",
              "      <td>0</td>\n",
              "      <td>0</td>\n",
              "      <td>1</td>\n",
              "      <td>0</td>\n",
              "      <td>0</td>\n",
              "      <td>0</td>\n",
              "      <td>0</td>\n",
              "      <td>0</td>\n",
              "    </tr>\n",
              "    <tr>\n",
              "      <th>2</th>\n",
              "      <td>-0.369697</td>\n",
              "      <td>0.256267</td>\n",
              "      <td>-0.071243</td>\n",
              "      <td>-1.313605</td>\n",
              "      <td>0.654622</td>\n",
              "      <td>0.144739</td>\n",
              "      <td>1</td>\n",
              "      <td>0</td>\n",
              "      <td>0</td>\n",
              "      <td>0</td>\n",
              "      <td>1</td>\n",
              "      <td>0</td>\n",
              "      <td>0</td>\n",
              "      <td>0</td>\n",
              "      <td>0</td>\n",
              "      <td>0</td>\n",
              "      <td>0</td>\n",
              "      <td>1</td>\n",
              "      <td>0</td>\n",
              "      <td>1</td>\n",
              "      <td>0</td>\n",
              "      <td>0</td>\n",
              "      <td>1</td>\n",
              "      <td>0</td>\n",
              "      <td>0</td>\n",
              "      <td>1</td>\n",
              "      <td>0</td>\n",
              "      <td>0</td>\n",
              "      <td>0</td>\n",
              "      <td>1</td>\n",
              "      <td>0</td>\n",
              "      <td>0</td>\n",
              "      <td>1</td>\n",
              "      <td>1</td>\n",
              "      <td>0</td>\n",
              "      <td>0</td>\n",
              "      <td>1</td>\n",
              "      <td>0</td>\n",
              "      <td>0</td>\n",
              "      <td>0</td>\n",
              "      <td>1</td>\n",
              "      <td>0</td>\n",
              "      <td>1</td>\n",
              "      <td>0</td>\n",
              "      <td>0</td>\n",
              "      <td>0</td>\n",
              "      <td>0</td>\n",
              "      <td>0</td>\n",
              "      <td>0</td>\n",
              "      <td>0</td>\n",
              "      <td>0</td>\n",
              "    </tr>\n",
              "    <tr>\n",
              "      <th>3</th>\n",
              "      <td>1.703570</td>\n",
              "      <td>-4.298780</td>\n",
              "      <td>-0.494094</td>\n",
              "      <td>0.384033</td>\n",
              "      <td>-0.332821</td>\n",
              "      <td>0.307062</td>\n",
              "      <td>0</td>\n",
              "      <td>1</td>\n",
              "      <td>0</td>\n",
              "      <td>0</td>\n",
              "      <td>1</td>\n",
              "      <td>0</td>\n",
              "      <td>0</td>\n",
              "      <td>0</td>\n",
              "      <td>0</td>\n",
              "      <td>0</td>\n",
              "      <td>0</td>\n",
              "      <td>1</td>\n",
              "      <td>0</td>\n",
              "      <td>0</td>\n",
              "      <td>1</td>\n",
              "      <td>1</td>\n",
              "      <td>0</td>\n",
              "      <td>0</td>\n",
              "      <td>1</td>\n",
              "      <td>0</td>\n",
              "      <td>0</td>\n",
              "      <td>0</td>\n",
              "      <td>1</td>\n",
              "      <td>0</td>\n",
              "      <td>0</td>\n",
              "      <td>0</td>\n",
              "      <td>1</td>\n",
              "      <td>1</td>\n",
              "      <td>0</td>\n",
              "      <td>0</td>\n",
              "      <td>1</td>\n",
              "      <td>1</td>\n",
              "      <td>0</td>\n",
              "      <td>0</td>\n",
              "      <td>0</td>\n",
              "      <td>0</td>\n",
              "      <td>0</td>\n",
              "      <td>0</td>\n",
              "      <td>0</td>\n",
              "      <td>0</td>\n",
              "      <td>0</td>\n",
              "      <td>0</td>\n",
              "      <td>0</td>\n",
              "      <td>1</td>\n",
              "      <td>0</td>\n",
              "    </tr>\n",
              "    <tr>\n",
              "      <th>4</th>\n",
              "      <td>-1.312091</td>\n",
              "      <td>0.202521</td>\n",
              "      <td>0.261810</td>\n",
              "      <td>0.582231</td>\n",
              "      <td>-0.629053</td>\n",
              "      <td>-2.013662</td>\n",
              "      <td>1</td>\n",
              "      <td>0</td>\n",
              "      <td>0</td>\n",
              "      <td>0</td>\n",
              "      <td>1</td>\n",
              "      <td>0</td>\n",
              "      <td>0</td>\n",
              "      <td>0</td>\n",
              "      <td>1</td>\n",
              "      <td>0</td>\n",
              "      <td>0</td>\n",
              "      <td>0</td>\n",
              "      <td>0</td>\n",
              "      <td>0</td>\n",
              "      <td>1</td>\n",
              "      <td>0</td>\n",
              "      <td>0</td>\n",
              "      <td>1</td>\n",
              "      <td>0</td>\n",
              "      <td>0</td>\n",
              "      <td>0</td>\n",
              "      <td>1</td>\n",
              "      <td>0</td>\n",
              "      <td>1</td>\n",
              "      <td>0</td>\n",
              "      <td>1</td>\n",
              "      <td>0</td>\n",
              "      <td>0</td>\n",
              "      <td>1</td>\n",
              "      <td>0</td>\n",
              "      <td>1</td>\n",
              "      <td>0</td>\n",
              "      <td>0</td>\n",
              "      <td>0</td>\n",
              "      <td>1</td>\n",
              "      <td>0</td>\n",
              "      <td>0</td>\n",
              "      <td>0</td>\n",
              "      <td>0</td>\n",
              "      <td>1</td>\n",
              "      <td>0</td>\n",
              "      <td>0</td>\n",
              "      <td>0</td>\n",
              "      <td>0</td>\n",
              "      <td>0</td>\n",
              "    </tr>\n",
              "    <tr>\n",
              "      <th>...</th>\n",
              "      <td>...</td>\n",
              "      <td>...</td>\n",
              "      <td>...</td>\n",
              "      <td>...</td>\n",
              "      <td>...</td>\n",
              "      <td>...</td>\n",
              "      <td>...</td>\n",
              "      <td>...</td>\n",
              "      <td>...</td>\n",
              "      <td>...</td>\n",
              "      <td>...</td>\n",
              "      <td>...</td>\n",
              "      <td>...</td>\n",
              "      <td>...</td>\n",
              "      <td>...</td>\n",
              "      <td>...</td>\n",
              "      <td>...</td>\n",
              "      <td>...</td>\n",
              "      <td>...</td>\n",
              "      <td>...</td>\n",
              "      <td>...</td>\n",
              "      <td>...</td>\n",
              "      <td>...</td>\n",
              "      <td>...</td>\n",
              "      <td>...</td>\n",
              "      <td>...</td>\n",
              "      <td>...</td>\n",
              "      <td>...</td>\n",
              "      <td>...</td>\n",
              "      <td>...</td>\n",
              "      <td>...</td>\n",
              "      <td>...</td>\n",
              "      <td>...</td>\n",
              "      <td>...</td>\n",
              "      <td>...</td>\n",
              "      <td>...</td>\n",
              "      <td>...</td>\n",
              "      <td>...</td>\n",
              "      <td>...</td>\n",
              "      <td>...</td>\n",
              "      <td>...</td>\n",
              "      <td>...</td>\n",
              "      <td>...</td>\n",
              "      <td>...</td>\n",
              "      <td>...</td>\n",
              "      <td>...</td>\n",
              "      <td>...</td>\n",
              "      <td>...</td>\n",
              "      <td>...</td>\n",
              "      <td>...</td>\n",
              "      <td>...</td>\n",
              "    </tr>\n",
              "    <tr>\n",
              "      <th>19914</th>\n",
              "      <td>-1.563396</td>\n",
              "      <td>0.247310</td>\n",
              "      <td>-0.348019</td>\n",
              "      <td>0.869482</td>\n",
              "      <td>0.358389</td>\n",
              "      <td>0.115282</td>\n",
              "      <td>0</td>\n",
              "      <td>1</td>\n",
              "      <td>0</td>\n",
              "      <td>0</td>\n",
              "      <td>0</td>\n",
              "      <td>0</td>\n",
              "      <td>0</td>\n",
              "      <td>1</td>\n",
              "      <td>0</td>\n",
              "      <td>0</td>\n",
              "      <td>0</td>\n",
              "      <td>0</td>\n",
              "      <td>0</td>\n",
              "      <td>1</td>\n",
              "      <td>0</td>\n",
              "      <td>0</td>\n",
              "      <td>0</td>\n",
              "      <td>1</td>\n",
              "      <td>0</td>\n",
              "      <td>0</td>\n",
              "      <td>1</td>\n",
              "      <td>0</td>\n",
              "      <td>1</td>\n",
              "      <td>0</td>\n",
              "      <td>0</td>\n",
              "      <td>1</td>\n",
              "      <td>0</td>\n",
              "      <td>0</td>\n",
              "      <td>1</td>\n",
              "      <td>1</td>\n",
              "      <td>0</td>\n",
              "      <td>0</td>\n",
              "      <td>1</td>\n",
              "      <td>0</td>\n",
              "      <td>0</td>\n",
              "      <td>0</td>\n",
              "      <td>0</td>\n",
              "      <td>0</td>\n",
              "      <td>1</td>\n",
              "      <td>0</td>\n",
              "      <td>0</td>\n",
              "      <td>0</td>\n",
              "      <td>0</td>\n",
              "      <td>0</td>\n",
              "      <td>0</td>\n",
              "    </tr>\n",
              "    <tr>\n",
              "      <th>19915</th>\n",
              "      <td>0.195739</td>\n",
              "      <td>0.269704</td>\n",
              "      <td>-0.447994</td>\n",
              "      <td>-0.299983</td>\n",
              "      <td>-1.419007</td>\n",
              "      <td>-0.580953</td>\n",
              "      <td>1</td>\n",
              "      <td>0</td>\n",
              "      <td>0</td>\n",
              "      <td>0</td>\n",
              "      <td>0</td>\n",
              "      <td>1</td>\n",
              "      <td>0</td>\n",
              "      <td>0</td>\n",
              "      <td>1</td>\n",
              "      <td>0</td>\n",
              "      <td>0</td>\n",
              "      <td>0</td>\n",
              "      <td>0</td>\n",
              "      <td>0</td>\n",
              "      <td>1</td>\n",
              "      <td>0</td>\n",
              "      <td>0</td>\n",
              "      <td>1</td>\n",
              "      <td>0</td>\n",
              "      <td>0</td>\n",
              "      <td>1</td>\n",
              "      <td>0</td>\n",
              "      <td>1</td>\n",
              "      <td>0</td>\n",
              "      <td>0</td>\n",
              "      <td>1</td>\n",
              "      <td>0</td>\n",
              "      <td>0</td>\n",
              "      <td>1</td>\n",
              "      <td>1</td>\n",
              "      <td>0</td>\n",
              "      <td>0</td>\n",
              "      <td>1</td>\n",
              "      <td>0</td>\n",
              "      <td>0</td>\n",
              "      <td>0</td>\n",
              "      <td>1</td>\n",
              "      <td>0</td>\n",
              "      <td>0</td>\n",
              "      <td>0</td>\n",
              "      <td>0</td>\n",
              "      <td>0</td>\n",
              "      <td>0</td>\n",
              "      <td>0</td>\n",
              "      <td>0</td>\n",
              "    </tr>\n",
              "    <tr>\n",
              "      <th>19916</th>\n",
              "      <td>1.138133</td>\n",
              "      <td>0.256267</td>\n",
              "      <td>-0.434302</td>\n",
              "      <td>-0.585134</td>\n",
              "      <td>0.950854</td>\n",
              "      <td>-0.633205</td>\n",
              "      <td>0</td>\n",
              "      <td>1</td>\n",
              "      <td>0</td>\n",
              "      <td>0</td>\n",
              "      <td>1</td>\n",
              "      <td>0</td>\n",
              "      <td>0</td>\n",
              "      <td>0</td>\n",
              "      <td>1</td>\n",
              "      <td>0</td>\n",
              "      <td>0</td>\n",
              "      <td>0</td>\n",
              "      <td>0</td>\n",
              "      <td>1</td>\n",
              "      <td>0</td>\n",
              "      <td>1</td>\n",
              "      <td>0</td>\n",
              "      <td>0</td>\n",
              "      <td>0</td>\n",
              "      <td>0</td>\n",
              "      <td>1</td>\n",
              "      <td>0</td>\n",
              "      <td>0</td>\n",
              "      <td>1</td>\n",
              "      <td>0</td>\n",
              "      <td>1</td>\n",
              "      <td>0</td>\n",
              "      <td>0</td>\n",
              "      <td>1</td>\n",
              "      <td>0</td>\n",
              "      <td>1</td>\n",
              "      <td>0</td>\n",
              "      <td>0</td>\n",
              "      <td>0</td>\n",
              "      <td>0</td>\n",
              "      <td>1</td>\n",
              "      <td>1</td>\n",
              "      <td>0</td>\n",
              "      <td>0</td>\n",
              "      <td>0</td>\n",
              "      <td>0</td>\n",
              "      <td>0</td>\n",
              "      <td>0</td>\n",
              "      <td>0</td>\n",
              "      <td>0</td>\n",
              "    </tr>\n",
              "    <tr>\n",
              "      <th>19917</th>\n",
              "      <td>-1.249265</td>\n",
              "      <td>0.189084</td>\n",
              "      <td>-0.308479</td>\n",
              "      <td>-0.782325</td>\n",
              "      <td>0.753366</td>\n",
              "      <td>-0.414415</td>\n",
              "      <td>1</td>\n",
              "      <td>0</td>\n",
              "      <td>0</td>\n",
              "      <td>1</td>\n",
              "      <td>0</td>\n",
              "      <td>0</td>\n",
              "      <td>0</td>\n",
              "      <td>0</td>\n",
              "      <td>0</td>\n",
              "      <td>0</td>\n",
              "      <td>0</td>\n",
              "      <td>1</td>\n",
              "      <td>0</td>\n",
              "      <td>0</td>\n",
              "      <td>1</td>\n",
              "      <td>1</td>\n",
              "      <td>0</td>\n",
              "      <td>0</td>\n",
              "      <td>0</td>\n",
              "      <td>0</td>\n",
              "      <td>0</td>\n",
              "      <td>1</td>\n",
              "      <td>1</td>\n",
              "      <td>0</td>\n",
              "      <td>0</td>\n",
              "      <td>1</td>\n",
              "      <td>0</td>\n",
              "      <td>0</td>\n",
              "      <td>1</td>\n",
              "      <td>1</td>\n",
              "      <td>0</td>\n",
              "      <td>0</td>\n",
              "      <td>1</td>\n",
              "      <td>0</td>\n",
              "      <td>0</td>\n",
              "      <td>0</td>\n",
              "      <td>0</td>\n",
              "      <td>0</td>\n",
              "      <td>0</td>\n",
              "      <td>1</td>\n",
              "      <td>0</td>\n",
              "      <td>0</td>\n",
              "      <td>0</td>\n",
              "      <td>0</td>\n",
              "      <td>0</td>\n",
              "    </tr>\n",
              "    <tr>\n",
              "      <th>19918</th>\n",
              "      <td>-1.060786</td>\n",
              "      <td>0.211478</td>\n",
              "      <td>0.646508</td>\n",
              "      <td>0.382848</td>\n",
              "      <td>-1.419007</td>\n",
              "      <td>2.642349</td>\n",
              "      <td>0</td>\n",
              "      <td>1</td>\n",
              "      <td>0</td>\n",
              "      <td>0</td>\n",
              "      <td>1</td>\n",
              "      <td>0</td>\n",
              "      <td>0</td>\n",
              "      <td>0</td>\n",
              "      <td>0</td>\n",
              "      <td>0</td>\n",
              "      <td>1</td>\n",
              "      <td>0</td>\n",
              "      <td>0</td>\n",
              "      <td>0</td>\n",
              "      <td>1</td>\n",
              "      <td>0</td>\n",
              "      <td>1</td>\n",
              "      <td>0</td>\n",
              "      <td>0</td>\n",
              "      <td>1</td>\n",
              "      <td>0</td>\n",
              "      <td>0</td>\n",
              "      <td>0</td>\n",
              "      <td>0</td>\n",
              "      <td>1</td>\n",
              "      <td>1</td>\n",
              "      <td>0</td>\n",
              "      <td>0</td>\n",
              "      <td>1</td>\n",
              "      <td>0</td>\n",
              "      <td>1</td>\n",
              "      <td>0</td>\n",
              "      <td>0</td>\n",
              "      <td>0</td>\n",
              "      <td>0</td>\n",
              "      <td>1</td>\n",
              "      <td>0</td>\n",
              "      <td>0</td>\n",
              "      <td>0</td>\n",
              "      <td>0</td>\n",
              "      <td>0</td>\n",
              "      <td>0</td>\n",
              "      <td>0</td>\n",
              "      <td>1</td>\n",
              "      <td>0</td>\n",
              "    </tr>\n",
              "  </tbody>\n",
              "</table>\n",
              "<p>17956 rows × 51 columns</p>\n",
              "</div>"
            ],
            "text/plain": [
              "            age  ...  feedback_User Friendly Website\n",
              "0      0.824002  ...                               0\n",
              "1      0.258566  ...                               0\n",
              "2     -0.369697  ...                               0\n",
              "3      1.703570  ...                               0\n",
              "4     -1.312091  ...                               0\n",
              "...         ...  ...                             ...\n",
              "19914 -1.563396  ...                               0\n",
              "19915  0.195739  ...                               0\n",
              "19916  1.138133  ...                               0\n",
              "19917 -1.249265  ...                               0\n",
              "19918 -1.060786  ...                               0\n",
              "\n",
              "[17956 rows x 51 columns]"
            ]
          },
          "metadata": {
            "tags": []
          },
          "execution_count": 271
        }
      ]
    },
    {
      "cell_type": "code",
      "metadata": {
        "id": "vYtlC5OqKz74"
      },
      "source": [
        "ans['churn_risk_score']=3"
      ],
      "execution_count": null,
      "outputs": []
    },
    {
      "cell_type": "code",
      "metadata": {
        "colab": {
          "base_uri": "https://localhost:8080/",
          "height": 402
        },
        "id": "sxU4UIVgK5y_",
        "outputId": "b7f43ae3-d94e-4d19-af83-87e316a76575"
      },
      "source": [
        "ans"
      ],
      "execution_count": null,
      "outputs": [
        {
          "output_type": "execute_result",
          "data": {
            "text/html": [
              "<div>\n",
              "<style scoped>\n",
              "    .dataframe tbody tr th:only-of-type {\n",
              "        vertical-align: middle;\n",
              "    }\n",
              "\n",
              "    .dataframe tbody tr th {\n",
              "        vertical-align: top;\n",
              "    }\n",
              "\n",
              "    .dataframe thead th {\n",
              "        text-align: right;\n",
              "    }\n",
              "</style>\n",
              "<table border=\"1\" class=\"dataframe\">\n",
              "  <thead>\n",
              "    <tr style=\"text-align: right;\">\n",
              "      <th></th>\n",
              "      <th>customer_id</th>\n",
              "      <th>churn_risk_score</th>\n",
              "    </tr>\n",
              "  </thead>\n",
              "  <tbody>\n",
              "    <tr>\n",
              "      <th>0</th>\n",
              "      <td>fffe43004900440031003700300030003400</td>\n",
              "      <td>3</td>\n",
              "    </tr>\n",
              "    <tr>\n",
              "      <th>1</th>\n",
              "      <td>fffe43004900440031003900370037003300</td>\n",
              "      <td>3</td>\n",
              "    </tr>\n",
              "    <tr>\n",
              "      <th>2</th>\n",
              "      <td>fffe43004900440034003800360037003000</td>\n",
              "      <td>3</td>\n",
              "    </tr>\n",
              "    <tr>\n",
              "      <th>3</th>\n",
              "      <td>fffe43004900440036003200370033003400</td>\n",
              "      <td>3</td>\n",
              "    </tr>\n",
              "    <tr>\n",
              "      <th>4</th>\n",
              "      <td>fffe43004900440035003000370031003900</td>\n",
              "      <td>3</td>\n",
              "    </tr>\n",
              "    <tr>\n",
              "      <th>...</th>\n",
              "      <td>...</td>\n",
              "      <td>...</td>\n",
              "    </tr>\n",
              "    <tr>\n",
              "      <th>19914</th>\n",
              "      <td>fffe43004900440035003600330037003800</td>\n",
              "      <td>3</td>\n",
              "    </tr>\n",
              "    <tr>\n",
              "      <th>19915</th>\n",
              "      <td>fffe43004900440032003900370037003100</td>\n",
              "      <td>3</td>\n",
              "    </tr>\n",
              "    <tr>\n",
              "      <th>19916</th>\n",
              "      <td>fffe43004900440036003100310036003700</td>\n",
              "      <td>3</td>\n",
              "    </tr>\n",
              "    <tr>\n",
              "      <th>19917</th>\n",
              "      <td>fffe43004900440034003200330033003600</td>\n",
              "      <td>3</td>\n",
              "    </tr>\n",
              "    <tr>\n",
              "      <th>19918</th>\n",
              "      <td>fffe43004900440036003200340030003100</td>\n",
              "      <td>3</td>\n",
              "    </tr>\n",
              "  </tbody>\n",
              "</table>\n",
              "<p>19919 rows × 2 columns</p>\n",
              "</div>"
            ],
            "text/plain": [
              "                                customer_id  churn_risk_score\n",
              "0      fffe43004900440031003700300030003400                 3\n",
              "1      fffe43004900440031003900370037003300                 3\n",
              "2      fffe43004900440034003800360037003000                 3\n",
              "3      fffe43004900440036003200370033003400                 3\n",
              "4      fffe43004900440035003000370031003900                 3\n",
              "...                                     ...               ...\n",
              "19914  fffe43004900440035003600330037003800                 3\n",
              "19915  fffe43004900440032003900370037003100                 3\n",
              "19916  fffe43004900440036003100310036003700                 3\n",
              "19917  fffe43004900440034003200330033003600                 3\n",
              "19918  fffe43004900440036003200340030003100                 3\n",
              "\n",
              "[19919 rows x 2 columns]"
            ]
          },
          "metadata": {
            "tags": []
          },
          "execution_count": 278
        }
      ]
    },
    {
      "cell_type": "code",
      "metadata": {
        "id": "4jyIsBBcLkvB"
      },
      "source": [
        "k=0\n",
        "for i in test.index:\n",
        "  ans.at[i,'churn_risk_score']=l[k]\n",
        "  k+=1"
      ],
      "execution_count": null,
      "outputs": []
    },
    {
      "cell_type": "code",
      "metadata": {
        "colab": {
          "base_uri": "https://localhost:8080/",
          "height": 402
        },
        "id": "KOwLt__KMFqs",
        "outputId": "5a86afd0-5f42-4164-97dc-c3ef97474c5a"
      },
      "source": [
        "ans"
      ],
      "execution_count": null,
      "outputs": [
        {
          "output_type": "execute_result",
          "data": {
            "text/html": [
              "<div>\n",
              "<style scoped>\n",
              "    .dataframe tbody tr th:only-of-type {\n",
              "        vertical-align: middle;\n",
              "    }\n",
              "\n",
              "    .dataframe tbody tr th {\n",
              "        vertical-align: top;\n",
              "    }\n",
              "\n",
              "    .dataframe thead th {\n",
              "        text-align: right;\n",
              "    }\n",
              "</style>\n",
              "<table border=\"1\" class=\"dataframe\">\n",
              "  <thead>\n",
              "    <tr style=\"text-align: right;\">\n",
              "      <th></th>\n",
              "      <th>customer_id</th>\n",
              "      <th>churn_risk_score</th>\n",
              "    </tr>\n",
              "  </thead>\n",
              "  <tbody>\n",
              "    <tr>\n",
              "      <th>0</th>\n",
              "      <td>fffe43004900440031003700300030003400</td>\n",
              "      <td>2</td>\n",
              "    </tr>\n",
              "    <tr>\n",
              "      <th>1</th>\n",
              "      <td>fffe43004900440031003900370037003300</td>\n",
              "      <td>2</td>\n",
              "    </tr>\n",
              "    <tr>\n",
              "      <th>2</th>\n",
              "      <td>fffe43004900440034003800360037003000</td>\n",
              "      <td>2</td>\n",
              "    </tr>\n",
              "    <tr>\n",
              "      <th>3</th>\n",
              "      <td>fffe43004900440036003200370033003400</td>\n",
              "      <td>3</td>\n",
              "    </tr>\n",
              "    <tr>\n",
              "      <th>4</th>\n",
              "      <td>fffe43004900440035003000370031003900</td>\n",
              "      <td>4</td>\n",
              "    </tr>\n",
              "    <tr>\n",
              "      <th>...</th>\n",
              "      <td>...</td>\n",
              "      <td>...</td>\n",
              "    </tr>\n",
              "    <tr>\n",
              "      <th>19914</th>\n",
              "      <td>fffe43004900440035003600330037003800</td>\n",
              "      <td>2</td>\n",
              "    </tr>\n",
              "    <tr>\n",
              "      <th>19915</th>\n",
              "      <td>fffe43004900440032003900370037003100</td>\n",
              "      <td>4</td>\n",
              "    </tr>\n",
              "    <tr>\n",
              "      <th>19916</th>\n",
              "      <td>fffe43004900440036003100310036003700</td>\n",
              "      <td>4</td>\n",
              "    </tr>\n",
              "    <tr>\n",
              "      <th>19917</th>\n",
              "      <td>fffe43004900440034003200330033003600</td>\n",
              "      <td>3</td>\n",
              "    </tr>\n",
              "    <tr>\n",
              "      <th>19918</th>\n",
              "      <td>fffe43004900440036003200340030003100</td>\n",
              "      <td>2</td>\n",
              "    </tr>\n",
              "  </tbody>\n",
              "</table>\n",
              "<p>19919 rows × 2 columns</p>\n",
              "</div>"
            ],
            "text/plain": [
              "                                customer_id  churn_risk_score\n",
              "0      fffe43004900440031003700300030003400                 2\n",
              "1      fffe43004900440031003900370037003300                 2\n",
              "2      fffe43004900440034003800360037003000                 2\n",
              "3      fffe43004900440036003200370033003400                 3\n",
              "4      fffe43004900440035003000370031003900                 4\n",
              "...                                     ...               ...\n",
              "19914  fffe43004900440035003600330037003800                 2\n",
              "19915  fffe43004900440032003900370037003100                 4\n",
              "19916  fffe43004900440036003100310036003700                 4\n",
              "19917  fffe43004900440034003200330033003600                 3\n",
              "19918  fffe43004900440036003200340030003100                 2\n",
              "\n",
              "[19919 rows x 2 columns]"
            ]
          },
          "metadata": {
            "tags": []
          },
          "execution_count": 337
        }
      ]
    },
    {
      "cell_type": "code",
      "metadata": {
        "colab": {
          "base_uri": "https://localhost:8080/"
        },
        "id": "1T13WHNDOeZ7",
        "outputId": "2b9deccc-6c1e-4ee5-bef4-2b4460f7710b"
      },
      "source": [
        "ls=ans['churn_risk_score']\n",
        "l=np.array(l)\n",
        "np.unique(l)"
      ],
      "execution_count": null,
      "outputs": [
        {
          "output_type": "execute_result",
          "data": {
            "text/plain": [
              "array([0, 1, 2, 3, 4])"
            ]
          },
          "metadata": {
            "tags": []
          },
          "execution_count": 338
        }
      ]
    },
    {
      "cell_type": "code",
      "metadata": {
        "colab": {
          "base_uri": "https://localhost:8080/",
          "height": 47
        },
        "id": "PjzORD4gP5EN",
        "outputId": "2d6c6e9b-9686-4dd7-cb11-4ae09044bb80"
      },
      "source": [
        "ans[ans['churn_risk_score']==-1]"
      ],
      "execution_count": null,
      "outputs": [
        {
          "output_type": "execute_result",
          "data": {
            "text/html": [
              "<div>\n",
              "<style scoped>\n",
              "    .dataframe tbody tr th:only-of-type {\n",
              "        vertical-align: middle;\n",
              "    }\n",
              "\n",
              "    .dataframe tbody tr th {\n",
              "        vertical-align: top;\n",
              "    }\n",
              "\n",
              "    .dataframe thead th {\n",
              "        text-align: right;\n",
              "    }\n",
              "</style>\n",
              "<table border=\"1\" class=\"dataframe\">\n",
              "  <thead>\n",
              "    <tr style=\"text-align: right;\">\n",
              "      <th></th>\n",
              "      <th>customer_id</th>\n",
              "      <th>churn_risk_score</th>\n",
              "    </tr>\n",
              "  </thead>\n",
              "  <tbody>\n",
              "  </tbody>\n",
              "</table>\n",
              "</div>"
            ],
            "text/plain": [
              "Empty DataFrame\n",
              "Columns: [customer_id, churn_risk_score]\n",
              "Index: []"
            ]
          },
          "metadata": {
            "tags": []
          },
          "execution_count": 308
        }
      ]
    },
    {
      "cell_type": "code",
      "metadata": {
        "id": "M08MD1cJQEXk"
      },
      "source": [
        ""
      ],
      "execution_count": null,
      "outputs": []
    }
  ]
}